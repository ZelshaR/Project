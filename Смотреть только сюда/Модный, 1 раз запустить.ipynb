{
 "cells": [
  {
   "cell_type": "code",
   "execution_count": 1,
   "id": "dcd65d90",
   "metadata": {},
   "outputs": [],
   "source": [
    "import numpy as np\n",
    "import pandas as pd\n",
    "import datetime as dt\n",
    "import matplotlib.pyplot as plt\n",
    "%matplotlib inline"
   ]
  },
  {
   "cell_type": "code",
   "execution_count": 2,
   "id": "92295fa7",
   "metadata": {},
   "outputs": [],
   "source": [
    "df = pd.read_csv('https://raw.githubusercontent.com/owid/covid-19-data/master/public/data/owid-covid-data.csv')\n",
    "\n",
    "Norm = pd.read_csv('https://raw.githubusercontent.com/ZelshaR/Project/main/NoteBooks/CSVs/newdfc.csv')\n",
    "Norm.index = Norm['Unnamed: 0'].values\n",
    "del Norm['Unnamed: 0']\n",
    "\n",
    "dfv = pd.read_csv('https://raw.githubusercontent.com/ZelshaR/Project/main/NoteBooks/CSVs/dfv.csv')"
   ]
  },
  {
   "cell_type": "code",
   "execution_count": 3,
   "id": "73e17109",
   "metadata": {},
   "outputs": [],
   "source": [
    "df['date'] = pd.to_datetime(df['date'])"
   ]
  },
  {
   "cell_type": "code",
   "execution_count": 4,
   "id": "b6740375",
   "metadata": {
    "scrolled": true
   },
   "outputs": [
    {
     "name": "stderr",
     "output_type": "stream",
     "text": [
      "<ipython-input-4-4af1d23511bc>:3: SettingWithCopyWarning: \n",
      "A value is trying to be set on a copy of a slice from a DataFrame\n",
      "\n",
      "See the caveats in the documentation: https://pandas.pydata.org/pandas-docs/stable/user_guide/indexing.html#returning-a-view-versus-a-copy\n",
      "  df['nam'][i] = (dt.date(2020,df['date'][i].month,df['date'][i].day) - dt.date(2020,1,1)).days\n",
      "C:\\Users\\user01\\anaconda3\\lib\\site-packages\\pandas\\core\\indexing.py:1637: SettingWithCopyWarning: \n",
      "A value is trying to be set on a copy of a slice from a DataFrame\n",
      "\n",
      "See the caveats in the documentation: https://pandas.pydata.org/pandas-docs/stable/user_guide/indexing.html#returning-a-view-versus-a-copy\n",
      "  self._setitem_single_block(indexer, value, name)\n"
     ]
    }
   ],
   "source": [
    "df['nam'] = 0\n",
    "for i in range(len(df)):\n",
    "    df['nam'][i] = (dt.date(2020,df['date'][i].month,df['date'][i].day) - dt.date(2020,1,1)).days\n",
    "for i in range(len(df)):\n",
    "    if df['date'].iloc[i].year == 2021:\n",
    "        df['nam'].iloc[i] = df['nam'].iloc[i]+365\n",
    "    elif df['date'].iloc[i].year == 2022:\n",
    "        df['nam'].iloc[i] = df['nam'].iloc[i]+730"
   ]
  },
  {
   "cell_type": "code",
   "execution_count": 5,
   "id": "c0f0cb56",
   "metadata": {},
   "outputs": [],
   "source": [
    "dfc = pd.DataFrame(columns = df['location'].unique(), index = list(range(1,max(df['nam'] + 1))))\n",
    "#dfc = dfv.fillna(0)\n",
    "\n",
    "dfd = pd.DataFrame(columns = df['location'].unique(), index = list(range(1,max(df['nam'] + 1))))\n",
    "#dfd = dfv.fillna(0)\n",
    "\n",
    "dfc = pd.DataFrame(columns = df['location'].unique(), index = list(range(1,max(df['nam'] + 1))))\n",
    "#dfc = dfv.fillna(0)"
   ]
  },
  {
   "cell_type": "code",
   "execution_count": null,
   "id": "14741aba",
   "metadata": {},
   "outputs": [],
   "source": []
  },
  {
   "cell_type": "code",
   "execution_count": null,
   "id": "695bc36c",
   "metadata": {},
   "outputs": [],
   "source": []
  },
  {
   "cell_type": "code",
   "execution_count": 6,
   "id": "4669e3f1",
   "metadata": {},
   "outputs": [],
   "source": [
    "for i in range(len(df)):\n",
    "    dfc[df['location'][i]][df['nam'][i]]=df['new_cases'][i]\n",
    "for i in range(len(df)):\n",
    "    dfd[df['location'][i]][df['nam'][i]]=df['new_deaths'][i]"
   ]
  },
  {
   "cell_type": "code",
   "execution_count": 7,
   "id": "957db3f2",
   "metadata": {},
   "outputs": [],
   "source": [
    "a = Norm.columns\n",
    "b = dfc.columns\n",
    "c = list(set(b) - set(a))"
   ]
  },
  {
   "cell_type": "code",
   "execution_count": 8,
   "id": "84a916e3",
   "metadata": {},
   "outputs": [],
   "source": [
    "for i in c:\n",
    "    del dfd[i]\n",
    "    del dfc[i]"
   ]
  },
  {
   "cell_type": "code",
   "execution_count": null,
   "id": "bb84a443",
   "metadata": {},
   "outputs": [],
   "source": []
  },
  {
   "cell_type": "code",
   "execution_count": 9,
   "id": "d0584ffc",
   "metadata": {},
   "outputs": [],
   "source": [
    "for h in dfd.columns:    \n",
    "    for i in range(len(dfd)):\n",
    "        if dfd[h].iloc[i] < 0:\n",
    "            dfd[h].iloc[i] = 0\n",
    "for h in dfc.columns:    \n",
    "    for i in range(len(dfc)):\n",
    "        if dfc[h].iloc[i] < 0:\n",
    "            dfc[h].iloc[i] = fc[h].iloc[i] * (-1)"
   ]
  },
  {
   "cell_type": "code",
   "execution_count": 10,
   "id": "91b09151",
   "metadata": {
    "scrolled": true
   },
   "outputs": [],
   "source": [
    "dfc = dfc.drop(labels = [424],axis = 0)\n",
    "dfc = dfc.drop(labels = [789],axis = 0)\n",
    "\n",
    "dfd = dfd.drop(labels = [424],axis = 0)\n",
    "dfd = dfd.drop(labels = [789],axis = 0)"
   ]
  },
  {
   "cell_type": "code",
   "execution_count": 11,
   "id": "4d755926",
   "metadata": {},
   "outputs": [],
   "source": [
    "dfc = dfc.fillna(0)\n",
    "dfd = dfd.fillna(0)"
   ]
  },
  {
   "cell_type": "code",
   "execution_count": 12,
   "id": "31fecf92",
   "metadata": {},
   "outputs": [],
   "source": [
    "dfc.to_csv('newdfc.csv')\n",
    "dfd.to_csv('newdfd.csv')"
   ]
  },
  {
   "cell_type": "code",
   "execution_count": 13,
   "id": "1a918826",
   "metadata": {},
   "outputs": [],
   "source": [
    "corlist = dfc.columns\n",
    "dfcsr = dfc.copy(deep=True)\n",
    "dfdsr = dfd.copy(deep=True)\n",
    "for i in corlist:\n",
    "    for j in range(len(dfcsr)):\n",
    "        dfcsr[i].iloc[j] = (dfc[i].iloc[j]-min(dfc[i]))/(max(dfc[i])-min(dfc[i]))\n",
    "for i in corlist:\n",
    "    for j in range(len(dfdsr)):\n",
    "        dfdsr[i].iloc[j] = (dfd[i].iloc[j]-min(dfd[i]))/(max(dfd[i])-min(dfd[i]))"
   ]
  },
  {
   "cell_type": "code",
   "execution_count": 14,
   "id": "d6cca339",
   "metadata": {},
   "outputs": [],
   "source": [
    "dfcsr.to_csv('newdfcsr.csv')\n",
    "dfdsr.to_csv('newdfdsr.csv')"
   ]
  },
  {
   "cell_type": "code",
   "execution_count": 15,
   "id": "aff13d5c",
   "metadata": {},
   "outputs": [],
   "source": [
    "delta = pd.DataFrame(columns = dfcsr.columns, index = dfcsr.index)"
   ]
  },
  {
   "cell_type": "code",
   "execution_count": 16,
   "id": "df0e9096",
   "metadata": {},
   "outputs": [],
   "source": [
    "for i in range(1, len(dfc)):\n",
    "    for j in dfcsr.columns:\n",
    "        delta[j].iloc[i] = dfcsr[j].iloc[i] - dfcsr[j].iloc[i-1]"
   ]
  },
  {
   "cell_type": "code",
   "execution_count": 17,
   "id": "b0fae327",
   "metadata": {},
   "outputs": [],
   "source": [
    "delta = delta.fillna(0)"
   ]
  },
  {
   "cell_type": "code",
   "execution_count": 18,
   "id": "f085b026",
   "metadata": {},
   "outputs": [],
   "source": [
    "delta.to_csv('delta.csv')"
   ]
  },
  {
   "cell_type": "code",
   "execution_count": null,
   "id": "6a02288f",
   "metadata": {},
   "outputs": [],
   "source": []
  },
  {
   "cell_type": "code",
   "execution_count": null,
   "id": "d0e64e8c",
   "metadata": {},
   "outputs": [],
   "source": []
  }
 ],
 "metadata": {
  "kernelspec": {
   "display_name": "Python 3",
   "language": "python",
   "name": "python3"
  },
  "language_info": {
   "codemirror_mode": {
    "name": "ipython",
    "version": 3
   },
   "file_extension": ".py",
   "mimetype": "text/x-python",
   "name": "python",
   "nbconvert_exporter": "python",
   "pygments_lexer": "ipython3",
   "version": "3.8.8"
  }
 },
 "nbformat": 4,
 "nbformat_minor": 5
}

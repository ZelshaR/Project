{
 "cells": [
  {
   "cell_type": "code",
   "execution_count": 36,
   "id": "7ed1697f",
   "metadata": {},
   "outputs": [],
   "source": [
    "import pandas as pd\n",
    "import numpy as np\n",
    "import plotly.express as px\n",
    "import plotly.graph_objects as go\n",
    "import matplotlib.pyplot as plt\n",
    "import seaborn as sns\n",
    "import dash\n",
    "import datetime as dt\n",
    "from matplotlib.colors import ListedColormap\n",
    "lr = LinearRegression()\n",
    "from dash import dcc\n",
    "from dash import html\n",
    "from itertools import chain\n",
    "from collections import Counter\n",
    "from dash.dependencies import Input, Output\n",
    "from sklearn.pipeline import make_pipeline\n",
    "\n",
    "import plotly.graph_objects as go\n",
    "from plotly.subplots import make_subplots\n",
    "\n",
    "from sklearn.linear_model import LinearRegression\n",
    "lr = LinearRegression()\n",
    "\n",
    "from sklearn.preprocessing import PolynomialFeatures\n",
    "\n",
    "from sklearn.metrics import mean_squared_error"
   ]
  },
  {
   "cell_type": "code",
   "execution_count": null,
   "id": "8d0d4fe1",
   "metadata": {},
   "outputs": [],
   "source": []
  },
  {
   "cell_type": "code",
   "execution_count": 2,
   "id": "e76275c2",
   "metadata": {},
   "outputs": [],
   "source": [
    "#dfd = pd.read_csv(\"CSVs\\dfdd.csv\")\n",
    "#dfd.index = dfd['Unnamed: 0'].values\n",
    "#del dfd['Unnamed: 0']\n",
    "\n",
    "#dfc = pd.read_csv(\"CSVs\\dfcc.csv\")\n",
    "#dfc.index = dfc['Unnamed: 0'].values\n",
    "#del dfc['Unnamed: 0']"
   ]
  },
  {
   "cell_type": "code",
   "execution_count": 3,
   "id": "b5fb77c9",
   "metadata": {},
   "outputs": [],
   "source": [
    "dfc = pd.read_csv('https://raw.githubusercontent.com/ZelshaR/Project/main/NoteBooks/CSVs/newdfc.csv')\n",
    "dfc.index = dfc['Unnamed: 0'].values\n",
    "del dfc['Unnamed: 0']\n",
    "\n",
    "dfd = pd.read_csv('https://raw.githubusercontent.com/ZelshaR/Project/main/NoteBooks/CSVs/newdfd.csv')\n",
    "dfd.index = dfd['Unnamed: 0'].values\n",
    "del dfd['Unnamed: 0']\n",
    "\n",
    "dfdsr = pd.read_csv('https://raw.githubusercontent.com/ZelshaR/Project/main/NoteBooks/CSVs/newdfdsr.csv')\n",
    "dfdsr.index = dfdsr['Unnamed: 0'].values\n",
    "del dfdsr['Unnamed: 0']\n",
    "\n",
    "dfcsr = pd.read_csv('https://raw.githubusercontent.com/ZelshaR/Project/main/NoteBooks/CSVs/newdfcsr.csv')\n",
    "dfcsr.index = dfcsr['Unnamed: 0'].values\n",
    "del dfcsr['Unnamed: 0']\n",
    "\n",
    "delta = pd.read_csv('https://raw.githubusercontent.com/ZelshaR/Project/main/NoteBooks/CSVs/delta.csv')\n",
    "delta.index = delta['Unnamed: 0'].values\n",
    "del delta['Unnamed: 0']"
   ]
  },
  {
   "cell_type": "code",
   "execution_count": 4,
   "id": "611f86ae",
   "metadata": {},
   "outputs": [],
   "source": [
    "#corlist = dfc.columns\n",
    "#dfcsr = dfc.copy(deep=True)\n",
    "#dfdsr = dfd.copy(deep=True)\n",
    "#for i in corlist:\n",
    "#    for j in range(706):\n",
    "#        dfcsr[i].iloc[j] = (dfcsr[i].iloc[j]-min(dfcsr[i]))/(max(dfcsr[i])-min(dfcsr[i]))\n",
    "#for i in corlist:\n",
    "#    for j in range(706):\n",
    "#        dfdsr[i].iloc[j] = (dfdsr[i].iloc[j]-min(dfdsr[i]))/(max(dfdsr[i])-min(dfdsr[i]))"
   ]
  },
  {
   "cell_type": "code",
   "execution_count": 5,
   "id": "4abc125a",
   "metadata": {},
   "outputs": [],
   "source": [
    "#dfcsr.drop(dfcsr.head(10).index,inplace=True)\n",
    "#dfcsr.drop(dfcsr.tail(10).index,inplace=True)"
   ]
  },
  {
   "cell_type": "code",
   "execution_count": 6,
   "id": "71487522",
   "metadata": {},
   "outputs": [],
   "source": [
    "delta = delta.fillna(0)"
   ]
  },
  {
   "cell_type": "code",
   "execution_count": 7,
   "id": "ca91d2a7",
   "metadata": {},
   "outputs": [],
   "source": [
    "a = np.concatenate((dfcsr['United Kingdom'].values, dfcsr['Georgia'].values, dfcsr['Belarus'].values, dfcsr['Lithuania'].values, dfcsr['Europe'].values), axis = 0)\n",
    "#yaxis = a.reshape(6,706)"
   ]
  },
  {
   "cell_type": "code",
   "execution_count": 8,
   "id": "171cda4f",
   "metadata": {},
   "outputs": [],
   "source": [
    "yaxis = delta['Russia'].values\n",
    "xaxis = [i for i in range(1,len(delta) + 1)]"
   ]
  },
  {
   "cell_type": "code",
   "execution_count": 9,
   "id": "4882114c",
   "metadata": {},
   "outputs": [],
   "source": [
    "#lol"
   ]
  },
  {
   "cell_type": "code",
   "execution_count": 10,
   "id": "b16e9ae3",
   "metadata": {
    "scrolled": true
   },
   "outputs": [
    {
     "data": {
      "image/png": "[encoded data removed]",
      "text/plain": [
       "<Figure size 720x360 with 1 Axes>"
      ]
     },
     "metadata": {
      "needs_background": "light"
     },
     "output_type": "display_data"
    }
   ],
   "source": [
    "plt.figure(figsize=(10,5))\n",
    "plt.plot(xaxis, yaxis)\n",
    "plt.xlabel('Дни')\n",
    "plt.ylabel('Количество заражённых')\n",
    "plt.show()"
   ]
  },
  {
   "cell_type": "code",
   "execution_count": 11,
   "id": "0d46bdae",
   "metadata": {},
   "outputs": [
    {
     "data": {
      "text/plain": [
       "1          0.0\n",
       "2          0.0\n",
       "3          0.0\n",
       "4          0.0\n",
       "5          0.0\n",
       "        ...   \n",
       "798    57787.0\n",
       "799    50284.0\n",
       "800    49710.0\n",
       "801    47096.0\n",
       "802    43951.0\n",
       "Name: Russia, Length: 800, dtype: float64"
      ]
     },
     "execution_count": 11,
     "metadata": {},
     "output_type": "execute_result"
    }
   ],
   "source": [
    "dfc['Russia']"
   ]
  },
  {
   "cell_type": "code",
   "execution_count": 12,
   "id": "4daf1b80",
   "metadata": {},
   "outputs": [
    {
     "data": {
      "text/plain": [
       "LinearRegression()"
      ]
     },
     "execution_count": 12,
     "metadata": {},
     "output_type": "execute_result"
    }
   ],
   "source": [
    "xaxis1 = np.reshape(xaxis, (-1, 1))\n",
    "lr.fit(xaxis1, yaxis)"
   ]
  },
  {
   "cell_type": "code",
   "execution_count": 13,
   "id": "aa7b48ab",
   "metadata": {
    "scrolled": true
   },
   "outputs": [
    {
     "data": {
      "image/png": "[encoded data removed]",
      "text/plain": [
       "<Figure size 720x360 with 1 Axes>"
      ]
     },
     "metadata": {
      "needs_background": "light"
     },
     "output_type": "display_data"
    }
   ],
   "source": [
    "plt.figure(figsize=(10,5))\n",
    "plt.plot(xaxis, yaxis, label='Данные для тренировки')\n",
    "plt.plot(xaxis,lr.predict(xaxis1), label='Предсказание', c='red')\n",
    "plt.legend()\n",
    "plt.show()"
   ]
  },
  {
   "cell_type": "code",
   "execution_count": 14,
   "id": "c1204d3b",
   "metadata": {},
   "outputs": [
    {
     "ename": "NameError",
     "evalue": "name 'xaxis_' is not defined",
     "output_type": "error",
     "traceback": [
      "\u001b[1;31m---------------------------------------------------------------------------\u001b[0m",
      "\u001b[1;31mNameError\u001b[0m                                 Traceback (most recent call last)",
      "\u001b[1;32m~\\AppData\\Local\\Temp/ipykernel_6820/3046227627.py\u001b[0m in \u001b[0;36m<module>\u001b[1;34m\u001b[0m\n\u001b[1;32m----> 1\u001b[1;33m \u001b[0mxaxis_\u001b[0m\u001b[1;33m\u001b[0m\u001b[1;33m\u001b[0m\u001b[0m\n\u001b[0m",
      "\u001b[1;31mNameError\u001b[0m: name 'xaxis_' is not defined"
     ]
    }
   ],
   "source": [
    "xaxis_"
   ]
  },
  {
   "cell_type": "code",
   "execution_count": 15,
   "id": "d264bbf7",
   "metadata": {},
   "outputs": [],
   "source": [
    "g = np.reshape(delta.index, (-1, 1))"
   ]
  },
  {
   "cell_type": "code",
   "execution_count": 16,
   "id": "cca90620",
   "metadata": {},
   "outputs": [
    {
     "ename": "NameError",
     "evalue": "name 'cd' is not defined",
     "output_type": "error",
     "traceback": [
      "\u001b[1;31m---------------------------------------------------------------------------\u001b[0m",
      "\u001b[1;31mNameError\u001b[0m                                 Traceback (most recent call last)",
      "\u001b[1;32m~\\AppData\\Local\\Temp/ipykernel_6820/4071861764.py\u001b[0m in \u001b[0;36m<module>\u001b[1;34m\u001b[0m\n\u001b[1;32m----> 1\u001b[1;33m \u001b[0mcd\u001b[0m\u001b[1;33m.\u001b[0m\u001b[0mindex\u001b[0m\u001b[1;33m\u001b[0m\u001b[1;33m\u001b[0m\u001b[0m\n\u001b[0m",
      "\u001b[1;31mNameError\u001b[0m: name 'cd' is not defined"
     ]
    }
   ],
   "source": [
    "cd.index"
   ]
  },
  {
   "cell_type": "code",
   "execution_count": 17,
   "id": "015d6f1c",
   "metadata": {},
   "outputs": [
    {
     "data": {
      "text/html": [
       "<div>\n",
       "<style scoped>\n",
       "    .dataframe tbody tr th:only-of-type {\n",
       "        vertical-align: middle;\n",
       "    }\n",
       "\n",
       "    .dataframe tbody tr th {\n",
       "        vertical-align: top;\n",
       "    }\n",
       "\n",
       "    .dataframe thead th {\n",
       "        text-align: right;\n",
       "    }\n",
       "</style>\n",
       "<table border=\"1\" class=\"dataframe\">\n",
       "  <thead>\n",
       "    <tr style=\"text-align: right;\">\n",
       "      <th></th>\n",
       "      <th>Russia</th>\n",
       "      <th>United Kingdom</th>\n",
       "      <th>Belarus</th>\n",
       "      <th>Georgia</th>\n",
       "      <th>Europe</th>\n",
       "    </tr>\n",
       "  </thead>\n",
       "  <tbody>\n",
       "    <tr>\n",
       "      <th>1</th>\n",
       "      <td>0.000000</td>\n",
       "      <td>0.000000</td>\n",
       "      <td>0.000000</td>\n",
       "      <td>0.000000</td>\n",
       "      <td>0.000000</td>\n",
       "    </tr>\n",
       "    <tr>\n",
       "      <th>2</th>\n",
       "      <td>0.000000</td>\n",
       "      <td>0.000000</td>\n",
       "      <td>0.000000</td>\n",
       "      <td>0.000000</td>\n",
       "      <td>0.000000</td>\n",
       "    </tr>\n",
       "    <tr>\n",
       "      <th>3</th>\n",
       "      <td>0.000000</td>\n",
       "      <td>0.000000</td>\n",
       "      <td>0.000000</td>\n",
       "      <td>0.000000</td>\n",
       "      <td>0.000000</td>\n",
       "    </tr>\n",
       "    <tr>\n",
       "      <th>4</th>\n",
       "      <td>0.000000</td>\n",
       "      <td>0.000000</td>\n",
       "      <td>0.000000</td>\n",
       "      <td>0.000000</td>\n",
       "      <td>0.000000</td>\n",
       "    </tr>\n",
       "    <tr>\n",
       "      <th>5</th>\n",
       "      <td>0.000000</td>\n",
       "      <td>0.000000</td>\n",
       "      <td>0.000000</td>\n",
       "      <td>0.000000</td>\n",
       "      <td>0.000000</td>\n",
       "    </tr>\n",
       "    <tr>\n",
       "      <th>...</th>\n",
       "      <td>...</td>\n",
       "      <td>...</td>\n",
       "      <td>...</td>\n",
       "      <td>...</td>\n",
       "      <td>...</td>\n",
       "    </tr>\n",
       "    <tr>\n",
       "      <th>798</th>\n",
       "      <td>0.285776</td>\n",
       "      <td>0.311815</td>\n",
       "      <td>0.138774</td>\n",
       "      <td>0.032865</td>\n",
       "      <td>0.453467</td>\n",
       "    </tr>\n",
       "    <tr>\n",
       "      <th>799</th>\n",
       "      <td>0.248671</td>\n",
       "      <td>0.384883</td>\n",
       "      <td>0.167806</td>\n",
       "      <td>0.074848</td>\n",
       "      <td>0.451312</td>\n",
       "    </tr>\n",
       "    <tr>\n",
       "      <th>800</th>\n",
       "      <td>0.245832</td>\n",
       "      <td>0.332245</td>\n",
       "      <td>0.212869</td>\n",
       "      <td>0.058625</td>\n",
       "      <td>0.435034</td>\n",
       "    </tr>\n",
       "    <tr>\n",
       "      <th>801</th>\n",
       "      <td>0.232905</td>\n",
       "      <td>0.000000</td>\n",
       "      <td>0.216456</td>\n",
       "      <td>0.047226</td>\n",
       "      <td>0.237018</td>\n",
       "    </tr>\n",
       "    <tr>\n",
       "      <th>802</th>\n",
       "      <td>0.217352</td>\n",
       "      <td>0.000000</td>\n",
       "      <td>0.185405</td>\n",
       "      <td>0.031269</td>\n",
       "      <td>0.171676</td>\n",
       "    </tr>\n",
       "  </tbody>\n",
       "</table>\n",
       "<p>800 rows × 5 columns</p>\n",
       "</div>"
      ],
      "text/plain": [
       "       Russia  United Kingdom   Belarus   Georgia    Europe\n",
       "1    0.000000        0.000000  0.000000  0.000000  0.000000\n",
       "2    0.000000        0.000000  0.000000  0.000000  0.000000\n",
       "3    0.000000        0.000000  0.000000  0.000000  0.000000\n",
       "4    0.000000        0.000000  0.000000  0.000000  0.000000\n",
       "5    0.000000        0.000000  0.000000  0.000000  0.000000\n",
       "..        ...             ...       ...       ...       ...\n",
       "798  0.285776        0.311815  0.138774  0.032865  0.453467\n",
       "799  0.248671        0.384883  0.167806  0.074848  0.451312\n",
       "800  0.245832        0.332245  0.212869  0.058625  0.435034\n",
       "801  0.232905        0.000000  0.216456  0.047226  0.237018\n",
       "802  0.217352        0.000000  0.185405  0.031269  0.171676\n",
       "\n",
       "[800 rows x 5 columns]"
      ]
     },
     "execution_count": 17,
     "metadata": {},
     "output_type": "execute_result"
    }
   ],
   "source": [
    "dfcsr[['Russia', 'United Kingdom', 'Belarus', 'Georgia', 'Europe']]"
   ]
  },
  {
   "cell_type": "code",
   "execution_count": null,
   "id": "3975d5d3",
   "metadata": {},
   "outputs": [],
   "source": []
  },
  {
   "cell_type": "code",
   "execution_count": 42,
   "id": "f541c4fc",
   "metadata": {},
   "outputs": [
    {
     "data": {
      "image/png": "[encoded data removed]",
      "text/plain": [
       "<Figure size 720x360 with 1 Axes>"
      ]
     },
     "metadata": {
      "needs_background": "light"
     },
     "output_type": "display_data"
    },
    {
     "name": "stdout",
     "output_type": "stream",
     "text": [
      "[[ 0.00000000e+00  1.39389809e-26  6.61438528e-32  6.02021042e-37\n",
      "  -4.06057969e-37 -1.58127068e-34 -4.89399440e-32 -1.30905298e-29\n",
      "  -2.74871823e-27 -3.49568073e-25  2.24438189e-27 -5.34983052e-30\n",
      "   5.61380330e-33 -2.18901206e-36]]\n",
      "[0.00045685]\n"
     ]
    },
    {
     "data": {
      "application/vnd.plotly.v1+json": {
       "config": {
        "plotlyServerURL": "https://plot.ly"
       },
       "data": [
        {
         "name": "True",
         "type": "scatter",
         "x": [
          1,
          2,
          3,
          4,
          5,
          6,
          7,
          8,
          9,
          10,
          11,
          12,
          13,
          14,
          15,
          16,
          17,
          18,
          19,
          20,
          21,
          22,
          23,
          24,
          25,
          26,
          27,
          28,
          29,
          30,
          31,
          32,
          33,
          34,
          35,
          36,
          37,
          38,
          39,
          40,
          41,
          42,
          43,
          44,
          45,
          46,
          47,
          48,
          49,
          50,
          51,
          52,
          53,
          54,
          55,
          56,
          57,
          58,
          59,
          60,
          61,
          62,
          63,
          64,
          65,
          66,
          67,
          68,
          69,
          70,
          71,
          72,
          73,
          74,
          75,
          76,
          77,
          78,
          79,
          80,
          81,
          82,
          83,
          84,
          85,
          86,
          87,
          88,
          89,
          90,
          91,
          92,
          93,
          94,
          95,
          96,
          97,
          98,
          99,
          100,
          101,
          102,
          103,
          104,
          105,
          106,
          107,
          108,
          109,
          110,
          111,
          112,
          113,
          114,
          115,
          116,
          117,
          118,
          119,
          120,
          121,
          122,
          123,
          124,
          125,
          126,
          127,
          128,
          129,
          130,
          131,
          132,
          133,
          134,
          135,
          136,
          137,
          138,
          139,
          140,
          141,
          142,
          143,
          144,
          145,
          146,
          147,
          148,
          149,
          150,
          151,
          152,
          153,
          154,
          155,
          156,
          157,
          158,
          159,
          160,
          161,
          162,
          163,
          164,
          165,
          166,
          167,
          168,
          169,
          170,
          171,
          172,
          173,
          174,
          175,
          176,
          177,
          178,
          179,
          180,
          181,
          182,
          183,
          184,
          185,
          186,
          187,
          188,
          189,
          190,
          191,
          192,
          193,
          194,
          195,
          196,
          197,
          198,
          199,
          200,
          201,
          202,
          203,
          204,
          205,
          206,
          207,
          208,
          209,
          210,
          211,
          212,
          213,
          214,
          215,
          216,
          217,
          218,
          219,
          220,
          221,
          222,
          223,
          224,
          225,
          226,
          227,
          228,
          229,
          230,
          231,
          232,
          233,
          234,
          235,
          236,
          237,
          238,
          239,
          240,
          241,
          242,
          243,
          244,
          245,
          246,
          247,
          248,
          249,
          250,
          251,
          252,
          253,
          254,
          255,
          256,
          257,
          258,
          259,
          260,
          261,
          262,
          263,
          264,
          265,
          266,
          267,
          268,
          269,
          270,
          271,
          272,
          273,
          274,
          275,
          276,
          277,
          278,
          279,
          280,
          281,
          282,
          283,
          284,
          285,
          286,
          287,
          288,
          289,
          290,
          291,
          292,
          293,
          294,
          295,
          296,
          297,
          298,
          299,
          300,
          301,
          302,
          303,
          304,
          305,
          306,
          307,
          308,
          309,
          310,
          311,
          312,
          313,
          314,
          315,
          316,
          317,
          318,
          319,
          320,
          321,
          322,
          323,
          324,
          325,
          326,
          327,
          328,
          329,
          330,
          331,
          332,
          333,
          334,
          335,
          336,
          337,
          338,
          339,
          340,
          341,
          342,
          343,
          344,
          345,
          346,
          347,
          348,
          349,
          350,
          351,
          352,
          353,
          354,
          355,
          356,
          357,
          358,
          359,
          360,
          361,
          362,
          363,
          364,
          365,
          366,
          367,
          368,
          369,
          370,
          371,
          372,
          373,
          374,
          375,
          376,
          377,
          378,
          379,
          380,
          381,
          382,
          383,
          384,
          385,
          386,
          387,
          388,
          389,
          390,
          391,
          392,
          393,
          394,
          395,
          396,
          397,
          398,
          399,
          400,
          401,
          402,
          403,
          404,
          405,
          406,
          407,
          408,
          409,
          410,
          411,
          412,
          413,
          414,
          415,
          416,
          417,
          418,
          419,
          420,
          421,
          422,
          423,
          424,
          425,
          426,
          427,
          428,
          429,
          430,
          431,
          432,
          433,
          434,
          435,
          436,
          437,
          438,
          439,
          440,
          441,
          442,
          443,
          444,
          445,
          446,
          447,
          448,
          449,
          450,
          451,
          452,
          453,
          454,
          455,
          456,
          457,
          458,
          459,
          460,
          461,
          462,
          463,
          464,
          465,
          466,
          467,
          468,
          469,
          470,
          471,
          472,
          473,
          474,
          475,
          476,
          477,
          478,
          479,
          480,
          481,
          482,
          483,
          484,
          485,
          486,
          487,
          488,
          489,
          490,
          491,
          492,
          493,
          494,
          495,
          496,
          497,
          498,
          499,
          500,
          501,
          502,
          503,
          504,
          505,
          506,
          507,
          508,
          509,
          510,
          511,
          512,
          513,
          514,
          515,
          516,
          517,
          518,
          519,
          520,
          521,
          522,
          523,
          524,
          525,
          526,
          527,
          528,
          529,
          530,
          531,
          532,
          533,
          534,
          535,
          536,
          537,
          538,
          539,
          540,
          541,
          542,
          543,
          544,
          545,
          546,
          547,
          548,
          549,
          550,
          551,
          552,
          553,
          554,
          555,
          556,
          557,
          558,
          559,
          560,
          561,
          562,
          563,
          564,
          565,
          566,
          567,
          568,
          569,
          570,
          571,
          572,
          573,
          574,
          575,
          576,
          577,
          578,
          579,
          580,
          581,
          582,
          583,
          584,
          585,
          586,
          587,
          588,
          589,
          590,
          591,
          592,
          593,
          594,
          595,
          596,
          597,
          598,
          599,
          600,
          601,
          602,
          603,
          604,
          605,
          606,
          607,
          608,
          609,
          610,
          611,
          612,
          613,
          614,
          615,
          616,
          617,
          618,
          619,
          620,
          621,
          622,
          623,
          624,
          625,
          626,
          627,
          628,
          629,
          630,
          631,
          632,
          633,
          634,
          635,
          636,
          637,
          638,
          639,
          640,
          641,
          642,
          643,
          644,
          645,
          646,
          647,
          648,
          649,
          650,
          651,
          652,
          653,
          654,
          655,
          656,
          657,
          658,
          659,
          660,
          661,
          662,
          663,
          664,
          665,
          666,
          667,
          668,
          669,
          670,
          671,
          672,
          673,
          674,
          675,
          676,
          677,
          678,
          679,
          680,
          681,
          682,
          683,
          684,
          685,
          686,
          687,
          688,
          689,
          690,
          691,
          692,
          693,
          694,
          695,
          696,
          697,
          698,
          699,
          700,
          701,
          702,
          703,
          704,
          705,
          706,
          707,
          708,
          709,
          710,
          711,
          712,
          713,
          714,
          715,
          716,
          717,
          718,
          719,
          720,
          721,
          722,
          723,
          724,
          725,
          726,
          727,
          728,
          729,
          730,
          731,
          732,
          733,
          734,
          735,
          736,
          737,
          738,
          739,
          740,
          741,
          742,
          743,
          744,
          745,
          746,
          747,
          748,
          749,
          750,
          751,
          752,
          753,
          754,
          755,
          756,
          757,
          758,
          759,
          760,
          761,
          762,
          763,
          764,
          765,
          766,
          767,
          768,
          769,
          770,
          771,
          772,
          773,
          774,
          775,
          776,
          777,
          778,
          779,
          780,
          781,
          782,
          783,
          784,
          785,
          786,
          787,
          788,
          789,
          790,
          791,
          792,
          793,
          794,
          795,
          796,
          797,
          798,
          799,
          800
         ],
         "y": [
          0,
          0,
          0,
          0,
          0,
          0,
          0,
          0,
          0,
          0,
          0,
          0,
          0,
          0,
          0,
          0,
          0,
          0,
          0,
          0,
          0,
          0,
          0,
          0,
          0,
          0,
          0,
          0,
          0,
          9.890658767327198e-06,
          -9.890658767327198e-06,
          0,
          0,
          0,
          0,
          0,
          0,
          0,
          0,
          0,
          0,
          0,
          0,
          0,
          0,
          0,
          0,
          0,
          0,
          0,
          0,
          0,
          0,
          0,
          0,
          0,
          0,
          0,
          0,
          0,
          4.945329383663599e-06,
          -4.945329383663599e-06,
          0,
          4.945329383663599e-06,
          3.956263506930879e-05,
          -4.450796445297239e-05,
          1.97813175346544e-05,
          -1.97813175346544e-05,
          1.4835988150990796e-05,
          -1.4835988150990796e-05,
          3.956263506930879e-05,
          4.450796445297239e-05,
          -1.4835988150990804e-05,
          -4.945329383663599e-05,
          0.0001137425758242,
          -1.4835988150990804e-05,
          4.450796445297239e-05,
          9.39612582896084e-05,
          9.890658767327176e-06,
          -4.945329383663588e-06,
          3.956263506930876e-05,
          4.945329383663599e-05,
          -6.923461137129034e-05,
          0.0005242049146683,
          9.396125828960828e-05,
          6.923461137129045e-05,
          0.0001582505402772,
          0.0002077038341138,
          0.0001582505402772,
          0.000984120547349,
          -0.0003016650924034,
          0.0016369040259926,
          -0.0008407059952228,
          -9.39612582896085e-05,
          0.0003758450331584,
          0.0014638174975644,
          0.0009890658767327,
          0.0001038519170569,
          0.0014044735449604,
          0.0016171227084579,
          -0.0005884941966559,
          0.0025666259501214,
          0.0018396625307228,
          0.0010681911468713,
          0.0030364322415694,
          0.0002967197630198,
          0.0030759948766387,
          0.0035359105093194,
          0.006305294964171,
          -0.0088620302555251,
          0.0067948825731537,
          -0.0020078037297674,
          -0.0022847421752525,
          0.0053162290874383,
          0.0005786035378886,
          0.0019534051065471,
          -0.0008060886895371,
          0.0010533551587203,
          -0.0028188377486882,
          0.0062212243646488,
          0.0041244047059754,
          0.0083576066583914,
          0.0049947826775002,
          -0.0002571571279505,
          -0.0023688127747748,
          0.0022600155283342,
          0.0033232613458219,
          -0.002630915232109,
          0.0005835488672723,
          0.0009643392298143,
          0.0031847921230793,
          -0.0037436143434333,
          -0.0043073818931709,
          -0.0002670477867178,
          0.003085885535406,
          -0.0069135704783617,
          0.0025171726562847,
          -0.0038721929074085,
          0.0016665760022946,
          -0.0024677193624481,
          0.0004203529976114,
          0.0002225398222648,
          0.0026704778671783,
          -0.0041293500353591,
          0.0017160292961312,
          -0.0001533052108935,
          -0.0028534550543738,
          0.0001631958696609,
          0.0009940112061163,
          0.0018792251657921,
          0.0015627240852377,
          -0.0038721929074085,
          0.0018446078601065,
          -0.0016270133672253,
          0.001453926838797,
          -0.0005192595852846,
          0.0006330021611089,
          0.0006181661729579,
          -4.945329383658492e-06,
          -0.0018940611539431,
          -0.0009593939004307,
          0.0018990064833268,
          0.000909940606594,
          -0.0013055669572871,
          0.0005538768909703,
          -0.0029276349951288,
          0.0001186879052079,
          -0.0020622023529877,
          -0.0002571571279505,
          0.000984120547349,
          -0.00049947826775,
          -0.0007566353957005,
          -0.0006478381492599,
          -0.0008555419833738,
          -0.0012264416871485,
          -0.0002967197630198,
          -0.0015676694146213,
          0.0002719931161014,
          -0.0002917744336361,
          -0.00049947826775,
          0,
          -0.0006577288080272,
          0.0009989565355,
          -0.0002077038341138,
          -0.0004302436563787,
          0.0004747516208317,
          -0.0007417994075495,
          -0.0010187378530347,
          0.0008456513246064,
          -0.0002126491634975,
          0.0006527834786435,
          -0.0001829771871955,
          4.945329383665431e-06,
          -0.0003758450331584,
          -0.0013401842629728,
          0.0008407059952228,
          2.4726646918320216e-05,
          -0.0001285785639752,
          -0.0008654326421411,
          -0.0005835488672723,
          -0.0009643392298144,
          -0.0003610090450074,
          0.0001087972464406,
          -9.890658767327391e-05,
          -0.0002522117985668,
          0.0002670477867178,
          -0.000454970303297,
          -0.0006626741374109,
          -0.0011225897700916,
          0.0003412277274727,
          0.0001730865284282,
          -7.912527013861914e-05,
          -0.0001928678459628,
          -0.0002077038341138,
          -0.0001137425758242,
          -0.0012017150402302,
          0.0003214464099381,
          0.0002621024573341,
          -0.0002373758104158,
          -2.9671976301982175e-05,
          -0.0001483598815099,
          -0.0003659543743911,
          -0.0009346672535124,
          0.0008011433601535,
          -0.0001829771871955,
          -4.945329383665431e-06,
          6.923461137129175e-05,
          -0.0005884941966559,
          -0.0003560637156237,
          -0.0005983848554232,
          0.0003560637156237,
          -0.0001137425758242,
          0.0003511183862401,
          0.0001087972464406,
          -0.0003115557511708,
          -0.0005390409028193,
          -0.0002423211397995,
          1.4835988150992824e-05,
          0.0001631958696608,
          0.000410462338844,
          0.0004203529976114,
          0.0002670477867178,
          0.0001730865284282,
          -0.0012956762985198,
          0.0011028084525569,
          0.0003214464099381,
          0.0005242049146683,
          0.000395626350693,
          -0.0002324304810321,
          4.4507964452975e-05,
          -0.000425298326995,
          0.0007516900663168,
          0.0006824554549455,
          0.0005489315615866,
          -7.417994075495371e-05,
          -0.0002225398222648,
          0.0002621024573341,
          0.0001038519170569,
          0.0008753233009084,
          0.0002719931161014,
          0.0006725647961782,
          0.0007764167132351,
          0.000410462338844,
          0.0002324304810321,
          9.39612582896085e-05,
          0.0010929177937896,
          0.0007863073720025,
          0.0030809402060224,
          0.001528106779552,
          0.0016962479785966,
          0.0012956762985198,
          0.0005093689265173,
          0.0011967697108465,
          0.0022946328340199,
          0.0022699061871015,
          0.0021808902581956,
          0.0031699561349283,
          0.0018841704951758,
          0.0035804184737724,
          -0.0024726646918317,
          0.0018000998956535,
          0.003085885535406,
          0.0034815118860991,
          0.0038029582960373,
          -0.0001780318578118,
          0.0014044735449604,
          0.0017358106136659,
          -0.0023984847510768,
          0.0068294998788394,
          -0.0011572070757772,
          0.00049947826775,
          0.0051381972296264,
          0.0013105122866708,
          -0.0032836987107526,
          0.0012857856397525,
          0.0067899372437701,
          -0.0040403341064531,
          0.0006527834786436,
          0.0037386690140496,
          -0.0039859354832328,
          -0.0022550701989506,
          0.0075762446157726,
          0.0028138924193045,
          -0.0007566353957005,
          0.0027050951728639,
          -0.0018000998956535,
          0.0020473663648367,
          0.0052024865116141,
          -0.0018149358838045,
          0.0061915523883468,
          -0.0012808403103688,
          0.0006874007843292,
          0.0065723427508889,
          -0.0040156074595348,
          -0.0058453793314903,
          0.0086543264214112,
          0.0018990064833268,
          0.0035804184737724,
          -0.0006330021611089,
          0.0012313870165322,
          -0.0017852639075025,
          -0.0073388688053567,
          0.0129567629851986,
          0.0035705278150051,
          0.0023688127747748,
          -0.0012017150402302,
          0.0029474163126635,
          -0.0039760448244655,
          -0.0034320585922625,
          0.0089114835493618,
          0.0102467224829509,
          -0.0022649608577179,
          -0.002072093011755,
          -0.0017011933079802,
          0.000395626350693,
          -0.0053557917225076,
          0.0137776876628867,
          -0.0037139423671313,
          0.0067849919143864,
          0.0012412776752995,
          -0.0044656324334482,
          -0.0101181439189757,
          0.000425298326995,
          0.008525747857436,
          0.0031847921230793,
          -0.0023589221160075,
          -0.0003857356919257,
          -0.003704051708364,
          -0.0031501748173937,
          -0.0009445579122797,
          0.0084713492342157,
          0.0016270133672253,
          -0.0017011933079802,
          0.0036496530851437,
          0.002012749059151,
          -0.0028534550543738,
          -0.0075465726394706,
          0.0132782093951367,
          -0.0044705777628319,
          0.0011769883933119,
          -0.0048662041135249,
          -0.0024034300804605,
          -0.0038326302723392,
          -0.0024380473861461,
          0.0025616806207377,
          -0.0033380973339729,
          -0.0103505744000079,
          -0.0041046233884407,
          0.0046486096206437,
          -0.0002621024573341,
          -0.0033826052984258,
          0.0005538768909703,
          -0.001572614744005,
          -0.0023341954690892,
          0.0023638674453912,
          -0.0017852639075025,
          -0.0005588222203539,
          0.0086988343858642,
          -4.4507964452975e-05,
          -0.003085885535406,
          -0.0024331020567624,
          -0.0033084253576709,
          -0.005276666452369,
          -0.00314522948801,
          0.0036496530851437,
          -0.0017902092368862,
          -0.0029523616420471,
          0.0010632458174876,
          -0.0089065382199781,
          -0.0050293999831858,
          -0.0025616806207377,
          0.0068838985020597,
          0.0005439862322029,
          -0.0010632458174876,
          -0.0033034800282872,
          -0.0034221679334952,
          -0.0048711494429086,
          -0.0009099406065941,
          0.0011918243814629,
          -9.396125828961543e-05,
          -0.0003214464099381,
          -0.0028237830780719,
          -0.000529150244052,
          -0.0044161791396115,
          -0.0027199311610149,
          0.0026952045140966,
          0.0003165010805544,
          -0.0011225897700916,
          -0.0033232613458219,
          0.0001533052108935,
          -0.00479202417277,
          -0.0019830770828491,
          0.0030364322415694,
          -4.945329383665431e-06,
          -0.0023094688221709,
          -0.0010236831824183,
          -0.0005588222203539,
          -0.0038375756017229,
          -0.0003461730568564,
          -0.0026803685259456,
          -0.0005538768909703,
          0.0022451795401832,
          -0.0008654326421411,
          0.0010681911468713,
          -0.0049898373481165,
          -0.0001236332345915,
          0.004188693987963,
          -0.0017654825899679,
          1.4835988150996292e-05,
          -0.002131436964359,
          -0.0016467946847599,
          -0.0039710994950818,
          -0.0018099905544208,
          0.0009445579122797,
          0.0026111339145743,
          0.0005588222203539,
          0.0008753233009084,
          -0.0031551201467773,
          -0.0002077038341138,
          -0.0019534051065471,
          0.0039710994950818,
          -0.00049947826775,
          -0.0003165010805544,
          -0.0016467946847599,
          -9.890658767327391e-05,
          -0.0040848420709061,
          0.0019781317534654,
          0.0017753732487352,
          -0.0002719931161015,
          -0.0014341455212624,
          0.000969284559198,
          -0.0019286784596288,
          -0.0021116556468243,
          -2.9671976301985648e-05,
          0.0044557417746809,
          -0.0018544985188738,
          0.0011077537819406,
          -0.0010335738411856,
          -0.0008505966539901,
          -0.0015775600733886,
          -0.0001582505402772,
          0.0018347172013391,
          0.0023836487629258,
          -0.0022105622344976,
          -1.9781317534654785e-05,
          -0.0019039518127104,
          -0.0007269634193985,
          0.0007813620426188,
          0.0030463229003367,
          0.0002670477867178,
          0.0016270133672253,
          -0.0034320585922625,
          -0.0002077038341138,
          -0.0020819836705223,
          0.0005044235971336,
          0.0036001997913071,
          -0.0007764167132351,
          -9.39612582896085e-05,
          -0.0002274851516485,
          0.0001434145521262,
          -0.0037089970377476,
          -0.0009989565355,
          0.0070817116774062,
          -0.0027100405022476,
          0.0026408058908763,
          -0.0028336737368392,
          -0.0010187378530346,
          -0.0035359105093194,
          0.0010088471942673,
          -0.0016764666610619,
          0.003674379732062,
          -0.0003115557511708,
          0.000454970303297,
          0.0002373758104158,
          -0.0017259199548985,
          0.0005291502440519,
          0.0008060886895371,
          0.005336010404973,
          -0.0033183160164382,
          -0.0011918243814629,
          0.0038474662604902,
          -0.0056722928030621,
          -0.0012758949809852,
          0.0064932174807503,
          -0.0014885441444827,
          -0.0011176444407079,
          0.0011967697108465,
          -0.0026902591847129,
          -0.0025765166088887,
          0.0023984847510768,
          0.0032836987107526,
          0.0010632458174876,
          0.0001434145521262,
          0.0019929677416164,
          -0.0060184658599185,
          0.0050837986064061,
          -0.0032985346989036,
          0.0005192595852846,
          6.428928198762285e-05,
          0.0009445579122797,
          6.923461137128828e-05,
          0.0013451295923564,
          0.0027001498434803,
          0.002116600976208,
          0.0063745295755423,
          0.0039612088363145,
          0.0049403840542799,
          0.0059393405897799,
          -0.0049997280068839,
          0.0022352888814159,
          -0.0039216462012452,
          0.003204573440614,
          0.0157953820514215,
          0.0031056668529407,
          -0.001542942767703,
          -0.0012511683340668,
          -0.0033430426633565,
          0.004277709916869,
          0.0126996058572481,
          0.0009593939004307,
          0.0061668257414285,
          -0.0056525114855274,
          0.0053854636988096,
          -0.0051480878883938,
          0.002057257023604,
          0.0123385968122406,
          -0.0016665760022946,
          0.0059937392130002,
          0.0034122772747278,
          -0.0039463728481635,
          -0.00479202417277,
          0.0028880723600595,
          0.0042084753054977,
          0.0046387189618764,
          -0.0034221679334952,
          -0.0003115557511707,
          0.0005192595852846,
          -0.0021660542700446,
          -0.0043518898576239,
          0.0072300715589161,
          0.0019534051065471,
          -0.0029573069714308,
          -0.000543986232203,
          -0.0018891158245594,
          -0.0042727645874853,
          -0.0003461730568564,
          0.0038276849429556,
          -0.0032738080519853,
          0.0005884941966559,
          0.0006033301848069,
          -0.0041491313528937,
          -0.0009495032416634,
          -0.0030463229003367,
          0.004203529976114,
          0.0014638174975644,
          0.0012264416871485,
          -0.0049453293836635,
          0.0034864572154828,
          -0.007408103416728,
          0.0028781817012922,
          0.002527063315052,
          -0.0024281567273788,
          -0.0017110839667476,
          0.0026902591847129,
          -0.0035458011680868,
          -0.0039018648837105,
          0.000954448571047,
          0.0017457012724332,
          0.0017308652842822,
          -0.0006428928198762,
          -0.0025765166088887,
          -0.004233201952416,
          0.0009643392298144,
          -0.0001829771871955,
          0.0007269634193985,
          -0.0002818837748688,
          5.934395260395742e-05,
          -0.0021611089406609,
          -0.0054497529807972,
          -0.0030413775709531,
          0.0035210745211684,
          0.0006033301848069,
          -0.0005538768909703,
          1.9781317534647846e-05,
          -0.0009297219241287,
          -0.0046486096206437,
          -0.0023935394216931,
          0.0028732363719085,
          0.00314522948801,
          -0.0005983848554232,
          -0.0003461730568564,
          -0.0006824554549455,
          -0.0038326302723392,
          -0.0021116556468243,
          0.0030314869121857,
          0.0017803185781188,
          -0.0001236332345915,
          0.0027496031373169,
          -0.0016270133672253,
          -0.0018495531894901,
          -0.0016418493553763,
          0.0050145639950348,
          0.0036842703908293,
          0.0014885441444827,
          0.002027585047302,
          -0.0008604873127574,
          -0.0022204528932649,
          -0.0028682910425248,
          0.0025320086444357,
          0.008481239892983,
          -0.0004005716800767,
          0.0031699561349283,
          0.0021363822937426,
          -0.0014044735449604,
          -0.0034172226041115,
          0.0042084753054977,
          0.0071163289830919,
          0.0030809402060224,
          0.0033578786515075,
          0.002616079243958,
          -5.439862322029199e-05,
          -0.0033875506278095,
          6.923461137128828e-05,
          0.0118786811795599,
          -0.0015825054027723,
          0.0103209024237059,
          -0.0037535050022006,
          0.0036941610495967,
          -0.0060431925068369,
          0.0025320086444357,
          0.0126748792103297,
          0.0043172725519383,
          0.0048909307604433,
          0.0053261197462056,
          2.9671976301992583e-05,
          -0.0029622523008144,
          0.0016171227084579,
          0.0111467724307777,
          0.0039018648837105,
          0.002586407267656,
          -0.0100785812839064,
          0.0111616084189287,
          -0.0073833767698097,
          0.0005983848554232,
          0.0172839261959042,
          -0.0013105122866708,
          0.0019682410946981,
          0.0036001997913071,
          -0.0030166509240348,
          -0.006893789160827,
          0.0070718210186389,
          -0.0011868790520792,
          0.0024726646918317,
          0.0029325803245125,
          -0.0107907087151539,
          0.0011324804288589,
          -0.0012758949809852,
          -0.0054546983101809,
          0.0132930453832877,
          -0.0031798467936957,
          -0.0043172725519383,
          -0.0022155075638812,
          -0.002027585047302,
          -0.0079026363550944,
          -0.0009742298885817,
          0.003659543743911,
          -0.0010879724644059,
          -0.0001928678459628,
          -0.0007269634193985,
          -0.0060135205305349,
          -0.0080806682129063,
          -0.0017011933079802,
          0.0015379974383193,
          0.0047376255495497,
          -0.0034864572154828,
          -0.0016467946847599,
          0.0018990064833268,
          -0.005835488672723,
          0.0010187378530347,
          0.0027743297842352,
          -0.0021808902581956,
          0.0002868291042524,
          -0.0017852639075025,
          -0.0021957262463466,
          -0.0050590719594878,
          -0.001572614744005,
          -0.0026061885851907,
          0.0033727146396585,
          -0.0028089470899209,
          -0.0016418493553763,
          -0.0013599655805074,
          -0.0064190375399953,
          0.00049947826775,
          0.0007269634193985,
          -0.003615035779458,
          -0.0014638174975644,
          0.0027149858316313,
          -0.0046288283031091,
          -0.0053854636988096,
          -0.0030512682297204,
          0.0020176943885347,
          -0.0045694843505051,
          0.0012313870165322,
          -0.0060728644831389,
          -0.0025072819975174,
          -0.0063547482580077,
          -0.0039265915306288,
          -0.0002126491634975,
          -0.0064684908338319,
          -0.0075070100044013,
          -0.0093713991820425,
          -0.0021413276231263,
          -0.0006330021611089,
          -0.0022402342107996,
          0.0070668756892552,
          -0.000909940606594,
          -0.0015478880970867,
          -0.0020374757060694,
          0.0083922239640771,
          0.0019830770828491,
          0.0157014207931319,
          0.0130655602316392,
          0.0164926734945181,
          0.0100291279900697,
          0.0073190874878221,
          0.0024825553505991,
          0.0129172003501293,
          0.0244150911671471,
          0.0525144527251237,
          0.0377823164911898,
          0.0293159125863578,
          0.0090895154071736,
          0.0132831547245204,
          0.0338903422662466,
          0.0693978072409512,
          0.0453931784126481,
          0.0742689566838599,
          0.0396714323157493,
          0.0133968973003447,
          0.0082092467768815,
          0.0806682129063206,
          0.0674444021344041,
          0.0608967860304335,
          0.0446167616994129,
          0.0130408335847208,
          -0.0399780427375364,
          -0.0318231945838752,
          0.0875026581145437,
          0.0667718373382258,
          0.0342117886761847,
          -0.0012660043222179,
          -0.0303742130744617,
          -0.0842090687450237,
          -0.0674839647694734,
          0.062726557902389,
          0.0044606871040646,
          -0.0035062385330175,
          -0.0054002996869606,
          -0.0421589329957321,
          -0.0916517894674374,
          -0.0838431143706326,
          0.0147024642576318,
          -0.0229265470226645,
          -0.0461349778201977,
          -0.0013500749217401,
          -0.0348002828728407,
          -0.0438403449861778,
          -0.0477372645405047,
          0.0004351889857624,
          -0.0209978685630356,
          -0.0188120329754563,
          -0.0126353165752604,
          -0.0343354219107763,
          -0.0321248596762787,
          -0.0324759780625188,
          -0.0384845532636701,
          -0.0371048063656279,
          -0.0028386190662229,
          -0.0129270910088966,
          -0.015553060911622
         ],
         "yaxis": "y2"
        },
        {
         "name": "Предсказание",
         "type": "scatter",
         "x": [
          1,
          2,
          3,
          4,
          5,
          6,
          7,
          8,
          9,
          10,
          11,
          12,
          13,
          14,
          15,
          16,
          17,
          18,
          19,
          20,
          21,
          22,
          23,
          24,
          25,
          26,
          27,
          28,
          29,
          30,
          31,
          32,
          33,
          34,
          35,
          36,
          37,
          38,
          39,
          40,
          41,
          42,
          43,
          44,
          45,
          46,
          47,
          48,
          49,
          50,
          51,
          52,
          53,
          54,
          55,
          56,
          57,
          58,
          59,
          60,
          61,
          62,
          63,
          64,
          65,
          66,
          67,
          68,
          69,
          70,
          71,
          72,
          73,
          74,
          75,
          76,
          77,
          78,
          79,
          80,
          81,
          82,
          83,
          84,
          85,
          86,
          87,
          88,
          89,
          90,
          91,
          92,
          93,
          94,
          95,
          96,
          97,
          98,
          99,
          100,
          101,
          102,
          103,
          104,
          105,
          106,
          107,
          108,
          109,
          110,
          111,
          112,
          113,
          114,
          115,
          116,
          117,
          118,
          119,
          120,
          121,
          122,
          123,
          124,
          125,
          126,
          127,
          128,
          129,
          130,
          131,
          132,
          133,
          134,
          135,
          136,
          137,
          138,
          139,
          140,
          141,
          142,
          143,
          144,
          145,
          146,
          147,
          148,
          149,
          150,
          151,
          152,
          153,
          154,
          155,
          156,
          157,
          158,
          159,
          160,
          161,
          162,
          163,
          164,
          165,
          166,
          167,
          168,
          169,
          170,
          171,
          172,
          173,
          174,
          175,
          176,
          177,
          178,
          179,
          180,
          181,
          182,
          183,
          184,
          185,
          186,
          187,
          188,
          189,
          190,
          191,
          192,
          193,
          194,
          195,
          196,
          197,
          198,
          199,
          200,
          201,
          202,
          203,
          204,
          205,
          206,
          207,
          208,
          209,
          210,
          211,
          212,
          213,
          214,
          215,
          216,
          217,
          218,
          219,
          220,
          221,
          222,
          223,
          224,
          225,
          226,
          227,
          228,
          229,
          230,
          231,
          232,
          233,
          234,
          235,
          236,
          237,
          238,
          239,
          240,
          241,
          242,
          243,
          244,
          245,
          246,
          247,
          248,
          249,
          250,
          251,
          252,
          253,
          254,
          255,
          256,
          257,
          258,
          259,
          260,
          261,
          262,
          263,
          264,
          265,
          266,
          267,
          268,
          269,
          270,
          271,
          272,
          273,
          274,
          275,
          276,
          277,
          278,
          279,
          280,
          281,
          282,
          283,
          284,
          285,
          286,
          287,
          288,
          289,
          290,
          291,
          292,
          293,
          294,
          295,
          296,
          297,
          298,
          299,
          300,
          301,
          302,
          303,
          304,
          305,
          306,
          307,
          308,
          309,
          310,
          311,
          312,
          313,
          314,
          315,
          316,
          317,
          318,
          319,
          320,
          321,
          322,
          323,
          324,
          325,
          326,
          327,
          328,
          329,
          330,
          331,
          332,
          333,
          334,
          335,
          336,
          337,
          338,
          339,
          340,
          341,
          342,
          343,
          344,
          345,
          346,
          347,
          348,
          349,
          350,
          351,
          352,
          353,
          354,
          355,
          356,
          357,
          358,
          359,
          360,
          361,
          362,
          363,
          364,
          365,
          366,
          367,
          368,
          369,
          370,
          371,
          372,
          373,
          374,
          375,
          376,
          377,
          378,
          379,
          380,
          381,
          382,
          383,
          384,
          385,
          386,
          387,
          388,
          389,
          390,
          391,
          392,
          393,
          394,
          395,
          396,
          397,
          398,
          399,
          400,
          401,
          402,
          403,
          404,
          405,
          406,
          407,
          408,
          409,
          410,
          411,
          412,
          413,
          414,
          415,
          416,
          417,
          418,
          419,
          420,
          421,
          422,
          423,
          424,
          425,
          426,
          427,
          428,
          429,
          430,
          431,
          432,
          433,
          434,
          435,
          436,
          437,
          438,
          439,
          440,
          441,
          442,
          443,
          444,
          445,
          446,
          447,
          448,
          449,
          450,
          451,
          452,
          453,
          454,
          455,
          456,
          457,
          458,
          459,
          460,
          461,
          462,
          463,
          464,
          465,
          466,
          467,
          468,
          469,
          470,
          471,
          472,
          473,
          474,
          475,
          476,
          477,
          478,
          479,
          480,
          481,
          482,
          483,
          484,
          485,
          486,
          487,
          488,
          489,
          490,
          491,
          492,
          493,
          494,
          495,
          496,
          497,
          498,
          499,
          500,
          501,
          502,
          503,
          504,
          505,
          506,
          507,
          508,
          509,
          510,
          511,
          512,
          513,
          514,
          515,
          516,
          517,
          518,
          519,
          520,
          521,
          522,
          523,
          524,
          525,
          526,
          527,
          528,
          529,
          530,
          531,
          532,
          533,
          534,
          535,
          536,
          537,
          538,
          539,
          540,
          541,
          542,
          543,
          544,
          545,
          546,
          547,
          548,
          549,
          550,
          551,
          552,
          553,
          554,
          555,
          556,
          557,
          558,
          559,
          560,
          561,
          562,
          563,
          564,
          565,
          566,
          567,
          568,
          569,
          570,
          571,
          572,
          573,
          574,
          575,
          576,
          577,
          578,
          579,
          580,
          581,
          582,
          583,
          584,
          585,
          586,
          587,
          588,
          589,
          590,
          591,
          592,
          593,
          594,
          595,
          596,
          597,
          598,
          599,
          600,
          601,
          602,
          603,
          604,
          605,
          606,
          607,
          608,
          609,
          610,
          611,
          612,
          613,
          614,
          615,
          616,
          617,
          618,
          619,
          620,
          621,
          622,
          623,
          624,
          625,
          626,
          627,
          628,
          629,
          630,
          631,
          632,
          633,
          634,
          635,
          636,
          637,
          638,
          639,
          640,
          641,
          642,
          643,
          644,
          645,
          646,
          647,
          648,
          649,
          650,
          651,
          652,
          653,
          654,
          655,
          656,
          657,
          658,
          659,
          660,
          661,
          662,
          663,
          664,
          665,
          666,
          667,
          668,
          669,
          670,
          671,
          672,
          673,
          674,
          675,
          676,
          677,
          678,
          679,
          680,
          681,
          682,
          683,
          684,
          685,
          686,
          687,
          688,
          689,
          690,
          691,
          692,
          693,
          694,
          695,
          696,
          697,
          698,
          699,
          700,
          701,
          702,
          703,
          704,
          705,
          706,
          707,
          708,
          709,
          710,
          711,
          712,
          713,
          714,
          715,
          716,
          717,
          718,
          719,
          720,
          721,
          722,
          723,
          724,
          725,
          726,
          727,
          728,
          729,
          730,
          731,
          732,
          733,
          734,
          735,
          736,
          737,
          738,
          739,
          740,
          741,
          742,
          743,
          744,
          745,
          746,
          747,
          748,
          749,
          750,
          751,
          752,
          753,
          754,
          755,
          756,
          757,
          758,
          759,
          760,
          761,
          762,
          763,
          764,
          765,
          766,
          767,
          768,
          769,
          770,
          771,
          772,
          773,
          774,
          775,
          776,
          777,
          778,
          779,
          780,
          781,
          782,
          783,
          784,
          785,
          786,
          787,
          788,
          789,
          790,
          791,
          792,
          793,
          794,
          795,
          796,
          797,
          798,
          799,
          800
         ],
         "xaxis": "x",
         "y": [
          [
           0.0004568485229180331
          ],
          [
           0.0004568485229180331
          ],
          [
           0.0004568485229180331
          ],
          [
           0.00045684852291803297
          ],
          [
           0.00045684852291803243
          ],
          [
           0.0004568485229180296
          ],
          [
           0.0004568485229180193
          ],
          [
           0.0004568485229179876
          ],
          [
           0.00045684852291790265
          ],
          [
           0.0004568485229176985
          ],
          [
           0.0004568485229172492
          ],
          [
           0.00045684852291632877
          ],
          [
           0.00045684852291455295
          ],
          [
           0.00045684852291129655
          ],
          [
           0.00045684852290558015
          ],
          [
           0.00045684852289591807
          ],
          [
           0.0004568485228801193
          ],
          [
           0.0004568485228550315
          ],
          [
           0.00045684852281621706
          ],
          [
           0.0004568485227575491
          ],
          [
           0.0004568485226707144
          ],
          [
           0.00045684852254460886
          ],
          [
           0.0004568485223646093
          ],
          [
           0.00045684852211170585
          ],
          [
           0.00045684852176147586
          ],
          [
           0.0004568485212828808
          ],
          [
           0.0004568485206368655
          ],
          [
           0.0004568485197747384
          ],
          [
           0.0004568485186363096
          ],
          [
           0.00045684851714776367
          ],
          [
           0.00045684851521924106
          ],
          [
           0.0004568485127421034
          ],
          [
           0.00045684850958585413
          ],
          [
           0.0004568485055946881
          ],
          [
           0.0004568485005836388
          ],
          [
           0.00045684849433429473
          ],
          [
           0.00045684848659005334
          ],
          [
           0.0004568484770508806
          ],
          [
           0.00045684846536754364
          ],
          [
           0.00045684845113528233
          ],
          [
           0.0004568484338868867
          ],
          [
           0.00045684841308514415
          ],
          [
           0.0004568483881146216
          ],
          [
           0.0004568483582727461
          ],
          [
           0.00045684832276014737
          ],
          [
           0.0004568482806702257
          ],
          [
           0.00045684823097790676
          ],
          [
           0.00045684817252754633
          ],
          [
           0.0004568481040199468
          ],
          [
           0.0004568480239984465
          ],
          [
           0.000456847930834045
          ],
          [
           0.00045684782270952385
          ],
          [
           0.0004568476976025259
          ],
          [
           0.00045684755326755457
          ],
          [
           0.00045684738721685393
          ],
          [
           0.00045684719670013234
          ],
          [
           0.00045684697868309177
          ],
          [
           0.00045684672982472513
          ],
          [
           0.0004568464464533443
          ],
          [
           0.0004568461245413029
          ],
          [
           0.00045684575967837733
          ],
          [
           0.0004568453470437708
          ],
          [
           0.0004568448813767052
          ],
          [
           0.0004568443569455679
          ],
          [
           0.0004568437675155788
          ],
          [
           0.0004568431063149463
          ],
          [
           0.00045684236599948105
          ],
          [
           0.00045684153861563607
          ],
          [
           0.00045684061556194524
          ],
          [
           0.0004568395875488312
          ],
          [
           0.00045683844455675604
          ],
          [
           0.0004568371757926894
          ],
          [
           0.00045683576964486943
          ],
          [
           0.00045683421363583394
          ],
          [
           0.00045683249437370035
          ],
          [
           0.00045683059750167414
          ],
          [
           0.00045682850764576857
          ],
          [
           0.00045682620836071753
          ],
          [
           0.00045682368207406826
          ],
          [
           0.000456820910028439
          ],
          [
           0.00045681787222193177
          ],
          [
           0.0004568145473466898
          ],
          [
           0.000456810912725592
          ],
          [
           0.00045680694424707916
          ],
          [
           0.0004568026162981084
          ],
          [
           0.0004567979016952331
          ],
          [
           0.00045679277161381074
          ],
          [
           0.0004567871955153388
          ],
          [
           0.0004567811410729259
          ],
          [
           0.0004567745740949037
          ],
          [
           0.0004567674584465889
          ],
          [
           0.00045675975597020814
          ],
          [
           0.00045675142640299736
          ],
          [
           0.0004567424272934947
          ],
          [
           0.0004567327139160429
          ],
          [
           0.00045672223918352407
          ],
          [
           0.00045671095355834956
          ],
          [
           0.0004566988049617305
          ],
          [
           0.0004566857386812583
          ],
          [
           0.00045667169727682533
          ],
          [
           0.00045665662048491974
          ],
          [
           0.0004566404451213297
          ],
          [
           0.0004566231049822963
          ],
          [
           0.0004566045307441561
          ],
          [
           0.0004565846498615165
          ],
          [
           0.00045656338646401075
          ],
          [
           0.0004565406612516813
          ],
          [
           0.00045651639138904294
          ],
          [
           0.00045649049039787936
          ],
          [
           0.0004564628680488309
          ],
          [
           0.00045643343025183087
          ],
          [
           0.0004564020789454548
          ],
          [
           0.00045636871198524406
          ],
          [
           0.0004563332230310736
          ],
          [
           0.0004562955014336311
          ],
          [
           0.00045625543212008145
          ],
          [
           0.00045621289547898936
          ],
          [
           0.00045616776724457896
          ],
          [
           0.0004561199183804089
          ],
          [
           0.00045606921496254475
          ],
          [
           0.00045601551806231477
          ],
          [
           0.0004559586836287341
          ],
          [
           0.000455898562370688
          ],
          [
           0.00045583499963896537
          ],
          [
           0.00045576783530823636
          ],
          [
           0.000455696903659071
          ],
          [
           0.0004556220332600963
          ],
          [
           0.0004555430468503945
          ],
          [
           0.00045545976122224276
          ],
          [
           0.0004553719871043018
          ],
          [
           0.00045527952904535977
          ],
          [
           0.0004551821852987395
          ],
          [
           0.0004550797477074824
          ],
          [
           0.00045497200159042033
          ],
          [
           0.00045485872562925144
          ],
          [
           0.0004547396917567366
          ],
          [
           0.00045461466504613486
          ],
          [
           0.00045448340360199855
          ],
          [
           0.0004543456584524498
          ],
          [
           0.0004542011734430625
          ],
          [
           0.000454049685132474
          ],
          [
           0.00045389092268985446
          ],
          [
           0.00045372460779435984
          ],
          [
           0.0004535504545367005
          ],
          [
           0.00045336816932295334
          ],
          [
           0.0004531774507807512
          ],
          [
           0.0004529779896679812
          ],
          [
           0.00045276946878412664
          ],
          [
           0.00045255156288438687
          ],
          [
           0.00045232393859671123
          ],
          [
           0.0004520862543418832
          ],
          [
           0.00045183816025679257
          ],
          [
           0.00045157929812103314
          ],
          [
           0.00045130930128696407
          ],
          [
           0.0004510277946133751
          ],
          [
           0.000450734394402893
          ],
          [
           0.00045042870834327076
          ],
          [
           0.0004501103354526981
          ],
          [
           0.0004497788660292734
          ],
          [
           0.00044943388160477736
          ],
          [
           0.00044907495490288787
          ],
          [
           0.000448701649801976
          ],
          [
           0.00044831352130262215
          ],
          [
           0.00044791011549999204
          ],
          [
           0.00044749096956121065
          ],
          [
           0.00044705561170787204
          ],
          [
           0.0004466035612038233
          ],
          [
           0.0004461343283483579
          ],
          [
           0.00044564741447495617
          ],
          [
           0.0004451423119557054
          ],
          [
           0.00044461850421153556
          ],
          [
           0.00044407546572840185
          ],
          [
           0.0004435126620795462
          ],
          [
           0.00044292954995396757
          ],
          [
           0.00044232557719122936
          ],
          [
           0.0004417001828227314
          ],
          [
           0.0004410527971195717
          ],
          [
           0.00044038284164712137
          ],
          [
           0.00043968972932643453
          ],
          [
           0.00043897286450261314
          ],
          [
           0.00043823164302024374
          ],
          [
           0.00043746545230602255
          ],
          [
           0.00043667367145868113
          ],
          [
           0.0004358556713463237
          ],
          [
           0.0004350108147112845
          ],
          [
           0.0004341384562826104
          ],
          [
           0.0004332379428962725
          ],
          [
           0.00043230861362320553
          ],
          [
           0.00043134979990527335
          ],
          [
           0.0004303608256992538
          ],
          [
           0.00042934100762893505
          ],
          [
           0.0004282896551454095
          ],
          [
           0.00042720607069565133
          ],
          [
           0.0004260895498994576
          ],
          [
           0.0004249393817348306
          ],
          [
           0.0004237548487318755
          ],
          [
           0.00042253522717528296
          ],
          [
           0.000421279787315463
          ],
          [
           0.00041998779358839224
          ],
          [
           0.0004186585048442335
          ],
          [
           0.00041729117458478004
          ],
          [
           0.0004158850512097766
          ],
          [
           0.0004144393782721605
          ],
          [
           0.0004129533947422655
          ],
          [
           0.00041142633528102365
          ],
          [
           0.00040985743052219853
          ],
          [
           0.00040824590736367563
          ],
          [
           0.0004065909892678331
          ],
          [
           0.0004048918965710098
          ],
          [
           0.0004031478468020849
          ],
          [
           0.0004013580550101737
          ],
          [
           0.0003995217341014451
          ],
          [
           0.00039763809518505473
          ],
          [
           0.0003957063479281896
          ],
          [
           0.00039372570092020555
          ],
          [
           0.0003916953620458444
          ],
          [
           0.00038961453886750063
          ],
          [
           0.00038748243901651225
          ],
          [
           0.00038529827059343585
          ],
          [
           0.0003830612425772682
          ],
          [
           0.00038077056524356355
          ],
          [
           0.000378425450591396
          ],
          [
           0.0003760251127791056
          ],
          [
           0.00037356876856876566
          ],
          [
           0.00037105563777929554
          ],
          [
           0.0003684849437481467
          ],
          [
           0.00036585591380147416
          ],
          [
           0.0003631677797327063
          ],
          [
           0.0003604197782894148
          ],
          [
           0.0003576111516683825
          ],
          [
           0.000354741148018763
          ],
          [
           0.00035180902195321124
          ],
          [
           0.00034881403506686973
          ],
          [
           0.0003457554564640747
          ],
          [
           0.000342632563292657
          ],
          [
           0.0003394446412856835
          ],
          [
           0.00033619098531050424
          ],
          [
           0.00033287089992493994
          ],
          [
           0.00032948369994045525
          ],
          [
           0.00032602871099214674
          ],
          [
           0.0003225052701153677
          ],
          [
           0.00031891272632881765
          ],
          [
           0.00031525044122389893
          ],
          [
           0.0003115177895601455
          ],
          [
           0.00030771415986653126
          ],
          [
           0.00030383895504843976
          ],
          [
           0.0002998915930000825
          ],
          [
           0.0002958715072221472
          ],
          [
           0.0002917781474444405
          ],
          [
           0.00028761098025329915
          ],
          [
           0.0002833694897235143
          ],
          [
           0.00027905317805453257
          ],
          [
           0.0002746615662106694
          ],
          [
           0.0002701941945650747
          ],
          [
           0.0002656506235471828
          ],
          [
           0.00026103043429336997
          ],
          [
           0.0002563332293005364
          ],
          [
           0.0002515586330823221
          ],
          [
           0.00024670629282766686
          ],
          [
           0.00024177587906140083
          ],
          [
           0.00023676708630657731
          ],
          [
           0.00023167963374820288
          ],
          [
           0.00022651326589807663
          ],
          [
           0.00022126775326038298
          ],
          [
           0.00021594289299772205
          ],
          [
           0.0002105385095972307
          ],
          [
           0.0002050544555364455
          ],
          [
           0.00019949061194856553
          ],
          [
           0.00019384688928673796
          ],
          [
           0.00018812322798702916
          ],
          [
           0.00018231959912968777
          ],
          [
           0.00017643600509833248
          ],
          [
           0.000170472480236688
          ],
          [
           0.00016442909150248057
          ],
          [
           0.00015830593911808746
          ],
          [
           0.00015210315721756758
          ],
          [
           0.00014582091448965664
          ],
          [
           0.00013945941481630287
          ],
          [
           0.0001330188979063697
          ],
          [
           0.00012649963992405236
          ],
          [
           0.00011990195411159941
          ],
          [
           0.00011322619140591755
          ],
          [
           0.00010647274104861492
          ],
          [
           9.964203118906597e-05
          ],
          [
           9.27345294800236e-05
          ],
          [
           8.575074366538898e-05
          ],
          [
           7.869122215962873e-05
          ],
          [
           7.155655461842998e-05
          ],
          [
           6.434737250013233e-05
          ],
          [
           5.7064349617451046e-05
          ],
          [
           4.970820267906508e-05
          ],
          [
           4.227969182058166e-05
          ],
          [
           3.477962112441473e-05
          ],
          [
           2.720883912809229e-05
          ],
          [
           1.9568239320567297e-05
          ],
          [
           1.1858760625970473e-05
          ],
          [
           4.081387874419883e-06
          ],
          [
           -3.7628477406630233e-06
          ],
          [
           -1.1672868219184541e-05
          ],
          [
           -1.964754832543277e-05
          ],
          [
           -2.768571517407372e-05
          ],
          [
           -3.578614783154307e-05
          ],
          [
           -4.3947576933332344e-05
          ],
          [
           -5.216868431767518e-05
          ],
          [
           -6.044810267610113e-05
          ],
          [
           -6.878441522134023e-05
          ],
          [
           -7.717615537314115e-05
          ],
          [
           -8.562180646235423e-05
          ],
          [
           -9.411980145392567e-05
          ],
          [
           -0.00010266852268918093
          ],
          [
           -0.00011126630164792647
          ],
          [
           -0.00011991141873087468
          ],
          [
           -0.00012860210306285248
          ],
          [
           -0.00013733653231726904
          ],
          [
           -0.0001461128325623776
          ],
          [
           -0.00015492907812974963
          ],
          [
           -0.00016378329150548596
          ],
          [
           -0.00017267344324462642
          ],
          [
           -0.00018159745190924015
          ],
          [
           -0.00019055318403062162
          ],
          [
           -0.00019953845409615187
          ],
          [
           -0.00020855102456120996
          ],
          [
           -0.0002175886058866083
          ],
          [
           -0.00022664885660205408
          ],
          [
           -0.00023572938339601655
          ],
          [
           -0.00024482774123253296
          ],
          [
           -0.0002539414334952782
          ],
          [
           -0.0002630679121595183
          ],
          [
           -0.0002722045779921173
          ],
          [
           -0.00028134878078029676
          ],
          [
           -0.00029049781958940195
          ],
          [
           -0.00029964894305010607
          ],
          [
           -0.0003087993496754448
          ],
          [
           -0.0003179461882082798
          ],
          [
           -0.00032708655799917164
          ],
          [
           -0.00033621750941549366
          ],
          [
           -0.0003453360442818469
          ],
          [
           -0.0003544391163523266
          ],
          [
           -0.0003635236318148234
          ],
          [
           -0.0003725864498279466
          ],
          [
           -0.00038162438309066537
          ],
          [
           -0.0003906341984451272
          ],
          [
           -0.000399612617513041
          ],
          [
           -0.00040855631736568817
          ],
          [
           -0.0004174619312281456
          ],
          [
           -0.0004263260492178408
          ],
          [
           -0.0004351452191177684
          ],
          [
           -0.0004439159471845714
          ],
          [
           -0.0004526346989918454
          ],
          [
           -0.00046129790030880407
          ],
          [
           -0.00046990193801466567
          ],
          [
           -0.0004784431610487646
          ],
          [
           -0.0004869178813967313
          ],
          [
           -0.000495322375113077
          ],
          [
           -0.0005036528833799786
          ],
          [
           -0.0005119056136026771
          ],
          [
           -0.0005200767405417314
          ],
          [
           -0.0005281624074819165
          ],
          [
           -0.000536158727438245
          ],
          [
           -0.0005440617843988132
          ],
          [
           -0.000551867634605173
          ],
          [
           -0.0005595723078693716
          ],
          [
           -0.0005671718089287883
          ],
          [
           -0.0005746621188378162
          ],
          [
           -0.0005820391963970212
          ],
          [
           -0.0005892989796196216
          ],
          [
           -0.0005964373872351014
          ],
          [
           -0.0006034503202301653
          ],
          [
           -0.0006103336634267606
          ],
          [
           -0.0006170832870972304
          ],
          [
           -0.0006236950486164011
          ],
          [
           -0.0006301647941506416
          ],
          [
           -0.0006364883603834409
          ],
          [
           -0.0006426615762777485
          ],
          [
           -0.0006486802648745912
          ],
          [
           -0.0006545402451278764
          ],
          [
           -0.0006602373337750414
          ],
          [
           -0.0006657673472437919
          ],
          [
           -0.0006711261035937091
          ],
          [
           -0.000676309424493369
          ],
          [
           -0.0006813131372324693
          ],
          [
           -0.0006861330767677831
          ],
          [
           -0.0006907650878039942
          ],
          [
           -0.0006952050269077561
          ],
          [
           -0.0006994487646555089
          ],
          [
           -0.0007034921878136308
          ],
          [
           -0.0007073312015518274
          ],
          [
           -0.0007109617316876837
          ],
          [
           -0.0007143797269632457
          ],
          [
           -0.0007175811613523064
          ],
          [
           -0.0007205620363980086
          ],
          [
           -0.0007233183835804924
          ],
          [
           -0.0007258462667133253
          ],
          [
           -0.0007281417843686461
          ],
          [
           -0.0007302010723305491
          ],
          [
           -0.0007320203060748787
          ],
          [
           -0.0007335957032761403
          ],
          [
           -0.0007349235263398501
          ],
          [
           -0.0007360000849597253
          ],
          [
           -0.0007368217386994247
          ],
          [
           -0.0007373848995969234
          ],
          [
           -0.000737686034791995
          ],
          [
           -0.0007377216691748839
          ],
          [
           -0.0007374883880555733
          ],
          [
           -0.0007369828398529254
          ],
          [
           -0.0007362017388026409
          ],
          [
           -0.0007351418676825921
          ],
          [
           -0.0007338000805549771
          ],
          [
           -0.0007321733055240998
          ],
          [
           -0.0007302585475088741
          ],
          [
           -0.0007280528910284156
          ],
          [
           -0.0007255535029999283
          ],
          [
           -0.0007227576355478182
          ],
          [
           -0.000719662628822495
          ],
          [
           -0.0007162659138278871
          ],
          [
           -0.0007125650152561747
          ],
          [
           -0.0007085575543287115
          ],
          [
           -0.0007042412516414154
          ],
          [
           -0.0006996139300135729
          ],
          [
           -0.0006946735173385587
          ],
          [
           -0.0006894180494353885
          ],
          [
           -0.0006838456728984388
          ],
          [
           -0.0006779546479458076
          ],
          [
           -0.0006717433512628457
          ],
          [
           -0.000665210278840691
          ],
          [
           -0.0006583540488071993
          ],
          [
           -0.0006511734042500461
          ],
          [
           -0.0006436672160280066
          ],
          [
           -0.0006358344855720477
          ],
          [
           -0.000627674347671211
          ],
          [
           -0.0006191860732433685
          ],
          [
           -0.0006103690720895749
          ],
          [
           -0.000601222895628436
          ],
          [
           -0.0005917472396099932
          ],
          [
           -0.0005819419468069598
          ],
          [
           -0.0005718070096812544
          ],
          [
           -0.0005613425730244448
          ],
          [
           -0.000550548936569214
          ],
          [
           -0.0005394265575705737
          ],
          [
           -0.0005279760533556022
          ],
          [
           -0.000516198203837156
          ],
          [
           -0.0005040939539923317
          ],
          [
           -0.0004916644163020145
          ],
          [
           -0.00047891087315056973
          ],
          [
           -0.000465834779180515
          ],
          [
           -0.00045243776360528114
          ],
          [
           -0.0004387216324726239
          ],
          [
           -0.000424688370879519
          ],
          [
           -0.0004103401451356536
          ],
          [
           -0.0003956793048726836
          ],
          [
           -0.00038070838509809073
          ],
          [
           -0.0003654301081892541
          ],
          [
           -0.00034984738582879087
          ],
          [
           -0.0003339633208748937
          ],
          [
           -0.0003177812091673304
          ],
          [
           -0.00030130454126510935
          ],
          [
           -0.00028453700411436793
          ],
          [
           -0.00026748248264276347
          ],
          [
           -0.00025014506127970176
          ],
          [
           -0.00023252902539796166
          ],
          [
           -0.00021463886267610526
          ],
          [
           -0.00019647926437617807
          ],
          [
           -0.00017805512654069593
          ],
          [
           -0.0001593715510963733
          ],
          [
           -0.00014043384687108745
          ],
          [
           -0.00012124753051808373
          ],
          [
           -0.00010181832734281409
          ],
          [
           -8.215217203324181e-05
          ],
          [
           -6.225520928839428e-05
          ],
          [
           -4.213379434649605e-05
          ],
          [
           -2.1794493402135177e-05
          ],
          [
           -1.2440839205673441e-06
          ],
          [
           1.951044516255502e-05
          ],
          [
           4.046189335591761e-05
          ],
          [
           6.160284863885652e-05
          ],
          [
           8.29256876129037e-05
          ],
          [
           0.00010442257577090503
          ],
          [
           0.00012608546789203762
          ],
          [
           0.0001479061085630596
          ],
          [
           0.0001698760328314542
          ],
          [
           0.0001919865669863608
          ],
          [
           0.00021422882947994888
          ],
          [
           0.00023659373198279605
          ],
          [
           0.00025907198058093057
          ],
          [
           0.0002816540771139831
          ],
          [
           0.0003043303206626636
          ],
          [
           0.00032709080917912365
          ],
          [
           0.0003499254412729725
          ],
          [
           0.0003728239181467286
          ],
          [
           0.00039577574569003355
          ],
          [
           0.0004187702367296298
          ],
          [
           0.00044179651344220867
          ],
          [
           0.00046484350992935026
          ],
          [
           0.0004878999749593305
          ],
          [
           0.0005109544748755723
          ],
          [
           0.0005339953966777367
          ],
          [
           0.0005570109512746757
          ],
          [
           0.0005799891769130239
          ],
          [
           0.0006029179427853115
          ],
          [
           0.0006257849528120507
          ],
          [
           0.0006485777496157785
          ],
          [
           0.0006712837186700715
          ],
          [
           0.0006938900926430713
          ],
          [
           0.0007163839559224206
          ],
          [
           0.0007387522493368193
          ],
          [
           0.0007609817750698722
          ],
          [
           0.000783059201764228
          ],
          [
           0.0008049710698257806
          ],
          [
           0.0008267037969294877
          ],
          [
           0.000848243683717923
          ],
          [
           0.0008695769197085512
          ],
          [
           0.0008906895894030631
          ],
          [
           0.0009115676786009919
          ],
          [
           0.0009321970809191649
          ],
          [
           0.000952563604524096
          ],
          [
           0.0009726529790695471
          ],
          [
           0.0009924508628454765
          ],
          [
           0.0010119428501441463
          ],
          [
           0.001031114478832288
          ],
          [
           0.0010499512381455334
          ],
          [
           0.001068438576690015
          ],
          [
           0.0010865619106662317
          ],
          [
           0.0011043066323096296
          ],
          [
           0.0011216581185443475
          ],
          [
           0.0011386017398585613
          ],
          [
           0.0011551228694034277
          ],
          [
           0.001171206892295199
          ],
          [
           0.0011868392151544816
          ],
          [
           0.0012020052758562139
          ],
          [
           0.0012166905534979156
          ],
          [
           0.0012308805785879817
          ],
          [
           0.0012445609434551341
          ],
          [
           0.0012577173128743657
          ],
          [
           0.0012703354349122653
          ],
          [
           0.0012824011519830625
          ],
          [
           0.0012939004121296038
          ],
          [
           0.0013048192805157155
          ],
          [
           0.0013151439511310625
          ],
          [
           0.0013248607587087269
          ],
          [
           0.0013339561908552822
          ],
          [
           0.0013424169003975839
          ],
          [
           0.0013502297179127465
          ],
          [
           0.0013573816645023695
          ],
          [
           0.0013638599647301886
          ],
          [
           0.0013696520597888762
          ],
          [
           0.00137474562085114
          ],
          [
           0.0013791285626251015
          ],
          [
           0.0013827890570939727
          ],
          [
           0.0013857155474489102
          ],
          [
           0.0013878967622083882
          ],
          [
           0.0013893217295271965
          ],
          [
           0.0013899797916586498
          ],
          [
           0.0013898606196326246
          ],
          [
           0.0013889542280539435
          ],
          [
           0.001387250990118808
          ],
          [
           0.001384741652742253
          ],
          [
           0.0013814173518765605
          ],
          [
           0.0013772696279668961
          ],
          [
           0.0013722904415557158
          ],
          [
           0.0013664721890092968
          ],
          [
           0.0013598077184085822
          ],
          [
           0.0013522903455328395
          ],
          [
           0.001343913869990313
          ],
          [
           0.0013346725914430235
          ],
          [
           0.0013245613259439215
          ],
          [
           0.0013135754223726293
          ],
          [
           0.0013017107789608884
          ],
          [
           0.0012889638598917264
          ],
          [
           0.0012753317119892171
          ],
          [
           0.0012608119814424368
          ],
          [
           0.0012454029306262304
          ],
          [
           0.0012291034549228674
          ],
          [
           0.0012119130996014282
          ],
          [
           0.001193832076736715
          ],
          [
           0.0011748612821055138
          ],
          [
           0.0011550023121117226
          ],
          [
           0.0011342574806981565
          ],
          [
           0.0011126298362352605
          ],
          [
           0.0010901231783760712
          ],
          [
           0.0010667420748729872
          ],
          [
           0.0010424918783225967
          ],
          [
           0.001017378742850109
          ],
          [
           0.000991409640700528
          ],
          [
           0.0009645923787516642
          ],
          [
           0.0009369356148601715
          ],
          [
           0.0009084488741311991
          ],
          [
           0.0008791425650184015
          ],
          [
           0.0008490279952587476
          ],
          [
           0.0008181173876270298
          ],
          [
           0.0007864238955065195
          ],
          [
           0.0007539616182260323
          ],
          [
           0.0007207456161856063
          ],
          [
           0.0006867919257112865
          ],
          [
           0.0006521175736452312
          ],
          [
           0.000616740591650714
          ],
          [
           0.0005806800301938286
          ],
          [
           0.0005439559722081133
          ],
          [
           0.000506589546379036
          ],
          [
           0.00046860294009541176
          ],
          [
           0.0004300194119514023
          ],
          [
           0.0003908633038550525
          ],
          [
           0.00035116005268474366
          ],
          [
           0.0003109362014926765
          ],
          [
           0.0002702194101550182
          ],
          [
           0.00022903846557529645
          ],
          [
           0.00018742329127939057
          ],
          [
           0.0001454049564589644
          ],
          [
           0.0001030156844118258
          ],
          [
           6.0288860350791236e-05
          ],
          [
           1.725903852510042e-05
          ],
          [
           -2.6038051322526616e-05
          ],
          [
           -6.956549821115148e-05
          ],
          [
           -0.00011328520498334543
          ],
          [
           -0.0001571578841049936
          ],
          [
           -0.00020114305430087514
          ],
          [
           -0.0002451990380473356
          ],
          [
           -0.0002892829599664603
          ],
          [
           -0.00033335074610309705
          ],
          [
           -0.00037735712419663885
          ],
          [
           -0.0004212556249582244
          ],
          [
           -0.000464998584360462
          ],
          [
           -0.0005085371469929678
          ],
          [
           -0.0005518212705618775
          ],
          [
           -0.0005947997315066866
          ],
          [
           -0.0006374201318783046
          ],
          [
           -0.0006796289073610817
          ],
          [
           -0.0007213713366573027
          ],
          [
           -0.0007625915521559856
          ],
          [
           -0.0008032325519801342
          ],
          [
           -0.0008432362134657334
          ],
          [
           -0.0008825433080724887
          ],
          [
           -0.0009210935178364432
          ],
          [
           -0.0009588254533893414
          ],
          [
           -0.000995676673555398
          ],
          [
           -0.001031583706621394
          ],
          [
           -0.0010664820733547098
          ],
          [
           -0.0011003063117515277
          ],
          [
           -0.0011329900036164597
          ],
          [
           -0.001164465803044653
          ],
          [
           -0.0011946654667939394
          ],
          [
           -0.0012235198866962416
          ],
          [
           -0.0012509591240869222
          ],
          [
           -0.0012769124463639836
          ],
          [
           -0.001301308365714423
          ],
          [
           -0.0013240746801089964
          ],
          [
           -0.0013451385164872287
          ],
          [
           -0.0013644263764843922
          ],
          [
           -0.0013818641844215629
          ],
          [
           -0.0013973773378856047
          ],
          [
           -0.0014108907608742138
          ],
          [
           -0.0014223289595113508
          ],
          [
           -0.001431616080585304
          ],
          [
           -0.0014386759727548404
          ],
          [
           -0.0014434322506650299
          ],
          [
           -0.0014458083620295847
          ],
          [
           -0.001445727657644188
          ],
          [
           -0.0014431134645439736
          ],
          [
           -0.0014378891622980527
          ],
          [
           -0.0014299782626116164
          ],
          [
           -0.0014193044921396913
          ],
          [
           -0.0014057918788784784
          ],
          [
           -0.0013893648419211113
          ],
          [
           -0.001369948284854946
          ],
          [
           -0.0013474676928643314
          ],
          [
           -0.0013218492335672816
          ],
          [
           -0.001293019861721053
          ],
          [
           -0.0012609074279032095
          ],
          [
           -0.0012254407911717247
          ],
          [
           -0.0011865499360487386
          ],
          [
           -0.001144166093472695
          ],
          [
           -0.0010982218663974275
          ],
          [
           -0.0010486513596473979
          ],
          [
           -0.0009953903143523812
          ],
          [
           -0.0009383762471534462
          ],
          [
           -0.0008775485940345684
          ],
          [
           -0.0008128488591031735
          ],
          [
           -0.0007442207684048763
          ],
          [
           -0.0006716104287582036
          ],
          [
           -0.0005949664917691744
          ],
          [
           -0.0005142403234200865
          ],
          [
           -0.0004293861788168451
          ],
          [
           -0.00034036138265615905
          ],
          [
           -0.0002471265154161594
          ],
          [
           -0.00014964560532373044
          ],
          [
           -4.7886326276188544e-05
          ],
          [
           5.817979811926561e-05
          ],
          [
           0.00016857718437055864
          ],
          [
           0.000283325972484686
          ],
          [
           0.00040244180294966354
          ],
          [
           0.0005259355870089555
          ],
          [
           0.0006538132702781174
          ],
          [
           0.000786075589419436
          ],
          [
           0.0009227178216045606
          ],
          [
           0.001063729527198557
          ],
          [
           0.0012090942845924635
          ],
          [
           0.0013587894178806825
          ],
          [
           0.0015127857168645098
          ],
          [
           0.001671047148941266
          ],
          [
           0.001833530563561151
          ],
          [
           0.0020001853880510048
          ],
          [
           0.0021709533153449847
          ],
          [
           0.0023457679834232117
          ],
          [
           0.0025245546457762593
          ],
          [
           0.0027072298334639235
          ],
          [
           0.002893701007730879
          ],
          [
           0.00308386620403898
          ],
          [
           0.003277613666201699
          ],
          [
           0.0034748214714875694
          ],
          [
           0.003675357145633921
          ],
          [
           0.003879077268332235
          ],
          [
           0.004085827068282736
          ],
          [
           0.004295440008351118
          ],
          [
           0.004507737359910816
          ],
          [
           0.004722527766718979
          ],
          [
           0.004939606797970878
          ],
          [
           0.005158756490014052
          ],
          [
           0.005379744877219575
          ],
          [
           0.005602325510909093
          ],
          [
           0.005826236966799495
          ],
          [
           0.006051202340574416
          ],
          [
           0.006276928731177559
          ],
          [
           0.00650310671180652
          ],
          [
           0.006729409788280275
          ],
          [
           0.0069554938446737356
          ],
          [
           0.0071809965756864744
          ],
          [
           0.007405536905994306
          ],
          [
           0.007628714395851869
          ],
          [
           0.007850108632967515
          ],
          [
           0.008069278610281042
          ],
          [
           0.00828576208985741
          ],
          [
           0.008499074951446953
          ],
          [
           0.00870871052728948
          ],
          [
           0.008914138920831685
          ],
          [
           0.009114806310906868
          ],
          [
           0.009310134239984261
          ],
          [
           0.009499518886658545
          ],
          [
           0.009682330321697389
          ],
          [
           0.009857911748329154
          ],
          [
           0.010025578725193366
          ],
          [
           0.010184618372550783
          ],
          [
           0.010334288561326769
          ],
          [
           0.01047381708451898
          ],
          [
           0.010602400810415172
          ],
          [
           0.010719204818217956
          ],
          [
           0.010823361514754918
          ],
          [
           0.010913969732316712
          ],
          [
           0.010990093807992632
          ],
          [
           0.0110507626427415
          ],
          [
           0.011094968741505265
          ],
          [
           0.011121667232446878
          ],
          [
           0.01112977486654874
          ],
          [
           0.011118168995752778
          ],
          [
           0.011085686530636888
          ],
          [
           0.011031122876164015
          ],
          [
           0.010953230845816545
          ],
          [
           0.010850719553590163
          ],
          [
           0.010722253283449315
          ],
          [
           0.010566450335931602
          ],
          [
           0.01038188185150322
          ],
          [
           0.010167070610239118
          ],
          [
           0.00992048980744418
          ],
          [
           0.00964056180515858
          ],
          [
           0.00932565685856677
          ],
          [
           0.008974091817423794
          ],
          [
           0.008584128801987315
          ],
          [
           0.008153973852346933
          ],
          [
           0.007681775552713968
          ],
          [
           0.007165623627445864
          ],
          [
           0.006603547510553124
          ],
          [
           0.005993514887694043
          ],
          [
           0.00533343020977615
          ],
          [
           0.004621133178192774
          ],
          [
           0.003854397201069485
          ],
          [
           0.0030309278203498415
          ],
          [
           0.002148361108299394
          ],
          [
           0.0012042620345932098
          ],
          [
           0.00019612280225321028
          ],
          [
           -0.0008786388477067997
          ],
          [
           -0.002022681363411568
          ],
          [
           -0.0032387411412576803
          ],
          [
           -0.0045296343178739176
          ],
          [
           -0.005898258594851843
          ],
          [
           -0.007347595098349832
          ],
          [
           -0.008880710270842048
          ],
          [
           -0.010500757799957757
          ],
          [
           -0.012210980580431926
          ],
          [
           -0.014014712713174579
          ],
          [
           -0.015915381539639912
          ],
          [
           -0.017916509714053137
          ],
          [
           -0.020021717312045512
          ],
          [
           -0.022234723977346067
          ],
          [
           -0.024559351107524736
          ],
          [
           -0.026999524077934284
          ],
          [
           -0.029559274506039474
          ],
          [
           -0.03224274255488293
          ],
          [
           -0.03505417927818879
          ],
          [
           -0.03799794900676314
          ],
          [
           -0.04107853177599221
          ],
          [
           -0.04430052579676893
          ],
          [
           -0.04766864996890998
          ]
         ],
         "yaxis": "y2"
        }
       ],
       "layout": {
        "template": {
         "data": {
          "bar": [
           {
            "error_x": {
             "color": "#2a3f5f"
            },
            "error_y": {
             "color": "#2a3f5f"
            },
            "marker": {
             "line": {
              "color": "#E5ECF6",
              "width": 0.5
             },
             "pattern": {
              "fillmode": "overlay",
              "size": 10,
              "solidity": 0.2
             }
            },
            "type": "bar"
           }
          ],
          "barpolar": [
           {
            "marker": {
             "line": {
              "color": "#E5ECF6",
              "width": 0.5
             },
             "pattern": {
              "fillmode": "overlay",
              "size": 10,
              "solidity": 0.2
             }
            },
            "type": "barpolar"
           }
          ],
          "carpet": [
           {
            "aaxis": {
             "endlinecolor": "#2a3f5f",
             "gridcolor": "white",
             "linecolor": "white",
             "minorgridcolor": "white",
             "startlinecolor": "#2a3f5f"
            },
            "baxis": {
             "endlinecolor": "#2a3f5f",
             "gridcolor": "white",
             "linecolor": "white",
             "minorgridcolor": "white",
             "startlinecolor": "#2a3f5f"
            },
            "type": "carpet"
           }
          ],
          "choropleth": [
           {
            "colorbar": {
             "outlinewidth": 0,
             "ticks": ""
            },
            "type": "choropleth"
           }
          ],
          "contour": [
           {
            "colorbar": {
             "outlinewidth": 0,
             "ticks": ""
            },
            "colorscale": [
             [
              0,
              "#0d0887"
             ],
             [
              0.1111111111111111,
              "#46039f"
             ],
             [
              0.2222222222222222,
              "#7201a8"
             ],
             [
              0.3333333333333333,
              "#9c179e"
             ],
             [
              0.4444444444444444,
              "#bd3786"
             ],
             [
              0.5555555555555556,
              "#d8576b"
             ],
             [
              0.6666666666666666,
              "#ed7953"
             ],
             [
              0.7777777777777778,
              "#fb9f3a"
             ],
             [
              0.8888888888888888,
              "#fdca26"
             ],
             [
              1,
              "#f0f921"
             ]
            ],
            "type": "contour"
           }
          ],
          "contourcarpet": [
           {
            "colorbar": {
             "outlinewidth": 0,
             "ticks": ""
            },
            "type": "contourcarpet"
           }
          ],
          "heatmap": [
           {
            "colorbar": {
             "outlinewidth": 0,
             "ticks": ""
            },
            "colorscale": [
             [
              0,
              "#0d0887"
             ],
             [
              0.1111111111111111,
              "#46039f"
             ],
             [
              0.2222222222222222,
              "#7201a8"
             ],
             [
              0.3333333333333333,
              "#9c179e"
             ],
             [
              0.4444444444444444,
              "#bd3786"
             ],
             [
              0.5555555555555556,
              "#d8576b"
             ],
             [
              0.6666666666666666,
              "#ed7953"
             ],
             [
              0.7777777777777778,
              "#fb9f3a"
             ],
             [
              0.8888888888888888,
              "#fdca26"
             ],
             [
              1,
              "#f0f921"
             ]
            ],
            "type": "heatmap"
           }
          ],
          "heatmapgl": [
           {
            "colorbar": {
             "outlinewidth": 0,
             "ticks": ""
            },
            "colorscale": [
             [
              0,
              "#0d0887"
             ],
             [
              0.1111111111111111,
              "#46039f"
             ],
             [
              0.2222222222222222,
              "#7201a8"
             ],
             [
              0.3333333333333333,
              "#9c179e"
             ],
             [
              0.4444444444444444,
              "#bd3786"
             ],
             [
              0.5555555555555556,
              "#d8576b"
             ],
             [
              0.6666666666666666,
              "#ed7953"
             ],
             [
              0.7777777777777778,
              "#fb9f3a"
             ],
             [
              0.8888888888888888,
              "#fdca26"
             ],
             [
              1,
              "#f0f921"
             ]
            ],
            "type": "heatmapgl"
           }
          ],
          "histogram": [
           {
            "marker": {
             "pattern": {
              "fillmode": "overlay",
              "size": 10,
              "solidity": 0.2
             }
            },
            "type": "histogram"
           }
          ],
          "histogram2d": [
           {
            "colorbar": {
             "outlinewidth": 0,
             "ticks": ""
            },
            "colorscale": [
             [
              0,
              "#0d0887"
             ],
             [
              0.1111111111111111,
              "#46039f"
             ],
             [
              0.2222222222222222,
              "#7201a8"
             ],
             [
              0.3333333333333333,
              "#9c179e"
             ],
             [
              0.4444444444444444,
              "#bd3786"
             ],
             [
              0.5555555555555556,
              "#d8576b"
             ],
             [
              0.6666666666666666,
              "#ed7953"
             ],
             [
              0.7777777777777778,
              "#fb9f3a"
             ],
             [
              0.8888888888888888,
              "#fdca26"
             ],
             [
              1,
              "#f0f921"
             ]
            ],
            "type": "histogram2d"
           }
          ],
          "histogram2dcontour": [
           {
            "colorbar": {
             "outlinewidth": 0,
             "ticks": ""
            },
            "colorscale": [
             [
              0,
              "#0d0887"
             ],
             [
              0.1111111111111111,
              "#46039f"
             ],
             [
              0.2222222222222222,
              "#7201a8"
             ],
             [
              0.3333333333333333,
              "#9c179e"
             ],
             [
              0.4444444444444444,
              "#bd3786"
             ],
             [
              0.5555555555555556,
              "#d8576b"
             ],
             [
              0.6666666666666666,
              "#ed7953"
             ],
             [
              0.7777777777777778,
              "#fb9f3a"
             ],
             [
              0.8888888888888888,
              "#fdca26"
             ],
             [
              1,
              "#f0f921"
             ]
            ],
            "type": "histogram2dcontour"
           }
          ],
          "mesh3d": [
           {
            "colorbar": {
             "outlinewidth": 0,
             "ticks": ""
            },
            "type": "mesh3d"
           }
          ],
          "parcoords": [
           {
            "line": {
             "colorbar": {
              "outlinewidth": 0,
              "ticks": ""
             }
            },
            "type": "parcoords"
           }
          ],
          "pie": [
           {
            "automargin": true,
            "type": "pie"
           }
          ],
          "scatter": [
           {
            "marker": {
             "colorbar": {
              "outlinewidth": 0,
              "ticks": ""
             }
            },
            "type": "scatter"
           }
          ],
          "scatter3d": [
           {
            "line": {
             "colorbar": {
              "outlinewidth": 0,
              "ticks": ""
             }
            },
            "marker": {
             "colorbar": {
              "outlinewidth": 0,
              "ticks": ""
             }
            },
            "type": "scatter3d"
           }
          ],
          "scattercarpet": [
           {
            "marker": {
             "colorbar": {
              "outlinewidth": 0,
              "ticks": ""
             }
            },
            "type": "scattercarpet"
           }
          ],
          "scattergeo": [
           {
            "marker": {
             "colorbar": {
              "outlinewidth": 0,
              "ticks": ""
             }
            },
            "type": "scattergeo"
           }
          ],
          "scattergl": [
           {
            "marker": {
             "colorbar": {
              "outlinewidth": 0,
              "ticks": ""
             }
            },
            "type": "scattergl"
           }
          ],
          "scattermapbox": [
           {
            "marker": {
             "colorbar": {
              "outlinewidth": 0,
              "ticks": ""
             }
            },
            "type": "scattermapbox"
           }
          ],
          "scatterpolar": [
           {
            "marker": {
             "colorbar": {
              "outlinewidth": 0,
              "ticks": ""
             }
            },
            "type": "scatterpolar"
           }
          ],
          "scatterpolargl": [
           {
            "marker": {
             "colorbar": {
              "outlinewidth": 0,
              "ticks": ""
             }
            },
            "type": "scatterpolargl"
           }
          ],
          "scatterternary": [
           {
            "marker": {
             "colorbar": {
              "outlinewidth": 0,
              "ticks": ""
             }
            },
            "type": "scatterternary"
           }
          ],
          "surface": [
           {
            "colorbar": {
             "outlinewidth": 0,
             "ticks": ""
            },
            "colorscale": [
             [
              0,
              "#0d0887"
             ],
             [
              0.1111111111111111,
              "#46039f"
             ],
             [
              0.2222222222222222,
              "#7201a8"
             ],
             [
              0.3333333333333333,
              "#9c179e"
             ],
             [
              0.4444444444444444,
              "#bd3786"
             ],
             [
              0.5555555555555556,
              "#d8576b"
             ],
             [
              0.6666666666666666,
              "#ed7953"
             ],
             [
              0.7777777777777778,
              "#fb9f3a"
             ],
             [
              0.8888888888888888,
              "#fdca26"
             ],
             [
              1,
              "#f0f921"
             ]
            ],
            "type": "surface"
           }
          ],
          "table": [
           {
            "cells": {
             "fill": {
              "color": "#EBF0F8"
             },
             "line": {
              "color": "white"
             }
            },
            "header": {
             "fill": {
              "color": "#C8D4E3"
             },
             "line": {
              "color": "white"
             }
            },
            "type": "table"
           }
          ]
         },
         "layout": {
          "annotationdefaults": {
           "arrowcolor": "#2a3f5f",
           "arrowhead": 0,
           "arrowwidth": 1
          },
          "autotypenumbers": "strict",
          "coloraxis": {
           "colorbar": {
            "outlinewidth": 0,
            "ticks": ""
           }
          },
          "colorscale": {
           "diverging": [
            [
             0,
             "#8e0152"
            ],
            [
             0.1,
             "#c51b7d"
            ],
            [
             0.2,
             "#de77ae"
            ],
            [
             0.3,
             "#f1b6da"
            ],
            [
             0.4,
             "#fde0ef"
            ],
            [
             0.5,
             "#f7f7f7"
            ],
            [
             0.6,
             "#e6f5d0"
            ],
            [
             0.7,
             "#b8e186"
            ],
            [
             0.8,
             "#7fbc41"
            ],
            [
             0.9,
             "#4d9221"
            ],
            [
             1,
             "#276419"
            ]
           ],
           "sequential": [
            [
             0,
             "#0d0887"
            ],
            [
             0.1111111111111111,
             "#46039f"
            ],
            [
             0.2222222222222222,
             "#7201a8"
            ],
            [
             0.3333333333333333,
             "#9c179e"
            ],
            [
             0.4444444444444444,
             "#bd3786"
            ],
            [
             0.5555555555555556,
             "#d8576b"
            ],
            [
             0.6666666666666666,
             "#ed7953"
            ],
            [
             0.7777777777777778,
             "#fb9f3a"
            ],
            [
             0.8888888888888888,
             "#fdca26"
            ],
            [
             1,
             "#f0f921"
            ]
           ],
           "sequentialminus": [
            [
             0,
             "#0d0887"
            ],
            [
             0.1111111111111111,
             "#46039f"
            ],
            [
             0.2222222222222222,
             "#7201a8"
            ],
            [
             0.3333333333333333,
             "#9c179e"
            ],
            [
             0.4444444444444444,
             "#bd3786"
            ],
            [
             0.5555555555555556,
             "#d8576b"
            ],
            [
             0.6666666666666666,
             "#ed7953"
            ],
            [
             0.7777777777777778,
             "#fb9f3a"
            ],
            [
             0.8888888888888888,
             "#fdca26"
            ],
            [
             1,
             "#f0f921"
            ]
           ]
          },
          "colorway": [
           "#636efa",
           "#EF553B",
           "#00cc96",
           "#ab63fa",
           "#FFA15A",
           "#19d3f3",
           "#FF6692",
           "#B6E880",
           "#FF97FF",
           "#FECB52"
          ],
          "font": {
           "color": "#2a3f5f"
          },
          "geo": {
           "bgcolor": "white",
           "lakecolor": "white",
           "landcolor": "#E5ECF6",
           "showlakes": true,
           "showland": true,
           "subunitcolor": "white"
          },
          "hoverlabel": {
           "align": "left"
          },
          "hovermode": "closest",
          "mapbox": {
           "style": "light"
          },
          "paper_bgcolor": "white",
          "plot_bgcolor": "#E5ECF6",
          "polar": {
           "angularaxis": {
            "gridcolor": "white",
            "linecolor": "white",
            "ticks": ""
           },
           "bgcolor": "#E5ECF6",
           "radialaxis": {
            "gridcolor": "white",
            "linecolor": "white",
            "ticks": ""
           }
          },
          "scene": {
           "xaxis": {
            "backgroundcolor": "#E5ECF6",
            "gridcolor": "white",
            "gridwidth": 2,
            "linecolor": "white",
            "showbackground": true,
            "ticks": "",
            "zerolinecolor": "white"
           },
           "yaxis": {
            "backgroundcolor": "#E5ECF6",
            "gridcolor": "white",
            "gridwidth": 2,
            "linecolor": "white",
            "showbackground": true,
            "ticks": "",
            "zerolinecolor": "white"
           },
           "zaxis": {
            "backgroundcolor": "#E5ECF6",
            "gridcolor": "white",
            "gridwidth": 2,
            "linecolor": "white",
            "showbackground": true,
            "ticks": "",
            "zerolinecolor": "white"
           }
          },
          "shapedefaults": {
           "line": {
            "color": "#2a3f5f"
           }
          },
          "ternary": {
           "aaxis": {
            "gridcolor": "white",
            "linecolor": "white",
            "ticks": ""
           },
           "baxis": {
            "gridcolor": "white",
            "linecolor": "white",
            "ticks": ""
           },
           "bgcolor": "#E5ECF6",
           "caxis": {
            "gridcolor": "white",
            "linecolor": "white",
            "ticks": ""
           }
          },
          "title": {
           "x": 0.05
          },
          "xaxis": {
           "automargin": true,
           "gridcolor": "white",
           "linecolor": "white",
           "ticks": "",
           "title": {
            "standoff": 15
           },
           "zerolinecolor": "white",
           "zerolinewidth": 2
          },
          "yaxis": {
           "automargin": true,
           "gridcolor": "white",
           "linecolor": "white",
           "ticks": "",
           "title": {
            "standoff": 15
           },
           "zerolinecolor": "white",
           "zerolinewidth": 2
          }
         }
        },
        "xaxis": {
         "anchor": "y",
         "domain": [
          0,
          0.94
         ]
        },
        "yaxis": {
         "anchor": "x",
         "domain": [
          0,
          1
         ]
        },
        "yaxis2": {
         "anchor": "x",
         "overlaying": "y",
         "side": "right"
        }
       }
      },
      "text/html": [
       "<div>                            <div id=\"6bf5913d-b3c1-46b7-9d7b-218bf259a149\" class=\"plotly-graph-div\" style=\"height:525px; width:100%;\"></div>            <script type=\"text/javascript\">                require([\"plotly\"], function(Plotly) {                    window.PLOTLYENV=window.PLOTLYENV || {};                                    if (document.getElementById(\"6bf5913d-b3c1-46b7-9d7b-218bf259a149\")) {                    Plotly.newPlot(                        \"6bf5913d-b3c1-46b7-9d7b-218bf259a149\",                        [{\"name\":\"True\",\"x\":[1,2,3,4,5,6,7,8,9,10,11,12,13,14,15,16,17,18,19,20,21,22,23,24,25,26,27,28,29,30,31,32,33,34,35,36,37,38,39,40,41,42,43,44,45,46,47,48,49,50,51,52,53,54,55,56,57,58,59,60,61,62,63,64,65,66,67,68,69,70,71,72,73,74,75,76,77,78,79,80,81,82,83,84,85,86,87,88,89,90,91,92,93,94,95,96,97,98,99,100,101,102,103,104,105,106,107,108,109,110,111,112,113,114,115,116,117,118,119,120,121,122,123,124,125,126,127,128,129,130,131,132,133,134,135,136,137,138,139,140,141,142,143,144,145,146,147,148,149,150,151,152,153,154,155,156,157,158,159,160,161,162,163,164,165,166,167,168,169,170,171,172,173,174,175,176,177,178,179,180,181,182,183,184,185,186,187,188,189,190,191,192,193,194,195,196,197,198,199,200,201,202,203,204,205,206,207,208,209,210,211,212,213,214,215,216,217,218,219,220,221,222,223,224,225,226,227,228,229,230,231,232,233,234,235,236,237,238,239,240,241,242,243,244,245,246,247,248,249,250,251,252,253,254,255,256,257,258,259,260,261,262,263,264,265,266,267,268,269,270,271,272,273,274,275,276,277,278,279,280,281,282,283,284,285,286,287,288,289,290,291,292,293,294,295,296,297,298,299,300,301,302,303,304,305,306,307,308,309,310,311,312,313,314,315,316,317,318,319,320,321,322,323,324,325,326,327,328,329,330,331,332,333,334,335,336,337,338,339,340,341,342,343,344,345,346,347,348,349,350,351,352,353,354,355,356,357,358,359,360,361,362,363,364,365,366,367,368,369,370,371,372,373,374,375,376,377,378,379,380,381,382,383,384,385,386,387,388,389,390,391,392,393,394,395,396,397,398,399,400,401,402,403,404,405,406,407,408,409,410,411,412,413,414,415,416,417,418,419,420,421,422,423,424,425,426,427,428,429,430,431,432,433,434,435,436,437,438,439,440,441,442,443,444,445,446,447,448,449,450,451,452,453,454,455,456,457,458,459,460,461,462,463,464,465,466,467,468,469,470,471,472,473,474,475,476,477,478,479,480,481,482,483,484,485,486,487,488,489,490,491,492,493,494,495,496,497,498,499,500,501,502,503,504,505,506,507,508,509,510,511,512,513,514,515,516,517,518,519,520,521,522,523,524,525,526,527,528,529,530,531,532,533,534,535,536,537,538,539,540,541,542,543,544,545,546,547,548,549,550,551,552,553,554,555,556,557,558,559,560,561,562,563,564,565,566,567,568,569,570,571,572,573,574,575,576,577,578,579,580,581,582,583,584,585,586,587,588,589,590,591,592,593,594,595,596,597,598,599,600,601,602,603,604,605,606,607,608,609,610,611,612,613,614,615,616,617,618,619,620,621,622,623,624,625,626,627,628,629,630,631,632,633,634,635,636,637,638,639,640,641,642,643,644,645,646,647,648,649,650,651,652,653,654,655,656,657,658,659,660,661,662,663,664,665,666,667,668,669,670,671,672,673,674,675,676,677,678,679,680,681,682,683,684,685,686,687,688,689,690,691,692,693,694,695,696,697,698,699,700,701,702,703,704,705,706,707,708,709,710,711,712,713,714,715,716,717,718,719,720,721,722,723,724,725,726,727,728,729,730,731,732,733,734,735,736,737,738,739,740,741,742,743,744,745,746,747,748,749,750,751,752,753,754,755,756,757,758,759,760,761,762,763,764,765,766,767,768,769,770,771,772,773,774,775,776,777,778,779,780,781,782,783,784,785,786,787,788,789,790,791,792,793,794,795,796,797,798,799,800],\"y\":[0.0,0.0,0.0,0.0,0.0,0.0,0.0,0.0,0.0,0.0,0.0,0.0,0.0,0.0,0.0,0.0,0.0,0.0,0.0,0.0,0.0,0.0,0.0,0.0,0.0,0.0,0.0,0.0,0.0,9.890658767327198e-06,-9.890658767327198e-06,0.0,0.0,0.0,0.0,0.0,0.0,0.0,0.0,0.0,0.0,0.0,0.0,0.0,0.0,0.0,0.0,0.0,0.0,0.0,0.0,0.0,0.0,0.0,0.0,0.0,0.0,0.0,0.0,0.0,4.945329383663599e-06,-4.945329383663599e-06,0.0,4.945329383663599e-06,3.956263506930879e-05,-4.450796445297239e-05,1.97813175346544e-05,-1.97813175346544e-05,1.4835988150990796e-05,-1.4835988150990796e-05,3.956263506930879e-05,4.450796445297239e-05,-1.4835988150990804e-05,-4.945329383663599e-05,0.0001137425758242,-1.4835988150990804e-05,4.450796445297239e-05,9.39612582896084e-05,9.890658767327176e-06,-4.945329383663588e-06,3.956263506930876e-05,4.945329383663599e-05,-6.923461137129034e-05,0.0005242049146683,9.396125828960828e-05,6.923461137129045e-05,0.0001582505402772,0.0002077038341138,0.0001582505402772,0.000984120547349,-0.0003016650924034,0.0016369040259926,-0.0008407059952228,-9.39612582896085e-05,0.0003758450331584,0.0014638174975644,0.0009890658767327,0.0001038519170569,0.0014044735449604,0.0016171227084579,-0.0005884941966559,0.0025666259501214,0.0018396625307228,0.0010681911468713,0.0030364322415694,0.0002967197630198,0.0030759948766387,0.0035359105093194,0.006305294964171,-0.0088620302555251,0.0067948825731537,-0.0020078037297674,-0.0022847421752525,0.0053162290874383,0.0005786035378886,0.0019534051065471,-0.0008060886895371,0.0010533551587203,-0.0028188377486882,0.0062212243646488,0.0041244047059754,0.0083576066583914,0.0049947826775002,-0.0002571571279505,-0.0023688127747748,0.0022600155283342,0.0033232613458219,-0.002630915232109,0.0005835488672723,0.0009643392298143,0.0031847921230793,-0.0037436143434333,-0.0043073818931709,-0.0002670477867178,0.003085885535406,-0.0069135704783617,0.0025171726562847,-0.0038721929074085,0.0016665760022946,-0.0024677193624481,0.0004203529976114,0.0002225398222648,0.0026704778671783,-0.0041293500353591,0.0017160292961312,-0.0001533052108935,-0.0028534550543738,0.0001631958696609,0.0009940112061163,0.0018792251657921,0.0015627240852377,-0.0038721929074085,0.0018446078601065,-0.0016270133672253,0.001453926838797,-0.0005192595852846,0.0006330021611089,0.0006181661729579,-4.945329383658492e-06,-0.0018940611539431,-0.0009593939004307,0.0018990064833268,0.000909940606594,-0.0013055669572871,0.0005538768909703,-0.0029276349951288,0.0001186879052079,-0.0020622023529877,-0.0002571571279505,0.000984120547349,-0.00049947826775,-0.0007566353957005,-0.0006478381492599,-0.0008555419833738,-0.0012264416871485,-0.0002967197630198,-0.0015676694146213,0.0002719931161014,-0.0002917744336361,-0.00049947826775,0.0,-0.0006577288080272,0.0009989565355,-0.0002077038341138,-0.0004302436563787,0.0004747516208317,-0.0007417994075495,-0.0010187378530347,0.0008456513246064,-0.0002126491634975,0.0006527834786435,-0.0001829771871955,4.945329383665431e-06,-0.0003758450331584,-0.0013401842629728,0.0008407059952228,2.4726646918320216e-05,-0.0001285785639752,-0.0008654326421411,-0.0005835488672723,-0.0009643392298144,-0.0003610090450074,0.0001087972464406,-9.890658767327391e-05,-0.0002522117985668,0.0002670477867178,-0.000454970303297,-0.0006626741374109,-0.0011225897700916,0.0003412277274727,0.0001730865284282,-7.912527013861914e-05,-0.0001928678459628,-0.0002077038341138,-0.0001137425758242,-0.0012017150402302,0.0003214464099381,0.0002621024573341,-0.0002373758104158,-2.9671976301982175e-05,-0.0001483598815099,-0.0003659543743911,-0.0009346672535124,0.0008011433601535,-0.0001829771871955,-4.945329383665431e-06,6.923461137129175e-05,-0.0005884941966559,-0.0003560637156237,-0.0005983848554232,0.0003560637156237,-0.0001137425758242,0.0003511183862401,0.0001087972464406,-0.0003115557511708,-0.0005390409028193,-0.0002423211397995,1.4835988150992824e-05,0.0001631958696608,0.000410462338844,0.0004203529976114,0.0002670477867178,0.0001730865284282,-0.0012956762985198,0.0011028084525569,0.0003214464099381,0.0005242049146683,0.000395626350693,-0.0002324304810321,4.4507964452975e-05,-0.000425298326995,0.0007516900663168,0.0006824554549455,0.0005489315615866,-7.417994075495371e-05,-0.0002225398222648,0.0002621024573341,0.0001038519170569,0.0008753233009084,0.0002719931161014,0.0006725647961782,0.0007764167132351,0.000410462338844,0.0002324304810321,9.39612582896085e-05,0.0010929177937896,0.0007863073720025,0.0030809402060224,0.001528106779552,0.0016962479785966,0.0012956762985198,0.0005093689265173,0.0011967697108465,0.0022946328340199,0.0022699061871015,0.0021808902581956,0.0031699561349283,0.0018841704951758,0.0035804184737724,-0.0024726646918317,0.0018000998956535,0.003085885535406,0.0034815118860991,0.0038029582960373,-0.0001780318578118,0.0014044735449604,0.0017358106136659,-0.0023984847510768,0.0068294998788394,-0.0011572070757772,0.00049947826775,0.0051381972296264,0.0013105122866708,-0.0032836987107526,0.0012857856397525,0.0067899372437701,-0.0040403341064531,0.0006527834786436,0.0037386690140496,-0.0039859354832328,-0.0022550701989506,0.0075762446157726,0.0028138924193045,-0.0007566353957005,0.0027050951728639,-0.0018000998956535,0.0020473663648367,0.0052024865116141,-0.0018149358838045,0.0061915523883468,-0.0012808403103688,0.0006874007843292,0.0065723427508889,-0.0040156074595348,-0.0058453793314903,0.0086543264214112,0.0018990064833268,0.0035804184737724,-0.0006330021611089,0.0012313870165322,-0.0017852639075025,-0.0073388688053567,0.0129567629851986,0.0035705278150051,0.0023688127747748,-0.0012017150402302,0.0029474163126635,-0.0039760448244655,-0.0034320585922625,0.0089114835493618,0.0102467224829509,-0.0022649608577179,-0.002072093011755,-0.0017011933079802,0.000395626350693,-0.0053557917225076,0.0137776876628867,-0.0037139423671313,0.0067849919143864,0.0012412776752995,-0.0044656324334482,-0.0101181439189757,0.000425298326995,0.008525747857436,0.0031847921230793,-0.0023589221160075,-0.0003857356919257,-0.003704051708364,-0.0031501748173937,-0.0009445579122797,0.0084713492342157,0.0016270133672253,-0.0017011933079802,0.0036496530851437,0.002012749059151,-0.0028534550543738,-0.0075465726394706,0.0132782093951367,-0.0044705777628319,0.0011769883933119,-0.0048662041135249,-0.0024034300804605,-0.0038326302723392,-0.0024380473861461,0.0025616806207377,-0.0033380973339729,-0.0103505744000079,-0.0041046233884407,0.0046486096206437,-0.0002621024573341,-0.0033826052984258,0.0005538768909703,-0.001572614744005,-0.0023341954690892,0.0023638674453912,-0.0017852639075025,-0.0005588222203539,0.0086988343858642,-4.4507964452975e-05,-0.003085885535406,-0.0024331020567624,-0.0033084253576709,-0.005276666452369,-0.00314522948801,0.0036496530851437,-0.0017902092368862,-0.0029523616420471,0.0010632458174876,-0.0089065382199781,-0.0050293999831858,-0.0025616806207377,0.0068838985020597,0.0005439862322029,-0.0010632458174876,-0.0033034800282872,-0.0034221679334952,-0.0048711494429086,-0.0009099406065941,0.0011918243814629,-9.396125828961543e-05,-0.0003214464099381,-0.0028237830780719,-0.000529150244052,-0.0044161791396115,-0.0027199311610149,0.0026952045140966,0.0003165010805544,-0.0011225897700916,-0.0033232613458219,0.0001533052108935,-0.00479202417277,-0.0019830770828491,0.0030364322415694,-4.945329383665431e-06,-0.0023094688221709,-0.0010236831824183,-0.0005588222203539,-0.0038375756017229,-0.0003461730568564,-0.0026803685259456,-0.0005538768909703,0.0022451795401832,-0.0008654326421411,0.0010681911468713,-0.0049898373481165,-0.0001236332345915,0.004188693987963,-0.0017654825899679,1.4835988150996292e-05,-0.002131436964359,-0.0016467946847599,-0.0039710994950818,-0.0018099905544208,0.0009445579122797,0.0026111339145743,0.0005588222203539,0.0008753233009084,-0.0031551201467773,-0.0002077038341138,-0.0019534051065471,0.0039710994950818,-0.00049947826775,-0.0003165010805544,-0.0016467946847599,-9.890658767327391e-05,-0.0040848420709061,0.0019781317534654,0.0017753732487352,-0.0002719931161015,-0.0014341455212624,0.000969284559198,-0.0019286784596288,-0.0021116556468243,-2.9671976301985648e-05,0.0044557417746809,-0.0018544985188738,0.0011077537819406,-0.0010335738411856,-0.0008505966539901,-0.0015775600733886,-0.0001582505402772,0.0018347172013391,0.0023836487629258,-0.0022105622344976,-1.9781317534654785e-05,-0.0019039518127104,-0.0007269634193985,0.0007813620426188,0.0030463229003367,0.0002670477867178,0.0016270133672253,-0.0034320585922625,-0.0002077038341138,-0.0020819836705223,0.0005044235971336,0.0036001997913071,-0.0007764167132351,-9.39612582896085e-05,-0.0002274851516485,0.0001434145521262,-0.0037089970377476,-0.0009989565355,0.0070817116774062,-0.0027100405022476,0.0026408058908763,-0.0028336737368392,-0.0010187378530346,-0.0035359105093194,0.0010088471942673,-0.0016764666610619,0.003674379732062,-0.0003115557511708,0.000454970303297,0.0002373758104158,-0.0017259199548985,0.0005291502440519,0.0008060886895371,0.005336010404973,-0.0033183160164382,-0.0011918243814629,0.0038474662604902,-0.0056722928030621,-0.0012758949809852,0.0064932174807503,-0.0014885441444827,-0.0011176444407079,0.0011967697108465,-0.0026902591847129,-0.0025765166088887,0.0023984847510768,0.0032836987107526,0.0010632458174876,0.0001434145521262,0.0019929677416164,-0.0060184658599185,0.0050837986064061,-0.0032985346989036,0.0005192595852846,6.428928198762285e-05,0.0009445579122797,6.923461137128828e-05,0.0013451295923564,0.0027001498434803,0.002116600976208,0.0063745295755423,0.0039612088363145,0.0049403840542799,0.0059393405897799,-0.0049997280068839,0.0022352888814159,-0.0039216462012452,0.003204573440614,0.0157953820514215,0.0031056668529407,-0.001542942767703,-0.0012511683340668,-0.0033430426633565,0.004277709916869,0.0126996058572481,0.0009593939004307,0.0061668257414285,-0.0056525114855274,0.0053854636988096,-0.0051480878883938,0.002057257023604,0.0123385968122406,-0.0016665760022946,0.0059937392130002,0.0034122772747278,-0.0039463728481635,-0.00479202417277,0.0028880723600595,0.0042084753054977,0.0046387189618764,-0.0034221679334952,-0.0003115557511707,0.0005192595852846,-0.0021660542700446,-0.0043518898576239,0.0072300715589161,0.0019534051065471,-0.0029573069714308,-0.000543986232203,-0.0018891158245594,-0.0042727645874853,-0.0003461730568564,0.0038276849429556,-0.0032738080519853,0.0005884941966559,0.0006033301848069,-0.0041491313528937,-0.0009495032416634,-0.0030463229003367,0.004203529976114,0.0014638174975644,0.0012264416871485,-0.0049453293836635,0.0034864572154828,-0.007408103416728,0.0028781817012922,0.002527063315052,-0.0024281567273788,-0.0017110839667476,0.0026902591847129,-0.0035458011680868,-0.0039018648837105,0.000954448571047,0.0017457012724332,0.0017308652842822,-0.0006428928198762,-0.0025765166088887,-0.004233201952416,0.0009643392298144,-0.0001829771871955,0.0007269634193985,-0.0002818837748688,5.934395260395742e-05,-0.0021611089406609,-0.0054497529807972,-0.0030413775709531,0.0035210745211684,0.0006033301848069,-0.0005538768909703,1.9781317534647846e-05,-0.0009297219241287,-0.0046486096206437,-0.0023935394216931,0.0028732363719085,0.00314522948801,-0.0005983848554232,-0.0003461730568564,-0.0006824554549455,-0.0038326302723392,-0.0021116556468243,0.0030314869121857,0.0017803185781188,-0.0001236332345915,0.0027496031373169,-0.0016270133672253,-0.0018495531894901,-0.0016418493553763,0.0050145639950348,0.0036842703908293,0.0014885441444827,0.002027585047302,-0.0008604873127574,-0.0022204528932649,-0.0028682910425248,0.0025320086444357,0.008481239892983,-0.0004005716800767,0.0031699561349283,0.0021363822937426,-0.0014044735449604,-0.0034172226041115,0.0042084753054977,0.0071163289830919,0.0030809402060224,0.0033578786515075,0.002616079243958,-5.439862322029199e-05,-0.0033875506278095,6.923461137128828e-05,0.0118786811795599,-0.0015825054027723,0.0103209024237059,-0.0037535050022006,0.0036941610495967,-0.0060431925068369,0.0025320086444357,0.0126748792103297,0.0043172725519383,0.0048909307604433,0.0053261197462056,2.9671976301992583e-05,-0.0029622523008144,0.0016171227084579,0.0111467724307777,0.0039018648837105,0.002586407267656,-0.0100785812839064,0.0111616084189287,-0.0073833767698097,0.0005983848554232,0.0172839261959042,-0.0013105122866708,0.0019682410946981,0.0036001997913071,-0.0030166509240348,-0.006893789160827,0.0070718210186389,-0.0011868790520792,0.0024726646918317,0.0029325803245125,-0.0107907087151539,0.0011324804288589,-0.0012758949809852,-0.0054546983101809,0.0132930453832877,-0.0031798467936957,-0.0043172725519383,-0.0022155075638812,-0.002027585047302,-0.0079026363550944,-0.0009742298885817,0.003659543743911,-0.0010879724644059,-0.0001928678459628,-0.0007269634193985,-0.0060135205305349,-0.0080806682129063,-0.0017011933079802,0.0015379974383193,0.0047376255495497,-0.0034864572154828,-0.0016467946847599,0.0018990064833268,-0.005835488672723,0.0010187378530347,0.0027743297842352,-0.0021808902581956,0.0002868291042524,-0.0017852639075025,-0.0021957262463466,-0.0050590719594878,-0.001572614744005,-0.0026061885851907,0.0033727146396585,-0.0028089470899209,-0.0016418493553763,-0.0013599655805074,-0.0064190375399953,0.00049947826775,0.0007269634193985,-0.003615035779458,-0.0014638174975644,0.0027149858316313,-0.0046288283031091,-0.0053854636988096,-0.0030512682297204,0.0020176943885347,-0.0045694843505051,0.0012313870165322,-0.0060728644831389,-0.0025072819975174,-0.0063547482580077,-0.0039265915306288,-0.0002126491634975,-0.0064684908338319,-0.0075070100044013,-0.0093713991820425,-0.0021413276231263,-0.0006330021611089,-0.0022402342107996,0.0070668756892552,-0.000909940606594,-0.0015478880970867,-0.0020374757060694,0.0083922239640771,0.0019830770828491,0.0157014207931319,0.0130655602316392,0.0164926734945181,0.0100291279900697,0.0073190874878221,0.0024825553505991,0.0129172003501293,0.0244150911671471,0.0525144527251237,0.0377823164911898,0.0293159125863578,0.0090895154071736,0.0132831547245204,0.0338903422662466,0.0693978072409512,0.0453931784126481,0.0742689566838599,0.0396714323157493,0.0133968973003447,0.0082092467768815,0.0806682129063206,0.0674444021344041,0.0608967860304335,0.0446167616994129,0.0130408335847208,-0.0399780427375364,-0.0318231945838752,0.0875026581145437,0.0667718373382258,0.0342117886761847,-0.0012660043222179,-0.0303742130744617,-0.0842090687450237,-0.0674839647694734,0.062726557902389,0.0044606871040646,-0.0035062385330175,-0.0054002996869606,-0.0421589329957321,-0.0916517894674374,-0.0838431143706326,0.0147024642576318,-0.0229265470226645,-0.0461349778201977,-0.0013500749217401,-0.0348002828728407,-0.0438403449861778,-0.0477372645405047,0.0004351889857624,-0.0209978685630356,-0.0188120329754563,-0.0126353165752604,-0.0343354219107763,-0.0321248596762787,-0.0324759780625188,-0.0384845532636701,-0.0371048063656279,-0.0028386190662229,-0.0129270910088966,-0.015553060911622],\"yaxis\":\"y2\",\"type\":\"scatter\"},{\"name\":\"\\u041f\\u0440\\u0435\\u0434\\u0441\\u043a\\u0430\\u0437\\u0430\\u043d\\u0438\\u0435\",\"x\":[1,2,3,4,5,6,7,8,9,10,11,12,13,14,15,16,17,18,19,20,21,22,23,24,25,26,27,28,29,30,31,32,33,34,35,36,37,38,39,40,41,42,43,44,45,46,47,48,49,50,51,52,53,54,55,56,57,58,59,60,61,62,63,64,65,66,67,68,69,70,71,72,73,74,75,76,77,78,79,80,81,82,83,84,85,86,87,88,89,90,91,92,93,94,95,96,97,98,99,100,101,102,103,104,105,106,107,108,109,110,111,112,113,114,115,116,117,118,119,120,121,122,123,124,125,126,127,128,129,130,131,132,133,134,135,136,137,138,139,140,141,142,143,144,145,146,147,148,149,150,151,152,153,154,155,156,157,158,159,160,161,162,163,164,165,166,167,168,169,170,171,172,173,174,175,176,177,178,179,180,181,182,183,184,185,186,187,188,189,190,191,192,193,194,195,196,197,198,199,200,201,202,203,204,205,206,207,208,209,210,211,212,213,214,215,216,217,218,219,220,221,222,223,224,225,226,227,228,229,230,231,232,233,234,235,236,237,238,239,240,241,242,243,244,245,246,247,248,249,250,251,252,253,254,255,256,257,258,259,260,261,262,263,264,265,266,267,268,269,270,271,272,273,274,275,276,277,278,279,280,281,282,283,284,285,286,287,288,289,290,291,292,293,294,295,296,297,298,299,300,301,302,303,304,305,306,307,308,309,310,311,312,313,314,315,316,317,318,319,320,321,322,323,324,325,326,327,328,329,330,331,332,333,334,335,336,337,338,339,340,341,342,343,344,345,346,347,348,349,350,351,352,353,354,355,356,357,358,359,360,361,362,363,364,365,366,367,368,369,370,371,372,373,374,375,376,377,378,379,380,381,382,383,384,385,386,387,388,389,390,391,392,393,394,395,396,397,398,399,400,401,402,403,404,405,406,407,408,409,410,411,412,413,414,415,416,417,418,419,420,421,422,423,424,425,426,427,428,429,430,431,432,433,434,435,436,437,438,439,440,441,442,443,444,445,446,447,448,449,450,451,452,453,454,455,456,457,458,459,460,461,462,463,464,465,466,467,468,469,470,471,472,473,474,475,476,477,478,479,480,481,482,483,484,485,486,487,488,489,490,491,492,493,494,495,496,497,498,499,500,501,502,503,504,505,506,507,508,509,510,511,512,513,514,515,516,517,518,519,520,521,522,523,524,525,526,527,528,529,530,531,532,533,534,535,536,537,538,539,540,541,542,543,544,545,546,547,548,549,550,551,552,553,554,555,556,557,558,559,560,561,562,563,564,565,566,567,568,569,570,571,572,573,574,575,576,577,578,579,580,581,582,583,584,585,586,587,588,589,590,591,592,593,594,595,596,597,598,599,600,601,602,603,604,605,606,607,608,609,610,611,612,613,614,615,616,617,618,619,620,621,622,623,624,625,626,627,628,629,630,631,632,633,634,635,636,637,638,639,640,641,642,643,644,645,646,647,648,649,650,651,652,653,654,655,656,657,658,659,660,661,662,663,664,665,666,667,668,669,670,671,672,673,674,675,676,677,678,679,680,681,682,683,684,685,686,687,688,689,690,691,692,693,694,695,696,697,698,699,700,701,702,703,704,705,706,707,708,709,710,711,712,713,714,715,716,717,718,719,720,721,722,723,724,725,726,727,728,729,730,731,732,733,734,735,736,737,738,739,740,741,742,743,744,745,746,747,748,749,750,751,752,753,754,755,756,757,758,759,760,761,762,763,764,765,766,767,768,769,770,771,772,773,774,775,776,777,778,779,780,781,782,783,784,785,786,787,788,789,790,791,792,793,794,795,796,797,798,799,800],\"y\":[[0.0004568485229180331],[0.0004568485229180331],[0.0004568485229180331],[0.00045684852291803297],[0.00045684852291803243],[0.0004568485229180296],[0.0004568485229180193],[0.0004568485229179876],[0.00045684852291790265],[0.0004568485229176985],[0.0004568485229172492],[0.00045684852291632877],[0.00045684852291455295],[0.00045684852291129655],[0.00045684852290558015],[0.00045684852289591807],[0.0004568485228801193],[0.0004568485228550315],[0.00045684852281621706],[0.0004568485227575491],[0.0004568485226707144],[0.00045684852254460886],[0.0004568485223646093],[0.00045684852211170585],[0.00045684852176147586],[0.0004568485212828808],[0.0004568485206368655],[0.0004568485197747384],[0.0004568485186363096],[0.00045684851714776367],[0.00045684851521924106],[0.0004568485127421034],[0.00045684850958585413],[0.0004568485055946881],[0.0004568485005836388],[0.00045684849433429473],[0.00045684848659005334],[0.0004568484770508806],[0.00045684846536754364],[0.00045684845113528233],[0.0004568484338868867],[0.00045684841308514415],[0.0004568483881146216],[0.0004568483582727461],[0.00045684832276014737],[0.0004568482806702257],[0.00045684823097790676],[0.00045684817252754633],[0.0004568481040199468],[0.0004568480239984465],[0.000456847930834045],[0.00045684782270952385],[0.0004568476976025259],[0.00045684755326755457],[0.00045684738721685393],[0.00045684719670013234],[0.00045684697868309177],[0.00045684672982472513],[0.0004568464464533443],[0.0004568461245413029],[0.00045684575967837733],[0.0004568453470437708],[0.0004568448813767052],[0.0004568443569455679],[0.0004568437675155788],[0.0004568431063149463],[0.00045684236599948105],[0.00045684153861563607],[0.00045684061556194524],[0.0004568395875488312],[0.00045683844455675604],[0.0004568371757926894],[0.00045683576964486943],[0.00045683421363583394],[0.00045683249437370035],[0.00045683059750167414],[0.00045682850764576857],[0.00045682620836071753],[0.00045682368207406826],[0.000456820910028439],[0.00045681787222193177],[0.0004568145473466898],[0.000456810912725592],[0.00045680694424707916],[0.0004568026162981084],[0.0004567979016952331],[0.00045679277161381074],[0.0004567871955153388],[0.0004567811410729259],[0.0004567745740949037],[0.0004567674584465889],[0.00045675975597020814],[0.00045675142640299736],[0.0004567424272934947],[0.0004567327139160429],[0.00045672223918352407],[0.00045671095355834956],[0.0004566988049617305],[0.0004566857386812583],[0.00045667169727682533],[0.00045665662048491974],[0.0004566404451213297],[0.0004566231049822963],[0.0004566045307441561],[0.0004565846498615165],[0.00045656338646401075],[0.0004565406612516813],[0.00045651639138904294],[0.00045649049039787936],[0.0004564628680488309],[0.00045643343025183087],[0.0004564020789454548],[0.00045636871198524406],[0.0004563332230310736],[0.0004562955014336311],[0.00045625543212008145],[0.00045621289547898936],[0.00045616776724457896],[0.0004561199183804089],[0.00045606921496254475],[0.00045601551806231477],[0.0004559586836287341],[0.000455898562370688],[0.00045583499963896537],[0.00045576783530823636],[0.000455696903659071],[0.0004556220332600963],[0.0004555430468503945],[0.00045545976122224276],[0.0004553719871043018],[0.00045527952904535977],[0.0004551821852987395],[0.0004550797477074824],[0.00045497200159042033],[0.00045485872562925144],[0.0004547396917567366],[0.00045461466504613486],[0.00045448340360199855],[0.0004543456584524498],[0.0004542011734430625],[0.000454049685132474],[0.00045389092268985446],[0.00045372460779435984],[0.0004535504545367005],[0.00045336816932295334],[0.0004531774507807512],[0.0004529779896679812],[0.00045276946878412664],[0.00045255156288438687],[0.00045232393859671123],[0.0004520862543418832],[0.00045183816025679257],[0.00045157929812103314],[0.00045130930128696407],[0.0004510277946133751],[0.000450734394402893],[0.00045042870834327076],[0.0004501103354526981],[0.0004497788660292734],[0.00044943388160477736],[0.00044907495490288787],[0.000448701649801976],[0.00044831352130262215],[0.00044791011549999204],[0.00044749096956121065],[0.00044705561170787204],[0.0004466035612038233],[0.0004461343283483579],[0.00044564741447495617],[0.0004451423119557054],[0.00044461850421153556],[0.00044407546572840185],[0.0004435126620795462],[0.00044292954995396757],[0.00044232557719122936],[0.0004417001828227314],[0.0004410527971195717],[0.00044038284164712137],[0.00043968972932643453],[0.00043897286450261314],[0.00043823164302024374],[0.00043746545230602255],[0.00043667367145868113],[0.0004358556713463237],[0.0004350108147112845],[0.0004341384562826104],[0.0004332379428962725],[0.00043230861362320553],[0.00043134979990527335],[0.0004303608256992538],[0.00042934100762893505],[0.0004282896551454095],[0.00042720607069565133],[0.0004260895498994576],[0.0004249393817348306],[0.0004237548487318755],[0.00042253522717528296],[0.000421279787315463],[0.00041998779358839224],[0.0004186585048442335],[0.00041729117458478004],[0.0004158850512097766],[0.0004144393782721605],[0.0004129533947422655],[0.00041142633528102365],[0.00040985743052219853],[0.00040824590736367563],[0.0004065909892678331],[0.0004048918965710098],[0.0004031478468020849],[0.0004013580550101737],[0.0003995217341014451],[0.00039763809518505473],[0.0003957063479281896],[0.00039372570092020555],[0.0003916953620458444],[0.00038961453886750063],[0.00038748243901651225],[0.00038529827059343585],[0.0003830612425772682],[0.00038077056524356355],[0.000378425450591396],[0.0003760251127791056],[0.00037356876856876566],[0.00037105563777929554],[0.0003684849437481467],[0.00036585591380147416],[0.0003631677797327063],[0.0003604197782894148],[0.0003576111516683825],[0.000354741148018763],[0.00035180902195321124],[0.00034881403506686973],[0.0003457554564640747],[0.000342632563292657],[0.0003394446412856835],[0.00033619098531050424],[0.00033287089992493994],[0.00032948369994045525],[0.00032602871099214674],[0.0003225052701153677],[0.00031891272632881765],[0.00031525044122389893],[0.0003115177895601455],[0.00030771415986653126],[0.00030383895504843976],[0.0002998915930000825],[0.0002958715072221472],[0.0002917781474444405],[0.00028761098025329915],[0.0002833694897235143],[0.00027905317805453257],[0.0002746615662106694],[0.0002701941945650747],[0.0002656506235471828],[0.00026103043429336997],[0.0002563332293005364],[0.0002515586330823221],[0.00024670629282766686],[0.00024177587906140083],[0.00023676708630657731],[0.00023167963374820288],[0.00022651326589807663],[0.00022126775326038298],[0.00021594289299772205],[0.0002105385095972307],[0.0002050544555364455],[0.00019949061194856553],[0.00019384688928673796],[0.00018812322798702916],[0.00018231959912968777],[0.00017643600509833248],[0.000170472480236688],[0.00016442909150248057],[0.00015830593911808746],[0.00015210315721756758],[0.00014582091448965664],[0.00013945941481630287],[0.0001330188979063697],[0.00012649963992405236],[0.00011990195411159941],[0.00011322619140591755],[0.00010647274104861492],[9.964203118906597e-05],[9.27345294800236e-05],[8.575074366538898e-05],[7.869122215962873e-05],[7.155655461842998e-05],[6.434737250013233e-05],[5.7064349617451046e-05],[4.970820267906508e-05],[4.227969182058166e-05],[3.477962112441473e-05],[2.720883912809229e-05],[1.9568239320567297e-05],[1.1858760625970473e-05],[4.081387874419883e-06],[-3.7628477406630233e-06],[-1.1672868219184541e-05],[-1.964754832543277e-05],[-2.768571517407372e-05],[-3.578614783154307e-05],[-4.3947576933332344e-05],[-5.216868431767518e-05],[-6.044810267610113e-05],[-6.878441522134023e-05],[-7.717615537314115e-05],[-8.562180646235423e-05],[-9.411980145392567e-05],[-0.00010266852268918093],[-0.00011126630164792647],[-0.00011991141873087468],[-0.00012860210306285248],[-0.00013733653231726904],[-0.0001461128325623776],[-0.00015492907812974963],[-0.00016378329150548596],[-0.00017267344324462642],[-0.00018159745190924015],[-0.00019055318403062162],[-0.00019953845409615187],[-0.00020855102456120996],[-0.0002175886058866083],[-0.00022664885660205408],[-0.00023572938339601655],[-0.00024482774123253296],[-0.0002539414334952782],[-0.0002630679121595183],[-0.0002722045779921173],[-0.00028134878078029676],[-0.00029049781958940195],[-0.00029964894305010607],[-0.0003087993496754448],[-0.0003179461882082798],[-0.00032708655799917164],[-0.00033621750941549366],[-0.0003453360442818469],[-0.0003544391163523266],[-0.0003635236318148234],[-0.0003725864498279466],[-0.00038162438309066537],[-0.0003906341984451272],[-0.000399612617513041],[-0.00040855631736568817],[-0.0004174619312281456],[-0.0004263260492178408],[-0.0004351452191177684],[-0.0004439159471845714],[-0.0004526346989918454],[-0.00046129790030880407],[-0.00046990193801466567],[-0.0004784431610487646],[-0.0004869178813967313],[-0.000495322375113077],[-0.0005036528833799786],[-0.0005119056136026771],[-0.0005200767405417314],[-0.0005281624074819165],[-0.000536158727438245],[-0.0005440617843988132],[-0.000551867634605173],[-0.0005595723078693716],[-0.0005671718089287883],[-0.0005746621188378162],[-0.0005820391963970212],[-0.0005892989796196216],[-0.0005964373872351014],[-0.0006034503202301653],[-0.0006103336634267606],[-0.0006170832870972304],[-0.0006236950486164011],[-0.0006301647941506416],[-0.0006364883603834409],[-0.0006426615762777485],[-0.0006486802648745912],[-0.0006545402451278764],[-0.0006602373337750414],[-0.0006657673472437919],[-0.0006711261035937091],[-0.000676309424493369],[-0.0006813131372324693],[-0.0006861330767677831],[-0.0006907650878039942],[-0.0006952050269077561],[-0.0006994487646555089],[-0.0007034921878136308],[-0.0007073312015518274],[-0.0007109617316876837],[-0.0007143797269632457],[-0.0007175811613523064],[-0.0007205620363980086],[-0.0007233183835804924],[-0.0007258462667133253],[-0.0007281417843686461],[-0.0007302010723305491],[-0.0007320203060748787],[-0.0007335957032761403],[-0.0007349235263398501],[-0.0007360000849597253],[-0.0007368217386994247],[-0.0007373848995969234],[-0.000737686034791995],[-0.0007377216691748839],[-0.0007374883880555733],[-0.0007369828398529254],[-0.0007362017388026409],[-0.0007351418676825921],[-0.0007338000805549771],[-0.0007321733055240998],[-0.0007302585475088741],[-0.0007280528910284156],[-0.0007255535029999283],[-0.0007227576355478182],[-0.000719662628822495],[-0.0007162659138278871],[-0.0007125650152561747],[-0.0007085575543287115],[-0.0007042412516414154],[-0.0006996139300135729],[-0.0006946735173385587],[-0.0006894180494353885],[-0.0006838456728984388],[-0.0006779546479458076],[-0.0006717433512628457],[-0.000665210278840691],[-0.0006583540488071993],[-0.0006511734042500461],[-0.0006436672160280066],[-0.0006358344855720477],[-0.000627674347671211],[-0.0006191860732433685],[-0.0006103690720895749],[-0.000601222895628436],[-0.0005917472396099932],[-0.0005819419468069598],[-0.0005718070096812544],[-0.0005613425730244448],[-0.000550548936569214],[-0.0005394265575705737],[-0.0005279760533556022],[-0.000516198203837156],[-0.0005040939539923317],[-0.0004916644163020145],[-0.00047891087315056973],[-0.000465834779180515],[-0.00045243776360528114],[-0.0004387216324726239],[-0.000424688370879519],[-0.0004103401451356536],[-0.0003956793048726836],[-0.00038070838509809073],[-0.0003654301081892541],[-0.00034984738582879087],[-0.0003339633208748937],[-0.0003177812091673304],[-0.00030130454126510935],[-0.00028453700411436793],[-0.00026748248264276347],[-0.00025014506127970176],[-0.00023252902539796166],[-0.00021463886267610526],[-0.00019647926437617807],[-0.00017805512654069593],[-0.0001593715510963733],[-0.00014043384687108745],[-0.00012124753051808373],[-0.00010181832734281409],[-8.215217203324181e-05],[-6.225520928839428e-05],[-4.213379434649605e-05],[-2.1794493402135177e-05],[-1.2440839205673441e-06],[1.951044516255502e-05],[4.046189335591761e-05],[6.160284863885652e-05],[8.29256876129037e-05],[0.00010442257577090503],[0.00012608546789203762],[0.0001479061085630596],[0.0001698760328314542],[0.0001919865669863608],[0.00021422882947994888],[0.00023659373198279605],[0.00025907198058093057],[0.0002816540771139831],[0.0003043303206626636],[0.00032709080917912365],[0.0003499254412729725],[0.0003728239181467286],[0.00039577574569003355],[0.0004187702367296298],[0.00044179651344220867],[0.00046484350992935026],[0.0004878999749593305],[0.0005109544748755723],[0.0005339953966777367],[0.0005570109512746757],[0.0005799891769130239],[0.0006029179427853115],[0.0006257849528120507],[0.0006485777496157785],[0.0006712837186700715],[0.0006938900926430713],[0.0007163839559224206],[0.0007387522493368193],[0.0007609817750698722],[0.000783059201764228],[0.0008049710698257806],[0.0008267037969294877],[0.000848243683717923],[0.0008695769197085512],[0.0008906895894030631],[0.0009115676786009919],[0.0009321970809191649],[0.000952563604524096],[0.0009726529790695471],[0.0009924508628454765],[0.0010119428501441463],[0.001031114478832288],[0.0010499512381455334],[0.001068438576690015],[0.0010865619106662317],[0.0011043066323096296],[0.0011216581185443475],[0.0011386017398585613],[0.0011551228694034277],[0.001171206892295199],[0.0011868392151544816],[0.0012020052758562139],[0.0012166905534979156],[0.0012308805785879817],[0.0012445609434551341],[0.0012577173128743657],[0.0012703354349122653],[0.0012824011519830625],[0.0012939004121296038],[0.0013048192805157155],[0.0013151439511310625],[0.0013248607587087269],[0.0013339561908552822],[0.0013424169003975839],[0.0013502297179127465],[0.0013573816645023695],[0.0013638599647301886],[0.0013696520597888762],[0.00137474562085114],[0.0013791285626251015],[0.0013827890570939727],[0.0013857155474489102],[0.0013878967622083882],[0.0013893217295271965],[0.0013899797916586498],[0.0013898606196326246],[0.0013889542280539435],[0.001387250990118808],[0.001384741652742253],[0.0013814173518765605],[0.0013772696279668961],[0.0013722904415557158],[0.0013664721890092968],[0.0013598077184085822],[0.0013522903455328395],[0.001343913869990313],[0.0013346725914430235],[0.0013245613259439215],[0.0013135754223726293],[0.0013017107789608884],[0.0012889638598917264],[0.0012753317119892171],[0.0012608119814424368],[0.0012454029306262304],[0.0012291034549228674],[0.0012119130996014282],[0.001193832076736715],[0.0011748612821055138],[0.0011550023121117226],[0.0011342574806981565],[0.0011126298362352605],[0.0010901231783760712],[0.0010667420748729872],[0.0010424918783225967],[0.001017378742850109],[0.000991409640700528],[0.0009645923787516642],[0.0009369356148601715],[0.0009084488741311991],[0.0008791425650184015],[0.0008490279952587476],[0.0008181173876270298],[0.0007864238955065195],[0.0007539616182260323],[0.0007207456161856063],[0.0006867919257112865],[0.0006521175736452312],[0.000616740591650714],[0.0005806800301938286],[0.0005439559722081133],[0.000506589546379036],[0.00046860294009541176],[0.0004300194119514023],[0.0003908633038550525],[0.00035116005268474366],[0.0003109362014926765],[0.0002702194101550182],[0.00022903846557529645],[0.00018742329127939057],[0.0001454049564589644],[0.0001030156844118258],[6.0288860350791236e-05],[1.725903852510042e-05],[-2.6038051322526616e-05],[-6.956549821115148e-05],[-0.00011328520498334543],[-0.0001571578841049936],[-0.00020114305430087514],[-0.0002451990380473356],[-0.0002892829599664603],[-0.00033335074610309705],[-0.00037735712419663885],[-0.0004212556249582244],[-0.000464998584360462],[-0.0005085371469929678],[-0.0005518212705618775],[-0.0005947997315066866],[-0.0006374201318783046],[-0.0006796289073610817],[-0.0007213713366573027],[-0.0007625915521559856],[-0.0008032325519801342],[-0.0008432362134657334],[-0.0008825433080724887],[-0.0009210935178364432],[-0.0009588254533893414],[-0.000995676673555398],[-0.001031583706621394],[-0.0010664820733547098],[-0.0011003063117515277],[-0.0011329900036164597],[-0.001164465803044653],[-0.0011946654667939394],[-0.0012235198866962416],[-0.0012509591240869222],[-0.0012769124463639836],[-0.001301308365714423],[-0.0013240746801089964],[-0.0013451385164872287],[-0.0013644263764843922],[-0.0013818641844215629],[-0.0013973773378856047],[-0.0014108907608742138],[-0.0014223289595113508],[-0.001431616080585304],[-0.0014386759727548404],[-0.0014434322506650299],[-0.0014458083620295847],[-0.001445727657644188],[-0.0014431134645439736],[-0.0014378891622980527],[-0.0014299782626116164],[-0.0014193044921396913],[-0.0014057918788784784],[-0.0013893648419211113],[-0.001369948284854946],[-0.0013474676928643314],[-0.0013218492335672816],[-0.001293019861721053],[-0.0012609074279032095],[-0.0012254407911717247],[-0.0011865499360487386],[-0.001144166093472695],[-0.0010982218663974275],[-0.0010486513596473979],[-0.0009953903143523812],[-0.0009383762471534462],[-0.0008775485940345684],[-0.0008128488591031735],[-0.0007442207684048763],[-0.0006716104287582036],[-0.0005949664917691744],[-0.0005142403234200865],[-0.0004293861788168451],[-0.00034036138265615905],[-0.0002471265154161594],[-0.00014964560532373044],[-4.7886326276188544e-05],[5.817979811926561e-05],[0.00016857718437055864],[0.000283325972484686],[0.00040244180294966354],[0.0005259355870089555],[0.0006538132702781174],[0.000786075589419436],[0.0009227178216045606],[0.001063729527198557],[0.0012090942845924635],[0.0013587894178806825],[0.0015127857168645098],[0.001671047148941266],[0.001833530563561151],[0.0020001853880510048],[0.0021709533153449847],[0.0023457679834232117],[0.0025245546457762593],[0.0027072298334639235],[0.002893701007730879],[0.00308386620403898],[0.003277613666201699],[0.0034748214714875694],[0.003675357145633921],[0.003879077268332235],[0.004085827068282736],[0.004295440008351118],[0.004507737359910816],[0.004722527766718979],[0.004939606797970878],[0.005158756490014052],[0.005379744877219575],[0.005602325510909093],[0.005826236966799495],[0.006051202340574416],[0.006276928731177559],[0.00650310671180652],[0.006729409788280275],[0.0069554938446737356],[0.0071809965756864744],[0.007405536905994306],[0.007628714395851869],[0.007850108632967515],[0.008069278610281042],[0.00828576208985741],[0.008499074951446953],[0.00870871052728948],[0.008914138920831685],[0.009114806310906868],[0.009310134239984261],[0.009499518886658545],[0.009682330321697389],[0.009857911748329154],[0.010025578725193366],[0.010184618372550783],[0.010334288561326769],[0.01047381708451898],[0.010602400810415172],[0.010719204818217956],[0.010823361514754918],[0.010913969732316712],[0.010990093807992632],[0.0110507626427415],[0.011094968741505265],[0.011121667232446878],[0.01112977486654874],[0.011118168995752778],[0.011085686530636888],[0.011031122876164015],[0.010953230845816545],[0.010850719553590163],[0.010722253283449315],[0.010566450335931602],[0.01038188185150322],[0.010167070610239118],[0.00992048980744418],[0.00964056180515858],[0.00932565685856677],[0.008974091817423794],[0.008584128801987315],[0.008153973852346933],[0.007681775552713968],[0.007165623627445864],[0.006603547510553124],[0.005993514887694043],[0.00533343020977615],[0.004621133178192774],[0.003854397201069485],[0.0030309278203498415],[0.002148361108299394],[0.0012042620345932098],[0.00019612280225321028],[-0.0008786388477067997],[-0.002022681363411568],[-0.0032387411412576803],[-0.0045296343178739176],[-0.005898258594851843],[-0.007347595098349832],[-0.008880710270842048],[-0.010500757799957757],[-0.012210980580431926],[-0.014014712713174579],[-0.015915381539639912],[-0.017916509714053137],[-0.020021717312045512],[-0.022234723977346067],[-0.024559351107524736],[-0.026999524077934284],[-0.029559274506039474],[-0.03224274255488293],[-0.03505417927818879],[-0.03799794900676314],[-0.04107853177599221],[-0.04430052579676893],[-0.04766864996890998]],\"yaxis\":\"y2\",\"type\":\"scatter\",\"xaxis\":\"x\"}],                        {\"template\":{\"data\":{\"bar\":[{\"error_x\":{\"color\":\"#2a3f5f\"},\"error_y\":{\"color\":\"#2a3f5f\"},\"marker\":{\"line\":{\"color\":\"#E5ECF6\",\"width\":0.5},\"pattern\":{\"fillmode\":\"overlay\",\"size\":10,\"solidity\":0.2}},\"type\":\"bar\"}],\"barpolar\":[{\"marker\":{\"line\":{\"color\":\"#E5ECF6\",\"width\":0.5},\"pattern\":{\"fillmode\":\"overlay\",\"size\":10,\"solidity\":0.2}},\"type\":\"barpolar\"}],\"carpet\":[{\"aaxis\":{\"endlinecolor\":\"#2a3f5f\",\"gridcolor\":\"white\",\"linecolor\":\"white\",\"minorgridcolor\":\"white\",\"startlinecolor\":\"#2a3f5f\"},\"baxis\":{\"endlinecolor\":\"#2a3f5f\",\"gridcolor\":\"white\",\"linecolor\":\"white\",\"minorgridcolor\":\"white\",\"startlinecolor\":\"#2a3f5f\"},\"type\":\"carpet\"}],\"choropleth\":[{\"colorbar\":{\"outlinewidth\":0,\"ticks\":\"\"},\"type\":\"choropleth\"}],\"contour\":[{\"colorbar\":{\"outlinewidth\":0,\"ticks\":\"\"},\"colorscale\":[[0.0,\"#0d0887\"],[0.1111111111111111,\"#46039f\"],[0.2222222222222222,\"#7201a8\"],[0.3333333333333333,\"#9c179e\"],[0.4444444444444444,\"#bd3786\"],[0.5555555555555556,\"#d8576b\"],[0.6666666666666666,\"#ed7953\"],[0.7777777777777778,\"#fb9f3a\"],[0.8888888888888888,\"#fdca26\"],[1.0,\"#f0f921\"]],\"type\":\"contour\"}],\"contourcarpet\":[{\"colorbar\":{\"outlinewidth\":0,\"ticks\":\"\"},\"type\":\"contourcarpet\"}],\"heatmap\":[{\"colorbar\":{\"outlinewidth\":0,\"ticks\":\"\"},\"colorscale\":[[0.0,\"#0d0887\"],[0.1111111111111111,\"#46039f\"],[0.2222222222222222,\"#7201a8\"],[0.3333333333333333,\"#9c179e\"],[0.4444444444444444,\"#bd3786\"],[0.5555555555555556,\"#d8576b\"],[0.6666666666666666,\"#ed7953\"],[0.7777777777777778,\"#fb9f3a\"],[0.8888888888888888,\"#fdca26\"],[1.0,\"#f0f921\"]],\"type\":\"heatmap\"}],\"heatmapgl\":[{\"colorbar\":{\"outlinewidth\":0,\"ticks\":\"\"},\"colorscale\":[[0.0,\"#0d0887\"],[0.1111111111111111,\"#46039f\"],[0.2222222222222222,\"#7201a8\"],[0.3333333333333333,\"#9c179e\"],[0.4444444444444444,\"#bd3786\"],[0.5555555555555556,\"#d8576b\"],[0.6666666666666666,\"#ed7953\"],[0.7777777777777778,\"#fb9f3a\"],[0.8888888888888888,\"#fdca26\"],[1.0,\"#f0f921\"]],\"type\":\"heatmapgl\"}],\"histogram\":[{\"marker\":{\"pattern\":{\"fillmode\":\"overlay\",\"size\":10,\"solidity\":0.2}},\"type\":\"histogram\"}],\"histogram2d\":[{\"colorbar\":{\"outlinewidth\":0,\"ticks\":\"\"},\"colorscale\":[[0.0,\"#0d0887\"],[0.1111111111111111,\"#46039f\"],[0.2222222222222222,\"#7201a8\"],[0.3333333333333333,\"#9c179e\"],[0.4444444444444444,\"#bd3786\"],[0.5555555555555556,\"#d8576b\"],[0.6666666666666666,\"#ed7953\"],[0.7777777777777778,\"#fb9f3a\"],[0.8888888888888888,\"#fdca26\"],[1.0,\"#f0f921\"]],\"type\":\"histogram2d\"}],\"histogram2dcontour\":[{\"colorbar\":{\"outlinewidth\":0,\"ticks\":\"\"},\"colorscale\":[[0.0,\"#0d0887\"],[0.1111111111111111,\"#46039f\"],[0.2222222222222222,\"#7201a8\"],[0.3333333333333333,\"#9c179e\"],[0.4444444444444444,\"#bd3786\"],[0.5555555555555556,\"#d8576b\"],[0.6666666666666666,\"#ed7953\"],[0.7777777777777778,\"#fb9f3a\"],[0.8888888888888888,\"#fdca26\"],[1.0,\"#f0f921\"]],\"type\":\"histogram2dcontour\"}],\"mesh3d\":[{\"colorbar\":{\"outlinewidth\":0,\"ticks\":\"\"},\"type\":\"mesh3d\"}],\"parcoords\":[{\"line\":{\"colorbar\":{\"outlinewidth\":0,\"ticks\":\"\"}},\"type\":\"parcoords\"}],\"pie\":[{\"automargin\":true,\"type\":\"pie\"}],\"scatter\":[{\"marker\":{\"colorbar\":{\"outlinewidth\":0,\"ticks\":\"\"}},\"type\":\"scatter\"}],\"scatter3d\":[{\"line\":{\"colorbar\":{\"outlinewidth\":0,\"ticks\":\"\"}},\"marker\":{\"colorbar\":{\"outlinewidth\":0,\"ticks\":\"\"}},\"type\":\"scatter3d\"}],\"scattercarpet\":[{\"marker\":{\"colorbar\":{\"outlinewidth\":0,\"ticks\":\"\"}},\"type\":\"scattercarpet\"}],\"scattergeo\":[{\"marker\":{\"colorbar\":{\"outlinewidth\":0,\"ticks\":\"\"}},\"type\":\"scattergeo\"}],\"scattergl\":[{\"marker\":{\"colorbar\":{\"outlinewidth\":0,\"ticks\":\"\"}},\"type\":\"scattergl\"}],\"scattermapbox\":[{\"marker\":{\"colorbar\":{\"outlinewidth\":0,\"ticks\":\"\"}},\"type\":\"scattermapbox\"}],\"scatterpolar\":[{\"marker\":{\"colorbar\":{\"outlinewidth\":0,\"ticks\":\"\"}},\"type\":\"scatterpolar\"}],\"scatterpolargl\":[{\"marker\":{\"colorbar\":{\"outlinewidth\":0,\"ticks\":\"\"}},\"type\":\"scatterpolargl\"}],\"scatterternary\":[{\"marker\":{\"colorbar\":{\"outlinewidth\":0,\"ticks\":\"\"}},\"type\":\"scatterternary\"}],\"surface\":[{\"colorbar\":{\"outlinewidth\":0,\"ticks\":\"\"},\"colorscale\":[[0.0,\"#0d0887\"],[0.1111111111111111,\"#46039f\"],[0.2222222222222222,\"#7201a8\"],[0.3333333333333333,\"#9c179e\"],[0.4444444444444444,\"#bd3786\"],[0.5555555555555556,\"#d8576b\"],[0.6666666666666666,\"#ed7953\"],[0.7777777777777778,\"#fb9f3a\"],[0.8888888888888888,\"#fdca26\"],[1.0,\"#f0f921\"]],\"type\":\"surface\"}],\"table\":[{\"cells\":{\"fill\":{\"color\":\"#EBF0F8\"},\"line\":{\"color\":\"white\"}},\"header\":{\"fill\":{\"color\":\"#C8D4E3\"},\"line\":{\"color\":\"white\"}},\"type\":\"table\"}]},\"layout\":{\"annotationdefaults\":{\"arrowcolor\":\"#2a3f5f\",\"arrowhead\":0,\"arrowwidth\":1},\"autotypenumbers\":\"strict\",\"coloraxis\":{\"colorbar\":{\"outlinewidth\":0,\"ticks\":\"\"}},\"colorscale\":{\"diverging\":[[0,\"#8e0152\"],[0.1,\"#c51b7d\"],[0.2,\"#de77ae\"],[0.3,\"#f1b6da\"],[0.4,\"#fde0ef\"],[0.5,\"#f7f7f7\"],[0.6,\"#e6f5d0\"],[0.7,\"#b8e186\"],[0.8,\"#7fbc41\"],[0.9,\"#4d9221\"],[1,\"#276419\"]],\"sequential\":[[0.0,\"#0d0887\"],[0.1111111111111111,\"#46039f\"],[0.2222222222222222,\"#7201a8\"],[0.3333333333333333,\"#9c179e\"],[0.4444444444444444,\"#bd3786\"],[0.5555555555555556,\"#d8576b\"],[0.6666666666666666,\"#ed7953\"],[0.7777777777777778,\"#fb9f3a\"],[0.8888888888888888,\"#fdca26\"],[1.0,\"#f0f921\"]],\"sequentialminus\":[[0.0,\"#0d0887\"],[0.1111111111111111,\"#46039f\"],[0.2222222222222222,\"#7201a8\"],[0.3333333333333333,\"#9c179e\"],[0.4444444444444444,\"#bd3786\"],[0.5555555555555556,\"#d8576b\"],[0.6666666666666666,\"#ed7953\"],[0.7777777777777778,\"#fb9f3a\"],[0.8888888888888888,\"#fdca26\"],[1.0,\"#f0f921\"]]},\"colorway\":[\"#636efa\",\"#EF553B\",\"#00cc96\",\"#ab63fa\",\"#FFA15A\",\"#19d3f3\",\"#FF6692\",\"#B6E880\",\"#FF97FF\",\"#FECB52\"],\"font\":{\"color\":\"#2a3f5f\"},\"geo\":{\"bgcolor\":\"white\",\"lakecolor\":\"white\",\"landcolor\":\"#E5ECF6\",\"showlakes\":true,\"showland\":true,\"subunitcolor\":\"white\"},\"hoverlabel\":{\"align\":\"left\"},\"hovermode\":\"closest\",\"mapbox\":{\"style\":\"light\"},\"paper_bgcolor\":\"white\",\"plot_bgcolor\":\"#E5ECF6\",\"polar\":{\"angularaxis\":{\"gridcolor\":\"white\",\"linecolor\":\"white\",\"ticks\":\"\"},\"bgcolor\":\"#E5ECF6\",\"radialaxis\":{\"gridcolor\":\"white\",\"linecolor\":\"white\",\"ticks\":\"\"}},\"scene\":{\"xaxis\":{\"backgroundcolor\":\"#E5ECF6\",\"gridcolor\":\"white\",\"gridwidth\":2,\"linecolor\":\"white\",\"showbackground\":true,\"ticks\":\"\",\"zerolinecolor\":\"white\"},\"yaxis\":{\"backgroundcolor\":\"#E5ECF6\",\"gridcolor\":\"white\",\"gridwidth\":2,\"linecolor\":\"white\",\"showbackground\":true,\"ticks\":\"\",\"zerolinecolor\":\"white\"},\"zaxis\":{\"backgroundcolor\":\"#E5ECF6\",\"gridcolor\":\"white\",\"gridwidth\":2,\"linecolor\":\"white\",\"showbackground\":true,\"ticks\":\"\",\"zerolinecolor\":\"white\"}},\"shapedefaults\":{\"line\":{\"color\":\"#2a3f5f\"}},\"ternary\":{\"aaxis\":{\"gridcolor\":\"white\",\"linecolor\":\"white\",\"ticks\":\"\"},\"baxis\":{\"gridcolor\":\"white\",\"linecolor\":\"white\",\"ticks\":\"\"},\"bgcolor\":\"#E5ECF6\",\"caxis\":{\"gridcolor\":\"white\",\"linecolor\":\"white\",\"ticks\":\"\"}},\"title\":{\"x\":0.05},\"xaxis\":{\"automargin\":true,\"gridcolor\":\"white\",\"linecolor\":\"white\",\"ticks\":\"\",\"title\":{\"standoff\":15},\"zerolinecolor\":\"white\",\"zerolinewidth\":2},\"yaxis\":{\"automargin\":true,\"gridcolor\":\"white\",\"linecolor\":\"white\",\"ticks\":\"\",\"title\":{\"standoff\":15},\"zerolinecolor\":\"white\",\"zerolinewidth\":2}}},\"xaxis\":{\"anchor\":\"y\",\"domain\":[0.0,0.94]},\"yaxis\":{\"anchor\":\"x\",\"domain\":[0.0,1.0]},\"yaxis2\":{\"anchor\":\"x\",\"overlaying\":\"y\",\"side\":\"right\"}},                        {\"responsive\": true}                    ).then(function(){\n",
       "                            \n",
       "var gd = document.getElementById('6bf5913d-b3c1-46b7-9d7b-218bf259a149');\n",
       "var x = new MutationObserver(function (mutations, observer) {{\n",
       "        var display = window.getComputedStyle(gd).display;\n",
       "        if (!display || display === 'none') {{\n",
       "            console.log([gd, 'removed!']);\n",
       "            Plotly.purge(gd);\n",
       "            observer.disconnect();\n",
       "        }}\n",
       "}});\n",
       "\n",
       "// Listen for the removal of the full notebook cells\n",
       "var notebookContainer = gd.closest('#notebook-container');\n",
       "if (notebookContainer) {{\n",
       "    x.observe(notebookContainer, {childList: true});\n",
       "}}\n",
       "\n",
       "// Listen for the clearing of the current output cell\n",
       "var outputEl = gd.closest('.output');\n",
       "if (outputEl) {{\n",
       "    x.observe(outputEl, {childList: true});\n",
       "}}\n",
       "\n",
       "                        })                };                });            </script>        </div>"
      ]
     },
     "metadata": {},
     "output_type": "display_data"
    }
   ],
   "source": [
    "rmses = []\n",
    "#enumerate = [i for i in range(10)]\n",
    "enumerate = [13]\n",
    "\n",
    "for i in enumerate:\n",
    "    p = PolynomialFeatures(i, include_bias=True)\n",
    "    \n",
    "    xaxis_poly = p.fit_transform(g)\n",
    "\n",
    "    lr.fit(xaxis_poly, delta[['Russia']])\n",
    "\n",
    "    xaxis_ = np.linspace(g.min(0), g.max(0), len(delta)).reshape(len(delta),1)\n",
    "    y_pred_lr = lr.predict(p.transform(xaxis_))\n",
    "    poly_mse = mean_squared_error(delta[['Russia']], y_pred_lr)\n",
    "    poly_rmse = np.sqrt(poly_mse)\n",
    "    rmses.append(poly_rmse)\n",
    "    plt.figure(figsize=(10,5))\n",
    "#    plt.scatter(xaxis, yaxis, label='Данные для тренировки') #не вижу смысла проставлять точки, ибо они просто будут накладываться на кривую\n",
    "    plt.plot(xaxis, yaxis, label='Россия', c='orange')\n",
    "    plt.plot(xaxis, y_pred_lr, label='Предсказание', c='green')\n",
    "#    plt.plot(xaxis, dfcsr['United Kingdom'].values, label='Англия', c='red')\n",
    "#    plt.plot\n",
    "#    plt.plot\n",
    "#    plt.plot\n",
    "#    plt.plot\n",
    "    plt.legend()\n",
    "    plt.show()\n",
    "    #print(p.fit_transform(xaxis_))\n",
    "    modelo = make_pipeline(p, lr)\n",
    "    print(modelo.steps[1][1].coef_)\n",
    "    print(modelo.steps[1][1].intercept_)\n",
    "rmses\n",
    "\n",
    "trace1 = go.Scatter(\n",
    "    x=xaxis,\n",
    "    y=yaxis,\n",
    "    name='True',\n",
    "    yaxis='y2'\n",
    ")\n",
    "trace2 = go.Scatter(\n",
    "    x=xaxis,\n",
    "    y=list(y_pred_lr),\n",
    "    name='Предсказание',\n",
    "    yaxis='y2'\n",
    ")\n",
    "fig5 = make_subplots(specs=[[{\"secondary_y\": True}]])\n",
    "fig5.add_trace(trace1)\n",
    "fig5.add_trace(trace2, secondary_y=True)"
   ]
  },
  {
   "cell_type": "code",
   "execution_count": 19,
   "id": "350e53ad",
   "metadata": {},
   "outputs": [
    {
     "name": "stdout",
     "output_type": "stream",
     "text": [
      "Pipeline(steps=[('polynomialfeatures', PolynomialFeatures(degree=13)),\n",
      "                ('linearregression', LinearRegression())])\n"
     ]
    }
   ],
   "source": [
    "print(modelo)"
   ]
  },
  {
   "cell_type": "code",
   "execution_count": 20,
   "id": "f5012628",
   "metadata": {},
   "outputs": [
    {
     "data": {
      "text/plain": [
       "6706.12"
      ]
     },
     "execution_count": 20,
     "metadata": {},
     "output_type": "execute_result"
    }
   ],
   "source": [
    "167653 * 0.04"
   ]
  },
  {
   "cell_type": "code",
   "execution_count": 21,
   "id": "3b8348f7",
   "metadata": {},
   "outputs": [
    {
     "name": "stdout",
     "output_type": "stream",
     "text": [
      "[-0.03802051]\n"
     ]
    }
   ],
   "source": [
    "x = 799\n",
    "a = 0\n",
    "for i in range (1,14):\n",
    "    a = ((x ** (i)) * modelo.steps[1][1].coef_[0, i]) + a \n",
    "a = a + modelo.steps[1][1].intercept_\n",
    "print(a)"
   ]
  },
  {
   "cell_type": "code",
   "execution_count": null,
   "id": "c4540461",
   "metadata": {},
   "outputs": [],
   "source": []
  },
  {
   "cell_type": "code",
   "execution_count": 22,
   "id": "d39cb682",
   "metadata": {},
   "outputs": [
    {
     "name": "stdout",
     "output_type": "stream",
     "text": [
      "[-7688.16540763]\n"
     ]
    }
   ],
   "source": [
    "a = a * (max(dfc['Russia']) - min(dfc['Russia'])) + min(dfc['Russia'])\n",
    "print(a)"
   ]
  },
  {
   "cell_type": "code",
   "execution_count": 23,
   "id": "5e03d7a6",
   "metadata": {},
   "outputs": [
    {
     "data": {
      "text/plain": [
       "36263.0"
      ]
     },
     "execution_count": 23,
     "metadata": {},
     "output_type": "execute_result"
    }
   ],
   "source": [
    "dfc['Russia'].iloc[799] -7688"
   ]
  },
  {
   "cell_type": "code",
   "execution_count": 24,
   "id": "00d0f4c6",
   "metadata": {},
   "outputs": [
    {
     "data": {
      "text/plain": [
       "43951.0"
      ]
     },
     "execution_count": 24,
     "metadata": {},
     "output_type": "execute_result"
    }
   ],
   "source": [
    "dfc['Russia'].iloc[799]"
   ]
  },
  {
   "cell_type": "code",
   "execution_count": 25,
   "id": "7992822d",
   "metadata": {},
   "outputs": [
    {
     "data": {
      "image/png": "[encoded data removed]",
      "text/plain": [
       "<Figure size 432x288 with 2 Axes>"
      ]
     },
     "metadata": {
      "needs_background": "light"
     },
     "output_type": "display_data"
    }
   ],
   "source": [
    "lisc = list(dfcsr.columns)\n",
    "inp='Russia' #Afghanistan\n",
    "inpcol=lisc.index(inp)\n",
    "c = dfcsr.corr()\n",
    "cd=c.iloc[:,[inpcol]]\n",
    "cd=cd.sort_values(by=inp,ascending=False)\n",
    "cd=cd[1:6]\n",
    "sns.heatmap(cd,annot=True) # vmin=0,vmax=1\n",
    "plt.show()"
   ]
  },
  {
   "cell_type": "code",
   "execution_count": 26,
   "id": "a33f878b",
   "metadata": {},
   "outputs": [
    {
     "data": {
      "text/html": [
       "<div>\n",
       "<style scoped>\n",
       "    .dataframe tbody tr th:only-of-type {\n",
       "        vertical-align: middle;\n",
       "    }\n",
       "\n",
       "    .dataframe tbody tr th {\n",
       "        vertical-align: top;\n",
       "    }\n",
       "\n",
       "    .dataframe thead th {\n",
       "        text-align: right;\n",
       "    }\n",
       "</style>\n",
       "<table border=\"1\" class=\"dataframe\">\n",
       "  <thead>\n",
       "    <tr style=\"text-align: right;\">\n",
       "      <th></th>\n",
       "      <th>Russia</th>\n",
       "    </tr>\n",
       "  </thead>\n",
       "  <tbody>\n",
       "    <tr>\n",
       "      <th>Belarus</th>\n",
       "      <td>0.896503</td>\n",
       "    </tr>\n",
       "    <tr>\n",
       "      <th>Latvia</th>\n",
       "      <td>0.894512</td>\n",
       "    </tr>\n",
       "    <tr>\n",
       "      <th>Japan</th>\n",
       "      <td>0.888507</td>\n",
       "    </tr>\n",
       "    <tr>\n",
       "      <th>Estonia</th>\n",
       "      <td>0.879866</td>\n",
       "    </tr>\n",
       "    <tr>\n",
       "      <th>Lithuania</th>\n",
       "      <td>0.858039</td>\n",
       "    </tr>\n",
       "  </tbody>\n",
       "</table>\n",
       "</div>"
      ],
      "text/plain": [
       "             Russia\n",
       "Belarus    0.896503\n",
       "Latvia     0.894512\n",
       "Japan      0.888507\n",
       "Estonia    0.879866\n",
       "Lithuania  0.858039"
      ]
     },
     "execution_count": 26,
     "metadata": {},
     "output_type": "execute_result"
    }
   ],
   "source": [
    "cd"
   ]
  },
  {
   "cell_type": "code",
   "execution_count": 27,
   "id": "0be0874a",
   "metadata": {},
   "outputs": [],
   "source": [
    "y = dfcsr['Russia'].values\n",
    "Val = [dfcsr['United Kingdom'].values, dfcsr['Georgia'].values, dfcsr['Belarus'].values, dfcsr['Lithuania'].values, dfcsr['Europe'].values]"
   ]
  },
  {
   "cell_type": "code",
   "execution_count": 28,
   "id": "2f94162e",
   "metadata": {
    "scrolled": true
   },
   "outputs": [
    {
     "data": {
      "image/png": "[encoded data removed]",
      "text/plain": [
       "<Figure size 432x288 with 1 Axes>"
      ]
     },
     "metadata": {
      "needs_background": "light"
     },
     "output_type": "display_data"
    }
   ],
   "source": [
    "for i in range(1):\n",
    "    x1p = np.reshape(Val[i], (-1, 1))\n",
    "    lr.fit(x1p, y)\n",
    "    plt.scatter(Val[i], y)\n",
    "    plt.plot(x1p,lr.predict(x1p), label='Предсказание', c='red')\n",
    "    plt.xlabel(cd.index[i])\n",
    "    plt.ylabel('Russia')\n",
    "    plt.legend()\n",
    "    plt.show()"
   ]
  },
  {
   "cell_type": "code",
   "execution_count": 29,
   "id": "fcde422c",
   "metadata": {},
   "outputs": [
    {
     "data": {
      "image/png": "[encoded data removed]",
      "text/plain": [
       "<Figure size 1080x360 with 1 Axes>"
      ]
     },
     "metadata": {
      "needs_background": "light"
     },
     "output_type": "display_data"
    },
    {
     "name": "stdout",
     "output_type": "stream",
     "text": [
      "[0.98378558]\n",
      "-0.023947727990282275\n"
     ]
    }
   ],
   "source": [
    "x1p = np.reshape(Val[2], (-1, 1))\n",
    "lr.fit(x1p, y)\n",
    "plt.figure(figsize=(15,5))\n",
    "plt.scatter(Val[0], y, label=cd.index[0])\n",
    "plt.scatter(Val[1], y, label=cd.index[1])\n",
    "plt.scatter(Val[2], y, label=cd.index[2])\n",
    "plt.scatter(Val[3], y, label=cd.index[3])\n",
    "plt.scatter(Val[4], y, label=cd.index[4])\n",
    "plt.plot(x1p,lr.predict(x1p), label='Предсказание', c='red')\n",
    "plt.xlabel('Страны, коррелирующие с Россией')\n",
    "plt.ylabel('Россия')\n",
    "plt.legend()\n",
    "plt.show()\n",
    "print(modelo.steps[1][1].coef_)\n",
    "print(modelo.steps[1][1].intercept_)"
   ]
  },
  {
   "cell_type": "code",
   "execution_count": 30,
   "id": "b4f3787d",
   "metadata": {},
   "outputs": [
    {
     "name": "stdout",
     "output_type": "stream",
     "text": [
      "[0.95983785]\n"
     ]
    }
   ],
   "source": [
    "x = 1\n",
    "a = modelo.steps[1][1].intercept_ + modelo.steps[1][1].coef_ * x\n",
    "print(a)"
   ]
  },
  {
   "cell_type": "code",
   "execution_count": 31,
   "id": "9ca98904",
   "metadata": {},
   "outputs": [
    {
     "name": "stdout",
     "output_type": "stream",
     "text": [
      "[194089.77184586]\n"
     ]
    }
   ],
   "source": [
    "a = a * (max(dfc['Russia']) - min(dfc['Russia'])) + min(dfc['Russia'])\n",
    "print(a)"
   ]
  },
  {
   "cell_type": "code",
   "execution_count": 32,
   "id": "2fad1cc4",
   "metadata": {},
   "outputs": [
    {
     "data": {
      "image/png": "[encoded data removed]",
      "text/plain": [
       "<Figure size 432x288 with 1 Axes>"
      ]
     },
     "metadata": {
      "needs_background": "light"
     },
     "output_type": "display_data"
    }
   ],
   "source": [
    "plt.plot(dfcsr['Russia'])\n",
    "plt.plot(dfcsr['Europe'])\n",
    "plt.show()"
   ]
  },
  {
   "cell_type": "code",
   "execution_count": 33,
   "id": "f619c7e8",
   "metadata": {},
   "outputs": [],
   "source": [
    "#xaxiss = np.reshape(xaxis, (-1, 1))\n",
    "model = lr.fit(np.reshape(dfcsr.index, (-1, 1)), dfcsr[['Russia', 'United Kingdom']])"
   ]
  },
  {
   "cell_type": "code",
   "execution_count": null,
   "id": "2465d3b0",
   "metadata": {},
   "outputs": [],
   "source": []
  },
  {
   "cell_type": "code",
   "execution_count": null,
   "id": "22b95394",
   "metadata": {},
   "outputs": [],
   "source": []
  },
  {
   "cell_type": "code",
   "execution_count": null,
   "id": "4a35a526",
   "metadata": {},
   "outputs": [],
   "source": []
  },
  {
   "cell_type": "code",
   "execution_count": null,
   "id": "2a4040f5",
   "metadata": {},
   "outputs": [],
   "source": []
  },
  {
   "cell_type": "code",
   "execution_count": null,
   "id": "e04bee5d",
   "metadata": {},
   "outputs": [],
   "source": []
  },
  {
   "cell_type": "code",
   "execution_count": null,
   "id": "fd258a80",
   "metadata": {},
   "outputs": [],
   "source": []
  },
  {
   "cell_type": "code",
   "execution_count": null,
   "id": "67ee18b2",
   "metadata": {},
   "outputs": [],
   "source": []
  },
  {
   "cell_type": "code",
   "execution_count": 88,
   "id": "3d1fe04d",
   "metadata": {},
   "outputs": [
    {
     "name": "stdout",
     "output_type": "stream",
     "text": [
      "coefficient of determination: 0.018417095498703007\n",
      "intercept: [0.19477753 0.19374956 0.19098423 0.1950648  0.19272552]\n",
      "slope: [[0.00017815]\n",
      " [0.00017999]\n",
      " [0.00018726]\n",
      " [0.00017863]\n",
      " [0.00018255]]\n"
     ]
    }
   ],
   "source": [
    "r_sq = model.score(xaxiss, a.reshape(706,5))\n",
    "print('coefficient of determination:', r_sq)\n",
    "print('intercept:', model.intercept_)\n",
    "print('slope:', model.coef_)"
   ]
  },
  {
   "cell_type": "code",
   "execution_count": 90,
   "id": "1685d596",
   "metadata": {},
   "outputs": [
    {
     "name": "stdout",
     "output_type": "stream",
     "text": [
      "predicted response:\n",
      "[[0.19495567 0.19392955 0.19117148 0.19524344 0.19290807]\n",
      " [0.19513382 0.19410955 0.19135874 0.19542207 0.19309063]\n",
      " [0.19531197 0.19428954 0.191546   0.1956007  0.19327318]\n",
      " ...\n",
      " [0.32019391 0.32046602 0.32281395 0.32082187 0.32124248]\n",
      " [0.32037206 0.32064601 0.32300121 0.3210005  0.32142504]\n",
      " [0.32055021 0.32082601 0.32318847 0.32117913 0.32160759]]\n"
     ]
    }
   ],
   "source": [
    "y_pred = model.predict(xaxiss)\n",
    "print('predicted response:', y_pred, sep='\\n')"
   ]
  },
  {
   "cell_type": "code",
   "execution_count": 92,
   "id": "c28b2b4e",
   "metadata": {},
   "outputs": [
    {
     "ename": "ValueError",
     "evalue": "operands could not be broadcast together with shapes (5,1) (706,1) ",
     "output_type": "error",
     "traceback": [
      "\u001b[1;31m---------------------------------------------------------------------------\u001b[0m",
      "\u001b[1;31mValueError\u001b[0m                                Traceback (most recent call last)",
      "\u001b[1;32m<ipython-input-92-2158694a2601>\u001b[0m in \u001b[0;36m<module>\u001b[1;34m\u001b[0m\n\u001b[1;32m----> 1\u001b[1;33m \u001b[0my_pred\u001b[0m \u001b[1;33m=\u001b[0m \u001b[0mmodel\u001b[0m\u001b[1;33m.\u001b[0m\u001b[0mintercept_\u001b[0m \u001b[1;33m+\u001b[0m \u001b[0mnp\u001b[0m\u001b[1;33m.\u001b[0m\u001b[0msum\u001b[0m\u001b[1;33m(\u001b[0m\u001b[0mmodel\u001b[0m\u001b[1;33m.\u001b[0m\u001b[0mcoef_\u001b[0m \u001b[1;33m*\u001b[0m \u001b[0mxaxiss\u001b[0m\u001b[1;33m,\u001b[0m \u001b[0maxis\u001b[0m\u001b[1;33m=\u001b[0m\u001b[1;36m1\u001b[0m\u001b[1;33m)\u001b[0m\u001b[1;33m\u001b[0m\u001b[1;33m\u001b[0m\u001b[0m\n\u001b[0m",
      "\u001b[1;31mValueError\u001b[0m: operands could not be broadcast together with shapes (5,1) (706,1) "
     ]
    }
   ],
   "source": [
    "y_pred = model.intercept_ + np.sum(model.coef_ * xaxiss, axis=1)"
   ]
  },
  {
   "cell_type": "code",
   "execution_count": null,
   "id": "48ed5b8e",
   "metadata": {},
   "outputs": [],
   "source": []
  }
 ],
 "metadata": {
  "kernelspec": {
   "display_name": "Python 3 (ipykernel)",
   "language": "python",
   "name": "python3"
  },
  "language_info": {
   "codemirror_mode": {
    "name": "ipython",
    "version": 3
   },
   "file_extension": ".py",
   "mimetype": "text/x-python",
   "name": "python",
   "nbconvert_exporter": "python",
   "pygments_lexer": "ipython3",
   "version": "3.9.7"
  }
 },
 "nbformat": 4,
 "nbformat_minor": 5
}

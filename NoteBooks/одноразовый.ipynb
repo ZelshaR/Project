{
 "cells": [
  {
   "cell_type": "code",
   "execution_count": 20,
   "id": "d7f227ba",
   "metadata": {},
   "outputs": [],
   "source": [
    "import sys\n",
    "import warnings\n",
    "warnings.filterwarnings('ignore')\n",
    "from tqdm import tqdm\n",
    "\n",
    "import pandas as pd\n",
    "import numpy as np\n",
    "from sklearn.metrics import mean_absolute_error, mean_squared_error\n",
    "\n",
    "import statsmodels.formula.api as smf\n",
    "import statsmodels.tsa.api as smt\n",
    "import statsmodels.api as sm\n",
    "import scipy.stats as scs\n",
    "from scipy.optimize import minimize\n",
    "\n",
    "import matplotlib.pyplot as plt\n",
    "maru=max(list(dfc['Russia'].values))"
   ]
  },
  {
   "cell_type": "code",
   "execution_count": 3,
   "id": "9a084ed8",
   "metadata": {},
   "outputs": [],
   "source": [
    "dfc = pd.read_csv('https://raw.githubusercontent.com/ZelshaR/Project/main/NoteBooks/CSVs/newdfc.csv')\n",
    "dfc.index = dfc['Unnamed: 0'].values\n",
    "del dfc['Unnamed: 0']\n",
    "\n",
    "dfd = pd.read_csv('https://raw.githubusercontent.com/ZelshaR/Project/main/NoteBooks/CSVs/newdfd.csv')\n",
    "dfd.index = dfd['Unnamed: 0'].values\n",
    "del dfd['Unnamed: 0']\n",
    "\n",
    "dfdsr = pd.read_csv('https://raw.githubusercontent.com/ZelshaR/Project/main/NoteBooks/CSVs/newdfdsr.csv')\n",
    "dfdsr.index = dfdsr['Unnamed: 0'].values\n",
    "del dfdsr['Unnamed: 0']\n",
    "\n",
    "dfcsr = pd.read_csv('https://raw.githubusercontent.com/ZelshaR/Project/main/NoteBooks/CSVs/newdfcsr.csv')\n",
    "dfcsr.index = dfcsr['Unnamed: 0'].values\n",
    "del dfcsr['Unnamed: 0']\n",
    "\n",
    "delta = pd.read_csv('https://raw.githubusercontent.com/ZelshaR/Project/main/NoteBooks/CSVs/delta.csv')\n",
    "delta.index = delta['Unnamed: 0'].values\n",
    "del delta['Unnamed: 0']\n",
    "\n",
    "df = pd.read_csv('https://raw.githubusercontent.com/owid/covid-19-data/master/public/data/owid-covid-data.csv')"
   ]
  },
  {
   "cell_type": "code",
   "execution_count": 23,
   "id": "0fdbbede",
   "metadata": {},
   "outputs": [
    {
     "data": {
      "text/plain": [
       "-5832.285714285705"
      ]
     },
     "execution_count": 23,
     "metadata": {},
     "output_type": "execute_result"
    }
   ],
   "source": [
    "def weighted_average(series, weights):\n",
    "    result = 0.0\n",
    "    weights.reverse()\n",
    "    for n in range(len(weights)):\n",
    "        result += series[len(dfc.Russia)+2-n] * weights[n]\n",
    "    return result\n",
    "\n",
    "weighted_average(delta.Russia, [0.5/7,0.5/7,0.5/7,0.5/7,1/7,2/7,2/7][::-1])*maru"
   ]
  },
  {
   "cell_type": "code",
   "execution_count": 15,
   "id": "50ed33b2",
   "metadata": {},
   "outputs": [
    {
     "data": {
      "text/plain": [
       "43951.0"
      ]
     },
     "execution_count": 15,
     "metadata": {},
     "output_type": "execute_result"
    }
   ],
   "source": [
    "dfc.Russia[len(dfc.Russia)+2]"
   ]
  },
  {
   "cell_type": "code",
   "execution_count": 16,
   "id": "59cbe980",
   "metadata": {},
   "outputs": [
    {
     "data": {
      "text/plain": [
       "800"
      ]
     },
     "execution_count": 16,
     "metadata": {},
     "output_type": "execute_result"
    }
   ],
   "source": [
    "len(dfc.Russia)"
   ]
  },
  {
   "cell_type": "code",
   "execution_count": null,
   "id": "39378dd5",
   "metadata": {},
   "outputs": [],
   "source": []
  },
  {
   "cell_type": "code",
   "execution_count": null,
   "id": "799c7701",
   "metadata": {},
   "outputs": [],
   "source": []
  },
  {
   "cell_type": "code",
   "execution_count": null,
   "id": "82999f96",
   "metadata": {},
   "outputs": [],
   "source": []
  }
 ],
 "metadata": {
  "kernelspec": {
   "display_name": "Python 3 (ipykernel)",
   "language": "python",
   "name": "python3"
  },
  "language_info": {
   "codemirror_mode": {
    "name": "ipython",
    "version": 3
   },
   "file_extension": ".py",
   "mimetype": "text/x-python",
   "name": "python",
   "nbconvert_exporter": "python",
   "pygments_lexer": "ipython3",
   "version": "3.9.7"
  }
 },
 "nbformat": 4,
 "nbformat_minor": 5
}

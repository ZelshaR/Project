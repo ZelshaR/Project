{
 "cells": [
  {
   "cell_type": "code",
   "execution_count": 1,
   "id": "08449e4a",
   "metadata": {},
   "outputs": [],
   "source": [
    "import pandas as pd\n",
    "import numpy as np\n",
    "import plotly.express as px\n",
    "import plotly.graph_objects as go\n",
    "import matplotlib.pyplot as plt\n",
    "import seaborn as sns\n",
    "import dash\n",
    "import datetime as dt\n",
    "from matplotlib.colors import ListedColormap\n",
    "\n",
    "from dash import dcc\n",
    "from dash import html\n",
    "from itertools import chain\n",
    "from collections import Counter\n",
    "from dash.dependencies import Input, Output\n",
    "from sklearn.pipeline import make_pipeline\n",
    "\n",
    "import plotly.graph_objects as go\n",
    "from plotly.subplots import make_subplots\n",
    "\n",
    "from sklearn.linear_model import LinearRegression\n",
    "\n",
    "from sklearn.preprocessing import PolynomialFeatures\n",
    "\n",
    "from sklearn.metrics import mean_squared_error"
   ]
  },
  {
   "cell_type": "code",
   "execution_count": 2,
   "id": "f0f51116",
   "metadata": {},
   "outputs": [],
   "source": [
    "delta = pd.read_csv('https://raw.githubusercontent.com/ZelshaR/Project/main/NoteBooks/CSVs/delta.csv')\n",
    "del delta['Unnamed: 0']\n",
    "dfc = pd.read_csv('https://raw.githubusercontent.com/ZelshaR/Project/main/NoteBooks/CSVs/newdfc.csv')\n",
    "dfc.index = dfc['Unnamed: 0'].values\n",
    "del dfc['Unnamed: 0']\n",
    "\n",
    "dfd = pd.read_csv('https://raw.githubusercontent.com/ZelshaR/Project/main/NoteBooks/CSVs/newdfd.csv')\n",
    "dfd.index = dfd['Unnamed: 0'].values\n",
    "del dfd['Unnamed: 0']"
   ]
  },
  {
   "cell_type": "code",
   "execution_count": 3,
   "id": "ad6558c6",
   "metadata": {},
   "outputs": [
    {
     "data": {
      "text/html": [
       "<div>\n",
       "<style scoped>\n",
       "    .dataframe tbody tr th:only-of-type {\n",
       "        vertical-align: middle;\n",
       "    }\n",
       "\n",
       "    .dataframe tbody tr th {\n",
       "        vertical-align: top;\n",
       "    }\n",
       "\n",
       "    .dataframe thead th {\n",
       "        text-align: right;\n",
       "    }\n",
       "</style>\n",
       "<table border=\"1\" class=\"dataframe\">\n",
       "  <thead>\n",
       "    <tr style=\"text-align: right;\">\n",
       "      <th></th>\n",
       "      <th>Afghanistan</th>\n",
       "      <th>Africa</th>\n",
       "      <th>Albania</th>\n",
       "      <th>Algeria</th>\n",
       "      <th>Angola</th>\n",
       "      <th>Argentina</th>\n",
       "      <th>Armenia</th>\n",
       "      <th>Asia</th>\n",
       "      <th>Australia</th>\n",
       "      <th>Austria</th>\n",
       "      <th>...</th>\n",
       "      <th>United Arab Emirates</th>\n",
       "      <th>United Kingdom</th>\n",
       "      <th>United States</th>\n",
       "      <th>Upper middle income</th>\n",
       "      <th>Uruguay</th>\n",
       "      <th>Uzbekistan</th>\n",
       "      <th>Venezuela</th>\n",
       "      <th>World</th>\n",
       "      <th>Zambia</th>\n",
       "      <th>Zimbabwe</th>\n",
       "    </tr>\n",
       "  </thead>\n",
       "  <tbody>\n",
       "    <tr>\n",
       "      <th>0</th>\n",
       "      <td>0.000000</td>\n",
       "      <td>0.000000</td>\n",
       "      <td>0.000000</td>\n",
       "      <td>0.000000</td>\n",
       "      <td>0.000000</td>\n",
       "      <td>0.000000</td>\n",
       "      <td>0.000000</td>\n",
       "      <td>0.000000</td>\n",
       "      <td>0.000000</td>\n",
       "      <td>0.000000</td>\n",
       "      <td>...</td>\n",
       "      <td>0.000000</td>\n",
       "      <td>0.000000</td>\n",
       "      <td>0.000000</td>\n",
       "      <td>0.000000</td>\n",
       "      <td>0.000000</td>\n",
       "      <td>0.000000</td>\n",
       "      <td>0.000000</td>\n",
       "      <td>0.000000</td>\n",
       "      <td>0.000000</td>\n",
       "      <td>0.000000</td>\n",
       "    </tr>\n",
       "    <tr>\n",
       "      <th>1</th>\n",
       "      <td>0.000000</td>\n",
       "      <td>0.000000</td>\n",
       "      <td>0.000000</td>\n",
       "      <td>0.000000</td>\n",
       "      <td>0.000000</td>\n",
       "      <td>0.000000</td>\n",
       "      <td>0.000000</td>\n",
       "      <td>0.000000</td>\n",
       "      <td>0.000000</td>\n",
       "      <td>0.000000</td>\n",
       "      <td>...</td>\n",
       "      <td>0.000000</td>\n",
       "      <td>0.000000</td>\n",
       "      <td>0.000000</td>\n",
       "      <td>0.000000</td>\n",
       "      <td>0.000000</td>\n",
       "      <td>0.000000</td>\n",
       "      <td>0.000000</td>\n",
       "      <td>0.000000</td>\n",
       "      <td>0.000000</td>\n",
       "      <td>0.000000</td>\n",
       "    </tr>\n",
       "    <tr>\n",
       "      <th>2</th>\n",
       "      <td>0.000000</td>\n",
       "      <td>0.000000</td>\n",
       "      <td>0.000000</td>\n",
       "      <td>0.000000</td>\n",
       "      <td>0.000000</td>\n",
       "      <td>0.000000</td>\n",
       "      <td>0.000000</td>\n",
       "      <td>0.000000</td>\n",
       "      <td>0.000000</td>\n",
       "      <td>0.000000</td>\n",
       "      <td>...</td>\n",
       "      <td>0.000000</td>\n",
       "      <td>0.000000</td>\n",
       "      <td>0.000000</td>\n",
       "      <td>0.000000</td>\n",
       "      <td>0.000000</td>\n",
       "      <td>0.000000</td>\n",
       "      <td>0.000000</td>\n",
       "      <td>0.000000</td>\n",
       "      <td>0.000000</td>\n",
       "      <td>0.000000</td>\n",
       "    </tr>\n",
       "    <tr>\n",
       "      <th>3</th>\n",
       "      <td>0.000000</td>\n",
       "      <td>0.000000</td>\n",
       "      <td>0.000000</td>\n",
       "      <td>0.000000</td>\n",
       "      <td>0.000000</td>\n",
       "      <td>0.000000</td>\n",
       "      <td>0.000000</td>\n",
       "      <td>0.000000</td>\n",
       "      <td>0.000000</td>\n",
       "      <td>0.000000</td>\n",
       "      <td>...</td>\n",
       "      <td>0.000000</td>\n",
       "      <td>0.000000</td>\n",
       "      <td>0.000000</td>\n",
       "      <td>0.000000</td>\n",
       "      <td>0.000000</td>\n",
       "      <td>0.000000</td>\n",
       "      <td>0.000000</td>\n",
       "      <td>0.000000</td>\n",
       "      <td>0.000000</td>\n",
       "      <td>0.000000</td>\n",
       "    </tr>\n",
       "    <tr>\n",
       "      <th>4</th>\n",
       "      <td>0.000000</td>\n",
       "      <td>0.000000</td>\n",
       "      <td>0.000000</td>\n",
       "      <td>0.000000</td>\n",
       "      <td>0.000000</td>\n",
       "      <td>0.000000</td>\n",
       "      <td>0.000000</td>\n",
       "      <td>0.000000</td>\n",
       "      <td>0.000000</td>\n",
       "      <td>0.000000</td>\n",
       "      <td>...</td>\n",
       "      <td>0.000000</td>\n",
       "      <td>0.000000</td>\n",
       "      <td>0.000000</td>\n",
       "      <td>0.000000</td>\n",
       "      <td>0.000000</td>\n",
       "      <td>0.000000</td>\n",
       "      <td>0.000000</td>\n",
       "      <td>0.000000</td>\n",
       "      <td>0.000000</td>\n",
       "      <td>0.000000</td>\n",
       "    </tr>\n",
       "    <tr>\n",
       "      <th>...</th>\n",
       "      <td>...</td>\n",
       "      <td>...</td>\n",
       "      <td>...</td>\n",
       "      <td>...</td>\n",
       "      <td>...</td>\n",
       "      <td>...</td>\n",
       "      <td>...</td>\n",
       "      <td>...</td>\n",
       "      <td>...</td>\n",
       "      <td>...</td>\n",
       "      <td>...</td>\n",
       "      <td>...</td>\n",
       "      <td>...</td>\n",
       "      <td>...</td>\n",
       "      <td>...</td>\n",
       "      <td>...</td>\n",
       "      <td>...</td>\n",
       "      <td>...</td>\n",
       "      <td>...</td>\n",
       "      <td>...</td>\n",
       "      <td>...</td>\n",
       "    </tr>\n",
       "    <tr>\n",
       "      <th>795</th>\n",
       "      <td>-0.055813</td>\n",
       "      <td>-0.177420</td>\n",
       "      <td>-0.002506</td>\n",
       "      <td>-0.001190</td>\n",
       "      <td>0.000596</td>\n",
       "      <td>-0.002703</td>\n",
       "      <td>-0.020283</td>\n",
       "      <td>0.085274</td>\n",
       "      <td>0.032202</td>\n",
       "      <td>0.340994</td>\n",
       "      <td>...</td>\n",
       "      <td>0.015433</td>\n",
       "      <td>0.027229</td>\n",
       "      <td>0.005771</td>\n",
       "      <td>-0.049463</td>\n",
       "      <td>-0.016309</td>\n",
       "      <td>0.016238</td>\n",
       "      <td>0.011091</td>\n",
       "      <td>0.008966</td>\n",
       "      <td>0.041944</td>\n",
       "      <td>-0.068917</td>\n",
       "    </tr>\n",
       "    <tr>\n",
       "      <th>796</th>\n",
       "      <td>0.060438</td>\n",
       "      <td>0.195826</td>\n",
       "      <td>-0.001670</td>\n",
       "      <td>-0.001190</td>\n",
       "      <td>-0.005164</td>\n",
       "      <td>0.000293</td>\n",
       "      <td>0.016180</td>\n",
       "      <td>-0.115761</td>\n",
       "      <td>-0.026508</td>\n",
       "      <td>0.033116</td>\n",
       "      <td>...</td>\n",
       "      <td>-0.005144</td>\n",
       "      <td>0.073068</td>\n",
       "      <td>0.007759</td>\n",
       "      <td>0.020228</td>\n",
       "      <td>-0.002351</td>\n",
       "      <td>-0.025034</td>\n",
       "      <td>0.081032</td>\n",
       "      <td>-0.015628</td>\n",
       "      <td>-0.049145</td>\n",
       "      <td>0.131192</td>\n",
       "    </tr>\n",
       "    <tr>\n",
       "      <th>797</th>\n",
       "      <td>-0.088498</td>\n",
       "      <td>-0.192224</td>\n",
       "      <td>0.001253</td>\n",
       "      <td>0.001983</td>\n",
       "      <td>0.000000</td>\n",
       "      <td>-0.003732</td>\n",
       "      <td>0.001367</td>\n",
       "      <td>0.036943</td>\n",
       "      <td>0.019330</td>\n",
       "      <td>-0.002205</td>\n",
       "      <td>...</td>\n",
       "      <td>0.002908</td>\n",
       "      <td>-0.052638</td>\n",
       "      <td>0.002744</td>\n",
       "      <td>-0.034394</td>\n",
       "      <td>-0.000588</td>\n",
       "      <td>0.037889</td>\n",
       "      <td>-0.125849</td>\n",
       "      <td>-0.002485</td>\n",
       "      <td>-0.013141</td>\n",
       "      <td>-0.131192</td>\n",
       "    </tr>\n",
       "    <tr>\n",
       "      <th>798</th>\n",
       "      <td>-0.004934</td>\n",
       "      <td>0.089107</td>\n",
       "      <td>-0.000835</td>\n",
       "      <td>-0.002380</td>\n",
       "      <td>0.010725</td>\n",
       "      <td>-0.018798</td>\n",
       "      <td>-0.003874</td>\n",
       "      <td>0.191855</td>\n",
       "      <td>-0.009026</td>\n",
       "      <td>-0.098276</td>\n",
       "      <td>...</td>\n",
       "      <td>-0.006486</td>\n",
       "      <td>-0.332245</td>\n",
       "      <td>-0.030136</td>\n",
       "      <td>-0.045220</td>\n",
       "      <td>-0.020423</td>\n",
       "      <td>-0.020298</td>\n",
       "      <td>0.063151</td>\n",
       "      <td>-0.060885</td>\n",
       "      <td>0.004680</td>\n",
       "      <td>0.056723</td>\n",
       "    </tr>\n",
       "    <tr>\n",
       "      <th>799</th>\n",
       "      <td>0.029911</td>\n",
       "      <td>-0.137138</td>\n",
       "      <td>-0.005638</td>\n",
       "      <td>0.001190</td>\n",
       "      <td>-0.007150</td>\n",
       "      <td>-0.012513</td>\n",
       "      <td>-0.013674</td>\n",
       "      <td>-0.264270</td>\n",
       "      <td>-0.040252</td>\n",
       "      <td>-0.129572</td>\n",
       "      <td>...</td>\n",
       "      <td>-0.007828</td>\n",
       "      <td>0.000000</td>\n",
       "      <td>-0.003420</td>\n",
       "      <td>-0.018093</td>\n",
       "      <td>-0.014766</td>\n",
       "      <td>0.019621</td>\n",
       "      <td>0.029878</td>\n",
       "      <td>-0.096533</td>\n",
       "      <td>-0.019442</td>\n",
       "      <td>-0.008165</td>\n",
       "    </tr>\n",
       "  </tbody>\n",
       "</table>\n",
       "<p>800 rows × 129 columns</p>\n",
       "</div>"
      ],
      "text/plain": [
       "     Afghanistan    Africa   Albania   Algeria    Angola  Argentina   Armenia  \\\n",
       "0       0.000000  0.000000  0.000000  0.000000  0.000000   0.000000  0.000000   \n",
       "1       0.000000  0.000000  0.000000  0.000000  0.000000   0.000000  0.000000   \n",
       "2       0.000000  0.000000  0.000000  0.000000  0.000000   0.000000  0.000000   \n",
       "3       0.000000  0.000000  0.000000  0.000000  0.000000   0.000000  0.000000   \n",
       "4       0.000000  0.000000  0.000000  0.000000  0.000000   0.000000  0.000000   \n",
       "..           ...       ...       ...       ...       ...        ...       ...   \n",
       "795    -0.055813 -0.177420 -0.002506 -0.001190  0.000596  -0.002703 -0.020283   \n",
       "796     0.060438  0.195826 -0.001670 -0.001190 -0.005164   0.000293  0.016180   \n",
       "797    -0.088498 -0.192224  0.001253  0.001983  0.000000  -0.003732  0.001367   \n",
       "798    -0.004934  0.089107 -0.000835 -0.002380  0.010725  -0.018798 -0.003874   \n",
       "799     0.029911 -0.137138 -0.005638  0.001190 -0.007150  -0.012513 -0.013674   \n",
       "\n",
       "         Asia  Australia   Austria  ...  United Arab Emirates  United Kingdom  \\\n",
       "0    0.000000   0.000000  0.000000  ...              0.000000        0.000000   \n",
       "1    0.000000   0.000000  0.000000  ...              0.000000        0.000000   \n",
       "2    0.000000   0.000000  0.000000  ...              0.000000        0.000000   \n",
       "3    0.000000   0.000000  0.000000  ...              0.000000        0.000000   \n",
       "4    0.000000   0.000000  0.000000  ...              0.000000        0.000000   \n",
       "..        ...        ...       ...  ...                   ...             ...   \n",
       "795  0.085274   0.032202  0.340994  ...              0.015433        0.027229   \n",
       "796 -0.115761  -0.026508  0.033116  ...             -0.005144        0.073068   \n",
       "797  0.036943   0.019330 -0.002205  ...              0.002908       -0.052638   \n",
       "798  0.191855  -0.009026 -0.098276  ...             -0.006486       -0.332245   \n",
       "799 -0.264270  -0.040252 -0.129572  ...             -0.007828        0.000000   \n",
       "\n",
       "     United States  Upper middle income   Uruguay  Uzbekistan  Venezuela  \\\n",
       "0         0.000000             0.000000  0.000000    0.000000   0.000000   \n",
       "1         0.000000             0.000000  0.000000    0.000000   0.000000   \n",
       "2         0.000000             0.000000  0.000000    0.000000   0.000000   \n",
       "3         0.000000             0.000000  0.000000    0.000000   0.000000   \n",
       "4         0.000000             0.000000  0.000000    0.000000   0.000000   \n",
       "..             ...                  ...       ...         ...        ...   \n",
       "795       0.005771            -0.049463 -0.016309    0.016238   0.011091   \n",
       "796       0.007759             0.020228 -0.002351   -0.025034   0.081032   \n",
       "797       0.002744            -0.034394 -0.000588    0.037889  -0.125849   \n",
       "798      -0.030136            -0.045220 -0.020423   -0.020298   0.063151   \n",
       "799      -0.003420            -0.018093 -0.014766    0.019621   0.029878   \n",
       "\n",
       "        World    Zambia  Zimbabwe  \n",
       "0    0.000000  0.000000  0.000000  \n",
       "1    0.000000  0.000000  0.000000  \n",
       "2    0.000000  0.000000  0.000000  \n",
       "3    0.000000  0.000000  0.000000  \n",
       "4    0.000000  0.000000  0.000000  \n",
       "..        ...       ...       ...  \n",
       "795  0.008966  0.041944 -0.068917  \n",
       "796 -0.015628 -0.049145  0.131192  \n",
       "797 -0.002485 -0.013141 -0.131192  \n",
       "798 -0.060885  0.004680  0.056723  \n",
       "799 -0.096533 -0.019442 -0.008165  \n",
       "\n",
       "[800 rows x 129 columns]"
      ]
     },
     "execution_count": 3,
     "metadata": {},
     "output_type": "execute_result"
    }
   ],
   "source": [
    "delta"
   ]
  },
  {
   "cell_type": "code",
   "execution_count": 4,
   "id": "d7ab75b2",
   "metadata": {},
   "outputs": [
    {
     "data": {
      "text/plain": [
       "202211.0"
      ]
     },
     "execution_count": 4,
     "metadata": {},
     "output_type": "execute_result"
    }
   ],
   "source": [
    "maru=max(list(dfc['Russia'].values))\n",
    "maru"
   ]
  },
  {
   "cell_type": "code",
   "execution_count": 5,
   "id": "5f870419",
   "metadata": {},
   "outputs": [
    {
     "data": {
      "image/png": "[encoded data removed]",
      "text/plain": [
       "<Figure size 720x360 with 1 Axes>"
      ]
     },
     "metadata": {
      "needs_background": "light"
     },
     "output_type": "display_data"
    }
   ],
   "source": [
    "plt.figure(figsize=(10,5))\n",
    "plt.plot( delta.index,delta['Russia'].values)\n",
    "plt.xlabel('Дни')\n",
    "plt.ylabel('Количество заражённых')\n",
    "plt.show()"
   ]
  },
  {
   "cell_type": "code",
   "execution_count": 6,
   "id": "8cf35131",
   "metadata": {},
   "outputs": [
    {
     "data": {
      "text/plain": [
       "43951.0"
      ]
     },
     "execution_count": 6,
     "metadata": {},
     "output_type": "execute_result"
    }
   ],
   "source": [
    "list(dfc['Russia'].values)[-1]"
   ]
  },
  {
   "cell_type": "code",
   "execution_count": 7,
   "id": "4e325e3e",
   "metadata": {},
   "outputs": [
    {
     "data": {
      "text/plain": [
       "[78632.0, 72136.0, 65569.0, 57787.0, 50284.0, 49710.0, 47096.0, 43951.0]"
      ]
     },
     "execution_count": 7,
     "metadata": {},
     "output_type": "execute_result"
    }
   ],
   "source": [
    "list(dfc['Russia'].values)[-8:]"
   ]
  },
  {
   "cell_type": "code",
   "execution_count": 60,
   "id": "078cf32e",
   "metadata": {},
   "outputs": [
    {
     "data": {
      "text/plain": [
       "-1.0"
      ]
     },
     "execution_count": 60,
     "metadata": {},
     "output_type": "execute_result"
    }
   ],
   "source": [
    "rtf=list(dfc['Russia'].values)\n",
    "sum(list(delta['Russia'].values)[-7:])/7 # просто среднее по обыным числам"
   ]
  },
  {
   "cell_type": "code",
   "execution_count": 69,
   "id": "8a7a2288",
   "metadata": {},
   "outputs": [
    {
     "data": {
      "text/plain": [
       "-4954.428571428563"
      ]
     },
     "execution_count": 69,
     "metadata": {},
     "output_type": "execute_result"
    }
   ],
   "source": [
    "sum(list(delta['Russia'].values)[-7:])/7*maru"
   ]
  },
  {
   "cell_type": "code",
   "execution_count": 59,
   "id": "4831c6df",
   "metadata": {},
   "outputs": [
    {
     "name": "stdout",
     "output_type": "stream",
     "text": [
      "-4954.428571428563\n"
     ]
    }
   ],
   "source": [
    "def moving_average(series, n):\n",
    "    return np.average(series[-n:])\n",
    "\n",
    "a = moving_average(delta.Russia, 7)\n",
    "a = a * (max(dfc['Russia']) - min(dfc['Russia'])) + min(dfc['Russia'])\n",
    "print(a)"
   ]
  },
  {
   "cell_type": "code",
   "execution_count": 9,
   "id": "9f2bdc91",
   "metadata": {},
   "outputs": [
    {
     "name": "stdout",
     "output_type": "stream",
     "text": [
      "54422.57142857142\n"
     ]
    }
   ],
   "source": [
    "tr=list(dfc['Russia'].values)[-8:-1] # по обычным числовым данным среднее с весами\n",
    "g=[0.5/7,0.5/7,0.5/7,0.5/7,1/7,2/7,2/7]\n",
    "s=0\n",
    "sg=0\n",
    "for i in range(-1,-8,-1):\n",
    "    s=s+tr[i]*g[i]\n",
    "    sg+=g[i]\n",
    "print(s)"
   ]
  },
  {
   "cell_type": "code",
   "execution_count": 10,
   "id": "c5d605d1",
   "metadata": {},
   "outputs": [
    {
     "name": "stdout",
     "output_type": "stream",
     "text": [
      "-0.019620947567498406\n",
      "-3967.5714285714203\n"
     ]
    }
   ],
   "source": [
    "trdel=list(delta['Russia'].values)[-8:-1] # по delta среднее с весами\n",
    "g=[0.5/7,0.5/7,0.5/7,0.5/7,1/7,2/7,2/7]\n",
    "s=0\n",
    "sg=0\n",
    "for i in range(-1,-8,-1):\n",
    "    s=s+trdel[i]*g[i]\n",
    "    sg+=g[i]\n",
    "print(s)\n",
    "print(s*maru)"
   ]
  },
  {
   "cell_type": "code",
   "execution_count": 11,
   "id": "dfecfa09",
   "metadata": {},
   "outputs": [
    {
     "data": {
      "text/plain": [
       "-5496.999999999992"
      ]
     },
     "execution_count": 11,
     "metadata": {},
     "output_type": "execute_result"
    }
   ],
   "source": [
    "sum(list(delta['Russia'].values)[-8:-1])/7*maru #по delta среднее"
   ]
  },
  {
   "cell_type": "code",
   "execution_count": 23,
   "id": "7f7b3290",
   "metadata": {},
   "outputs": [
    {
     "name": "stdout",
     "output_type": "stream",
     "text": [
      "-3070.229999999994\n",
      "-2847.747999999995\n",
      "-2825.914799999995\n",
      "[-0.0321248596762787, -0.0324759780625188, -0.0384845532636701, -0.0371048063656279, -0.0028386190662229, -0.0129270910088966, -0.015553060911622, -0.015183298633605463, -0.014083051861669221, -0.013975079496169817]\n"
     ]
    }
   ],
   "source": [
    "trdel=list(delta['Russia'].values)[-7:]\n",
    "for i in range(3): # по delta среднее с весами \n",
    "    g=[0.6, 0.2, 0.1, 0.07, 0.01, 0.01, 0.01][::-1] # вообше крутые\n",
    "    s=0\n",
    "    sg=0\n",
    "    for i in range(-1,-6,-1):\n",
    "        s=s+trdel[i]*g[i]\n",
    "        sg+=g[i]\n",
    "    print(s*maru)\n",
    "    trdel.append(s)\n",
    "print(trdel)"
   ]
  },
  {
   "cell_type": "code",
   "execution_count": 42,
   "id": "dc1a7bca",
   "metadata": {},
   "outputs": [
    {
     "name": "stdout",
     "output_type": "stream",
     "text": [
      "-0.015183298633605463\n"
     ]
    }
   ],
   "source": [
    "def wessr(trdel):\n",
    "    trdel=trdel[-7:]\n",
    "     # по delta среднее с весами \n",
    "    g=[0.6, 0.2, 0.1, 0.07, 0.01, 0.01, 0.01][::-1] # вообше крутые\n",
    "    s=0\n",
    "    sg=0\n",
    "    for i in range(-1,-6,-1):\n",
    "        s=s+trdel[i]*g[i]\n",
    "        sg+=g[i]\n",
    "    return s\n",
    "    trdel.append(s)\n",
    "print(wessr(list(delta['Russia'].values)))"
   ]
  },
  {
   "cell_type": "code",
   "execution_count": 47,
   "id": "cb58c0b8",
   "metadata": {},
   "outputs": [
    {
     "data": {
      "image/png": "[encoded data removed]",
      "text/plain": [
       "<Figure size 720x360 with 1 Axes>"
      ]
     },
     "metadata": {
      "needs_background": "light"
     },
     "output_type": "display_data"
    }
   ],
   "source": [
    "def plotMovingAverage(series, n):\n",
    "\n",
    "    rolling_mean = series.rolling(window=n).mean()\n",
    "\n",
    "    plt.figure(figsize=(10,5))\n",
    "    #plt.title(\"Moving average\\n window size = {}\".format(n))\n",
    "    #plt.plot(rolling_mean, \"g\", label=\"Rolling mean trend\")\n",
    "\n",
    "    plt.plot(delta.Russia[n:],c='orange' , label=\"Россия\")\n",
    "    plt.plot(rolling_mean, \"g\", label=\"Тенденция скользящего среднего\")\n",
    "    plt.legend(loc=\"upper left\")\n",
    "    #plt.grid(True)\n",
    "plotMovingAverage(delta.Russia, 7)"
   ]
  },
  {
   "cell_type": "code",
   "execution_count": 51,
   "id": "f0bd9631",
   "metadata": {},
   "outputs": [
    {
     "data": {
      "image/png": "[encoded data removed]",
      "text/plain": [
       "<Figure size 720x360 with 1 Axes>"
      ]
     },
     "metadata": {
      "needs_background": "light"
     },
     "output_type": "display_data"
    }
   ],
   "source": [
    "trdel=list(delta['Russia'].values)\n",
    "trdelpr=[0,0,0,0,0,0,0]\n",
    "for i in range(7,len(trdel)):\n",
    "    ex=trdel[:i]\n",
    "    trdelpr.append(wessr(ex))\n",
    "plt.figure(figsize=(10,5))\n",
    "plt.plot(delta.Russia,c='orange' , label=\"Россия\")\n",
    "plt.plot(trdelpr,c='green' , label=\"Взвешенное среднее\")\n",
    "plt.legend(loc=\"upper left\")\n",
    "plt.show()"
   ]
  },
  {
   "cell_type": "code",
   "execution_count": null,
   "id": "a79aacba",
   "metadata": {},
   "outputs": [],
   "source": []
  },
  {
   "cell_type": "code",
   "execution_count": null,
   "id": "dc4418a7",
   "metadata": {},
   "outputs": [],
   "source": []
  },
  {
   "cell_type": "code",
   "execution_count": null,
   "id": "aea53cb5",
   "metadata": {},
   "outputs": [],
   "source": []
  },
  {
   "cell_type": "code",
   "execution_count": null,
   "id": "98dfadfd",
   "metadata": {},
   "outputs": [],
   "source": []
  }
 ],
 "metadata": {
  "kernelspec": {
   "display_name": "Python 3 (ipykernel)",
   "language": "python",
   "name": "python3"
  },
  "language_info": {
   "codemirror_mode": {
    "name": "ipython",
    "version": 3
   },
   "file_extension": ".py",
   "mimetype": "text/x-python",
   "name": "python",
   "nbconvert_exporter": "python",
   "pygments_lexer": "ipython3",
   "version": "3.9.7"
  }
 },
 "nbformat": 4,
 "nbformat_minor": 5
}

{
 "cells": [
  {
   "cell_type": "code",
   "execution_count": 14,
   "id": "7ed1697f",
   "metadata": {},
   "outputs": [],
   "source": [
    "import pandas as pd\n",
    "import numpy as np\n",
    "\n",
    "import matplotlib.pyplot as plt\n",
    "%matplotlib inline\n",
    "\n",
    "from sklearn.linear_model import LinearRegression\n",
    "lr = LinearRegression()\n",
    "\n",
    "from sklearn.preprocessing import PolynomialFeatures\n",
    "\n",
    "from sklearn.metrics import mean_squared_error\n",
    "\n",
    "import seaborn as sns\n",
    "\n",
    "from sklearn.pipeline import make_pipeline"
   ]
  },
  {
   "cell_type": "code",
   "execution_count": 2,
   "id": "e76275c2",
   "metadata": {},
   "outputs": [],
   "source": [
    "#dfd = pd.read_csv(\"CSVs\\dfdd.csv\")\n",
    "#dfd.index = dfd['Unnamed: 0'].values\n",
    "#del dfd['Unnamed: 0']\n",
    "\n",
    "#dfc = pd.read_csv(\"CSVs\\dfcc.csv\")\n",
    "#dfc.index = dfc['Unnamed: 0'].values\n",
    "#del dfc['Unnamed: 0']"
   ]
  },
  {
   "cell_type": "code",
   "execution_count": 73,
   "id": "b5fb77c9",
   "metadata": {},
   "outputs": [],
   "source": [
    "dfc = pd.read_csv('https://raw.githubusercontent.com/ZelshaR/Project/main/NoteBooks/CSVs/newdfc.csv')\n",
    "dfc.index = dfc['Unnamed: 0'].values\n",
    "del dfc['Unnamed: 0']\n",
    "\n",
    "dfd = pd.read_csv('https://raw.githubusercontent.com/ZelshaR/Project/main/NoteBooks/CSVs/newdfd.csv')\n",
    "dfd.index = dfd['Unnamed: 0'].values\n",
    "del dfd['Unnamed: 0']\n",
    "\n",
    "dfdsr = pd.read_csv('https://raw.githubusercontent.com/ZelshaR/Project/main/NoteBooks/CSVs/newdfdsr.csv')\n",
    "dfdsr.index = dfdsr['Unnamed: 0'].values\n",
    "del dfdsr['Unnamed: 0']\n",
    "\n",
    "dfcsr = pd.read_csv('https://raw.githubusercontent.com/ZelshaR/Project/main/NoteBooks/CSVs/newdfcsr.csv')\n",
    "dfcsr.index = dfcsr['Unnamed: 0'].values\n",
    "del dfcsr['Unnamed: 0']\n",
    "\n",
    "delta = pd.read_csv('https://raw.githubusercontent.com/ZelshaR/Project/main/NoteBooks/CSVs/delta.csv')\n",
    "delta.index = delta['Unnamed: 0'].values\n",
    "del delta['Unnamed: 0']"
   ]
  },
  {
   "cell_type": "code",
   "execution_count": 4,
   "id": "611f86ae",
   "metadata": {},
   "outputs": [],
   "source": [
    "#corlist = dfc.columns\n",
    "#dfcsr = dfc.copy(deep=True)\n",
    "#dfdsr = dfd.copy(deep=True)\n",
    "#for i in corlist:\n",
    "#    for j in range(706):\n",
    "#        dfcsr[i].iloc[j] = (dfcsr[i].iloc[j]-min(dfcsr[i]))/(max(dfcsr[i])-min(dfcsr[i]))\n",
    "#for i in corlist:\n",
    "#    for j in range(706):\n",
    "#        dfdsr[i].iloc[j] = (dfdsr[i].iloc[j]-min(dfdsr[i]))/(max(dfdsr[i])-min(dfdsr[i]))"
   ]
  },
  {
   "cell_type": "code",
   "execution_count": 71,
   "id": "4abc125a",
   "metadata": {},
   "outputs": [],
   "source": [
    "#dfcsr.drop(dfcsr.head(10).index,inplace=True)\n",
    "#dfcsr.drop(dfcsr.tail(10).index,inplace=True)"
   ]
  },
  {
   "cell_type": "code",
   "execution_count": 77,
   "id": "71487522",
   "metadata": {},
   "outputs": [],
   "source": [
    "delta = delta.fillna(0)"
   ]
  },
  {
   "cell_type": "code",
   "execution_count": 61,
   "id": "ca91d2a7",
   "metadata": {},
   "outputs": [],
   "source": [
    "a = np.concatenate((dfcsr['United Kingdom'].values, dfcsr['Georgia'].values, dfcsr['Belarus'].values, dfcsr['Lithuania'].values, dfcsr['Europe'].values), axis = 0)\n",
    "#yaxis = a.reshape(6,706)"
   ]
  },
  {
   "cell_type": "code",
   "execution_count": 78,
   "id": "171cda4f",
   "metadata": {},
   "outputs": [],
   "source": [
    "yaxis = delta['Russia'].values\n",
    "xaxis = [i for i in range(1,len(delta) + 1)]"
   ]
  },
  {
   "cell_type": "code",
   "execution_count": 72,
   "id": "4882114c",
   "metadata": {},
   "outputs": [
    {
     "data": {
      "text/plain": [
       "array([[   1,    2,    3, ...,  704,  705,  706],\n",
       "       [ 707,  708,  709, ..., 1410, 1411, 1412],\n",
       "       [1413, 1414, 1415, ..., 2116, 2117, 2118],\n",
       "       [2119, 2120, 2121, ..., 2822, 2823, 2824],\n",
       "       [2825, 2826, 2827, ..., 3528, 3529, 3530]])"
      ]
     },
     "execution_count": 72,
     "metadata": {},
     "output_type": "execute_result"
    }
   ],
   "source": [
    "#lol"
   ]
  },
  {
   "cell_type": "code",
   "execution_count": 79,
   "id": "b16e9ae3",
   "metadata": {
    "scrolled": true
   },
   "outputs": [
    {
     "data": {
      "image/png": "[encoded data removed]",
      "text/plain": [
       "<Figure size 720x360 with 1 Axes>"
      ]
     },
     "metadata": {
      "needs_background": "light"
     },
     "output_type": "display_data"
    }
   ],
   "source": [
    "plt.figure(figsize=(10,5))\n",
    "plt.plot(xaxis, yaxis)\n",
    "plt.xlabel('Дни')\n",
    "plt.ylabel('Количество заражённых')\n",
    "plt.show()"
   ]
  },
  {
   "cell_type": "code",
   "execution_count": 72,
   "id": "0d46bdae",
   "metadata": {},
   "outputs": [
    {
     "data": {
      "text/plain": [
       "1          0.0\n",
       "2          0.0\n",
       "3          0.0\n",
       "4          0.0\n",
       "5          0.0\n",
       "        ...   \n",
       "798    57787.0\n",
       "799    50284.0\n",
       "800    49710.0\n",
       "801    47096.0\n",
       "802    43951.0\n",
       "Name: Russia, Length: 800, dtype: float64"
      ]
     },
     "execution_count": 72,
     "metadata": {},
     "output_type": "execute_result"
    }
   ],
   "source": [
    "dfc['Russia']"
   ]
  },
  {
   "cell_type": "code",
   "execution_count": 80,
   "id": "4daf1b80",
   "metadata": {},
   "outputs": [
    {
     "data": {
      "text/plain": [
       "LinearRegression()"
      ]
     },
     "execution_count": 80,
     "metadata": {},
     "output_type": "execute_result"
    }
   ],
   "source": [
    "xaxis1 = np.reshape(xaxis, (-1, 1))\n",
    "lr.fit(xaxis1, yaxis)"
   ]
  },
  {
   "cell_type": "code",
   "execution_count": 81,
   "id": "aa7b48ab",
   "metadata": {
    "scrolled": true
   },
   "outputs": [
    {
     "data": {
      "image/png": "[encoded data removed]",
      "text/plain": [
       "<Figure size 720x360 with 1 Axes>"
      ]
     },
     "metadata": {
      "needs_background": "light"
     },
     "output_type": "display_data"
    }
   ],
   "source": [
    "plt.figure(figsize=(10,5))\n",
    "plt.plot(xaxis, yaxis, label='Данные для тренировки')\n",
    "plt.plot(xaxis,lr.predict(xaxis1), label='Предсказание', c='red')\n",
    "plt.legend()\n",
    "plt.show()"
   ]
  },
  {
   "cell_type": "code",
   "execution_count": 81,
   "id": "c1204d3b",
   "metadata": {},
   "outputs": [
    {
     "data": {
      "text/plain": [
       "array([[  1.],\n",
       "       [  2.],\n",
       "       [  3.],\n",
       "       [  4.],\n",
       "       [  5.],\n",
       "       [  6.],\n",
       "       [  7.],\n",
       "       [  8.],\n",
       "       [  9.],\n",
       "       [ 10.],\n",
       "       [ 11.],\n",
       "       [ 12.],\n",
       "       [ 13.],\n",
       "       [ 14.],\n",
       "       [ 15.],\n",
       "       [ 16.],\n",
       "       [ 17.],\n",
       "       [ 18.],\n",
       "       [ 19.],\n",
       "       [ 20.],\n",
       "       [ 21.],\n",
       "       [ 22.],\n",
       "       [ 23.],\n",
       "       [ 24.],\n",
       "       [ 25.],\n",
       "       [ 26.],\n",
       "       [ 27.],\n",
       "       [ 28.],\n",
       "       [ 29.],\n",
       "       [ 30.],\n",
       "       [ 31.],\n",
       "       [ 32.],\n",
       "       [ 33.],\n",
       "       [ 34.],\n",
       "       [ 35.],\n",
       "       [ 36.],\n",
       "       [ 37.],\n",
       "       [ 38.],\n",
       "       [ 39.],\n",
       "       [ 40.],\n",
       "       [ 41.],\n",
       "       [ 42.],\n",
       "       [ 43.],\n",
       "       [ 44.],\n",
       "       [ 45.],\n",
       "       [ 46.],\n",
       "       [ 47.],\n",
       "       [ 48.],\n",
       "       [ 49.],\n",
       "       [ 50.],\n",
       "       [ 51.],\n",
       "       [ 52.],\n",
       "       [ 53.],\n",
       "       [ 54.],\n",
       "       [ 55.],\n",
       "       [ 56.],\n",
       "       [ 57.],\n",
       "       [ 58.],\n",
       "       [ 59.],\n",
       "       [ 60.],\n",
       "       [ 61.],\n",
       "       [ 62.],\n",
       "       [ 63.],\n",
       "       [ 64.],\n",
       "       [ 65.],\n",
       "       [ 66.],\n",
       "       [ 67.],\n",
       "       [ 68.],\n",
       "       [ 69.],\n",
       "       [ 70.],\n",
       "       [ 71.],\n",
       "       [ 72.],\n",
       "       [ 73.],\n",
       "       [ 74.],\n",
       "       [ 75.],\n",
       "       [ 76.],\n",
       "       [ 77.],\n",
       "       [ 78.],\n",
       "       [ 79.],\n",
       "       [ 80.],\n",
       "       [ 81.],\n",
       "       [ 82.],\n",
       "       [ 83.],\n",
       "       [ 84.],\n",
       "       [ 85.],\n",
       "       [ 86.],\n",
       "       [ 87.],\n",
       "       [ 88.],\n",
       "       [ 89.],\n",
       "       [ 90.],\n",
       "       [ 91.],\n",
       "       [ 92.],\n",
       "       [ 93.],\n",
       "       [ 94.],\n",
       "       [ 95.],\n",
       "       [ 96.],\n",
       "       [ 97.],\n",
       "       [ 98.],\n",
       "       [ 99.],\n",
       "       [100.],\n",
       "       [101.],\n",
       "       [102.],\n",
       "       [103.],\n",
       "       [104.],\n",
       "       [105.],\n",
       "       [106.],\n",
       "       [107.],\n",
       "       [108.],\n",
       "       [109.],\n",
       "       [110.],\n",
       "       [111.],\n",
       "       [112.],\n",
       "       [113.],\n",
       "       [114.],\n",
       "       [115.],\n",
       "       [116.],\n",
       "       [117.],\n",
       "       [118.],\n",
       "       [119.],\n",
       "       [120.],\n",
       "       [121.],\n",
       "       [122.],\n",
       "       [123.],\n",
       "       [124.],\n",
       "       [125.],\n",
       "       [126.],\n",
       "       [127.],\n",
       "       [128.],\n",
       "       [129.],\n",
       "       [130.],\n",
       "       [131.],\n",
       "       [132.],\n",
       "       [133.],\n",
       "       [134.],\n",
       "       [135.],\n",
       "       [136.],\n",
       "       [137.],\n",
       "       [138.],\n",
       "       [139.],\n",
       "       [140.],\n",
       "       [141.],\n",
       "       [142.],\n",
       "       [143.],\n",
       "       [144.],\n",
       "       [145.],\n",
       "       [146.],\n",
       "       [147.],\n",
       "       [148.],\n",
       "       [149.],\n",
       "       [150.],\n",
       "       [151.],\n",
       "       [152.],\n",
       "       [153.],\n",
       "       [154.],\n",
       "       [155.],\n",
       "       [156.],\n",
       "       [157.],\n",
       "       [158.],\n",
       "       [159.],\n",
       "       [160.],\n",
       "       [161.],\n",
       "       [162.],\n",
       "       [163.],\n",
       "       [164.],\n",
       "       [165.],\n",
       "       [166.],\n",
       "       [167.],\n",
       "       [168.],\n",
       "       [169.],\n",
       "       [170.],\n",
       "       [171.],\n",
       "       [172.],\n",
       "       [173.],\n",
       "       [174.],\n",
       "       [175.],\n",
       "       [176.],\n",
       "       [177.],\n",
       "       [178.],\n",
       "       [179.],\n",
       "       [180.],\n",
       "       [181.],\n",
       "       [182.],\n",
       "       [183.],\n",
       "       [184.],\n",
       "       [185.],\n",
       "       [186.],\n",
       "       [187.],\n",
       "       [188.],\n",
       "       [189.],\n",
       "       [190.],\n",
       "       [191.],\n",
       "       [192.],\n",
       "       [193.],\n",
       "       [194.],\n",
       "       [195.],\n",
       "       [196.],\n",
       "       [197.],\n",
       "       [198.],\n",
       "       [199.],\n",
       "       [200.],\n",
       "       [201.],\n",
       "       [202.],\n",
       "       [203.],\n",
       "       [204.],\n",
       "       [205.],\n",
       "       [206.],\n",
       "       [207.],\n",
       "       [208.],\n",
       "       [209.],\n",
       "       [210.],\n",
       "       [211.],\n",
       "       [212.],\n",
       "       [213.],\n",
       "       [214.],\n",
       "       [215.],\n",
       "       [216.],\n",
       "       [217.],\n",
       "       [218.],\n",
       "       [219.],\n",
       "       [220.],\n",
       "       [221.],\n",
       "       [222.],\n",
       "       [223.],\n",
       "       [224.],\n",
       "       [225.],\n",
       "       [226.],\n",
       "       [227.],\n",
       "       [228.],\n",
       "       [229.],\n",
       "       [230.],\n",
       "       [231.],\n",
       "       [232.],\n",
       "       [233.],\n",
       "       [234.],\n",
       "       [235.],\n",
       "       [236.],\n",
       "       [237.],\n",
       "       [238.],\n",
       "       [239.],\n",
       "       [240.],\n",
       "       [241.],\n",
       "       [242.],\n",
       "       [243.],\n",
       "       [244.],\n",
       "       [245.],\n",
       "       [246.],\n",
       "       [247.],\n",
       "       [248.],\n",
       "       [249.],\n",
       "       [250.],\n",
       "       [251.],\n",
       "       [252.],\n",
       "       [253.],\n",
       "       [254.],\n",
       "       [255.],\n",
       "       [256.],\n",
       "       [257.],\n",
       "       [258.],\n",
       "       [259.],\n",
       "       [260.],\n",
       "       [261.],\n",
       "       [262.],\n",
       "       [263.],\n",
       "       [264.],\n",
       "       [265.],\n",
       "       [266.],\n",
       "       [267.],\n",
       "       [268.],\n",
       "       [269.],\n",
       "       [270.],\n",
       "       [271.],\n",
       "       [272.],\n",
       "       [273.],\n",
       "       [274.],\n",
       "       [275.],\n",
       "       [276.],\n",
       "       [277.],\n",
       "       [278.],\n",
       "       [279.],\n",
       "       [280.],\n",
       "       [281.],\n",
       "       [282.],\n",
       "       [283.],\n",
       "       [284.],\n",
       "       [285.],\n",
       "       [286.],\n",
       "       [287.],\n",
       "       [288.],\n",
       "       [289.],\n",
       "       [290.],\n",
       "       [291.],\n",
       "       [292.],\n",
       "       [293.],\n",
       "       [294.],\n",
       "       [295.],\n",
       "       [296.],\n",
       "       [297.],\n",
       "       [298.],\n",
       "       [299.],\n",
       "       [300.],\n",
       "       [301.],\n",
       "       [302.],\n",
       "       [303.],\n",
       "       [304.],\n",
       "       [305.],\n",
       "       [306.],\n",
       "       [307.],\n",
       "       [308.],\n",
       "       [309.],\n",
       "       [310.],\n",
       "       [311.],\n",
       "       [312.],\n",
       "       [313.],\n",
       "       [314.],\n",
       "       [315.],\n",
       "       [316.],\n",
       "       [317.],\n",
       "       [318.],\n",
       "       [319.],\n",
       "       [320.],\n",
       "       [321.],\n",
       "       [322.],\n",
       "       [323.],\n",
       "       [324.],\n",
       "       [325.],\n",
       "       [326.],\n",
       "       [327.],\n",
       "       [328.],\n",
       "       [329.],\n",
       "       [330.],\n",
       "       [331.],\n",
       "       [332.],\n",
       "       [333.],\n",
       "       [334.],\n",
       "       [335.],\n",
       "       [336.],\n",
       "       [337.],\n",
       "       [338.],\n",
       "       [339.],\n",
       "       [340.],\n",
       "       [341.],\n",
       "       [342.],\n",
       "       [343.],\n",
       "       [344.],\n",
       "       [345.],\n",
       "       [346.],\n",
       "       [347.],\n",
       "       [348.],\n",
       "       [349.],\n",
       "       [350.],\n",
       "       [351.],\n",
       "       [352.],\n",
       "       [353.],\n",
       "       [354.],\n",
       "       [355.],\n",
       "       [356.],\n",
       "       [357.],\n",
       "       [358.],\n",
       "       [359.],\n",
       "       [360.],\n",
       "       [361.],\n",
       "       [362.],\n",
       "       [363.],\n",
       "       [364.],\n",
       "       [365.],\n",
       "       [366.],\n",
       "       [367.],\n",
       "       [368.],\n",
       "       [369.],\n",
       "       [370.],\n",
       "       [371.],\n",
       "       [372.],\n",
       "       [373.],\n",
       "       [374.],\n",
       "       [375.],\n",
       "       [376.],\n",
       "       [377.],\n",
       "       [378.],\n",
       "       [379.],\n",
       "       [380.],\n",
       "       [381.],\n",
       "       [382.],\n",
       "       [383.],\n",
       "       [384.],\n",
       "       [385.],\n",
       "       [386.],\n",
       "       [387.],\n",
       "       [388.],\n",
       "       [389.],\n",
       "       [390.],\n",
       "       [391.],\n",
       "       [392.],\n",
       "       [393.],\n",
       "       [394.],\n",
       "       [395.],\n",
       "       [396.],\n",
       "       [397.],\n",
       "       [398.],\n",
       "       [399.],\n",
       "       [400.],\n",
       "       [401.],\n",
       "       [402.],\n",
       "       [403.],\n",
       "       [404.],\n",
       "       [405.],\n",
       "       [406.],\n",
       "       [407.],\n",
       "       [408.],\n",
       "       [409.],\n",
       "       [410.],\n",
       "       [411.],\n",
       "       [412.],\n",
       "       [413.],\n",
       "       [414.],\n",
       "       [415.],\n",
       "       [416.],\n",
       "       [417.],\n",
       "       [418.],\n",
       "       [419.],\n",
       "       [420.],\n",
       "       [421.],\n",
       "       [422.],\n",
       "       [423.],\n",
       "       [424.],\n",
       "       [425.],\n",
       "       [426.],\n",
       "       [427.],\n",
       "       [428.],\n",
       "       [429.],\n",
       "       [430.],\n",
       "       [431.],\n",
       "       [432.],\n",
       "       [433.],\n",
       "       [434.],\n",
       "       [435.],\n",
       "       [436.],\n",
       "       [437.],\n",
       "       [438.],\n",
       "       [439.],\n",
       "       [440.],\n",
       "       [441.],\n",
       "       [442.],\n",
       "       [443.],\n",
       "       [444.],\n",
       "       [445.],\n",
       "       [446.],\n",
       "       [447.],\n",
       "       [448.],\n",
       "       [449.],\n",
       "       [450.],\n",
       "       [451.],\n",
       "       [452.],\n",
       "       [453.],\n",
       "       [454.],\n",
       "       [455.],\n",
       "       [456.],\n",
       "       [457.],\n",
       "       [458.],\n",
       "       [459.],\n",
       "       [460.],\n",
       "       [461.],\n",
       "       [462.],\n",
       "       [463.],\n",
       "       [464.],\n",
       "       [465.],\n",
       "       [466.],\n",
       "       [467.],\n",
       "       [468.],\n",
       "       [469.],\n",
       "       [470.],\n",
       "       [471.],\n",
       "       [472.],\n",
       "       [473.],\n",
       "       [474.],\n",
       "       [475.],\n",
       "       [476.],\n",
       "       [477.],\n",
       "       [478.],\n",
       "       [479.],\n",
       "       [480.],\n",
       "       [481.],\n",
       "       [482.],\n",
       "       [483.],\n",
       "       [484.],\n",
       "       [485.],\n",
       "       [486.],\n",
       "       [487.],\n",
       "       [488.],\n",
       "       [489.],\n",
       "       [490.],\n",
       "       [491.],\n",
       "       [492.],\n",
       "       [493.],\n",
       "       [494.],\n",
       "       [495.],\n",
       "       [496.],\n",
       "       [497.],\n",
       "       [498.],\n",
       "       [499.],\n",
       "       [500.],\n",
       "       [501.],\n",
       "       [502.],\n",
       "       [503.],\n",
       "       [504.],\n",
       "       [505.],\n",
       "       [506.],\n",
       "       [507.],\n",
       "       [508.],\n",
       "       [509.],\n",
       "       [510.],\n",
       "       [511.],\n",
       "       [512.],\n",
       "       [513.],\n",
       "       [514.],\n",
       "       [515.],\n",
       "       [516.],\n",
       "       [517.],\n",
       "       [518.],\n",
       "       [519.],\n",
       "       [520.],\n",
       "       [521.],\n",
       "       [522.],\n",
       "       [523.],\n",
       "       [524.],\n",
       "       [525.],\n",
       "       [526.],\n",
       "       [527.],\n",
       "       [528.],\n",
       "       [529.],\n",
       "       [530.],\n",
       "       [531.],\n",
       "       [532.],\n",
       "       [533.],\n",
       "       [534.],\n",
       "       [535.],\n",
       "       [536.],\n",
       "       [537.],\n",
       "       [538.],\n",
       "       [539.],\n",
       "       [540.],\n",
       "       [541.],\n",
       "       [542.],\n",
       "       [543.],\n",
       "       [544.],\n",
       "       [545.],\n",
       "       [546.],\n",
       "       [547.],\n",
       "       [548.],\n",
       "       [549.],\n",
       "       [550.],\n",
       "       [551.],\n",
       "       [552.],\n",
       "       [553.],\n",
       "       [554.],\n",
       "       [555.],\n",
       "       [556.],\n",
       "       [557.],\n",
       "       [558.],\n",
       "       [559.],\n",
       "       [560.],\n",
       "       [561.],\n",
       "       [562.],\n",
       "       [563.],\n",
       "       [564.],\n",
       "       [565.],\n",
       "       [566.],\n",
       "       [567.],\n",
       "       [568.],\n",
       "       [569.],\n",
       "       [570.],\n",
       "       [571.],\n",
       "       [572.],\n",
       "       [573.],\n",
       "       [574.],\n",
       "       [575.],\n",
       "       [576.],\n",
       "       [577.],\n",
       "       [578.],\n",
       "       [579.],\n",
       "       [580.],\n",
       "       [581.],\n",
       "       [582.],\n",
       "       [583.],\n",
       "       [584.],\n",
       "       [585.],\n",
       "       [586.],\n",
       "       [587.],\n",
       "       [588.],\n",
       "       [589.],\n",
       "       [590.],\n",
       "       [591.],\n",
       "       [592.],\n",
       "       [593.],\n",
       "       [594.],\n",
       "       [595.],\n",
       "       [596.],\n",
       "       [597.],\n",
       "       [598.],\n",
       "       [599.],\n",
       "       [600.],\n",
       "       [601.],\n",
       "       [602.],\n",
       "       [603.],\n",
       "       [604.],\n",
       "       [605.],\n",
       "       [606.],\n",
       "       [607.],\n",
       "       [608.],\n",
       "       [609.],\n",
       "       [610.],\n",
       "       [611.],\n",
       "       [612.],\n",
       "       [613.],\n",
       "       [614.],\n",
       "       [615.],\n",
       "       [616.],\n",
       "       [617.],\n",
       "       [618.],\n",
       "       [619.],\n",
       "       [620.],\n",
       "       [621.],\n",
       "       [622.],\n",
       "       [623.],\n",
       "       [624.],\n",
       "       [625.],\n",
       "       [626.],\n",
       "       [627.],\n",
       "       [628.],\n",
       "       [629.],\n",
       "       [630.],\n",
       "       [631.],\n",
       "       [632.],\n",
       "       [633.],\n",
       "       [634.],\n",
       "       [635.],\n",
       "       [636.],\n",
       "       [637.],\n",
       "       [638.],\n",
       "       [639.],\n",
       "       [640.],\n",
       "       [641.],\n",
       "       [642.],\n",
       "       [643.],\n",
       "       [644.],\n",
       "       [645.],\n",
       "       [646.],\n",
       "       [647.],\n",
       "       [648.],\n",
       "       [649.],\n",
       "       [650.],\n",
       "       [651.],\n",
       "       [652.],\n",
       "       [653.],\n",
       "       [654.],\n",
       "       [655.],\n",
       "       [656.],\n",
       "       [657.],\n",
       "       [658.],\n",
       "       [659.],\n",
       "       [660.],\n",
       "       [661.],\n",
       "       [662.],\n",
       "       [663.],\n",
       "       [664.],\n",
       "       [665.],\n",
       "       [666.],\n",
       "       [667.],\n",
       "       [668.],\n",
       "       [669.],\n",
       "       [670.],\n",
       "       [671.],\n",
       "       [672.],\n",
       "       [673.],\n",
       "       [674.],\n",
       "       [675.],\n",
       "       [676.],\n",
       "       [677.],\n",
       "       [678.],\n",
       "       [679.],\n",
       "       [680.],\n",
       "       [681.],\n",
       "       [682.],\n",
       "       [683.],\n",
       "       [684.],\n",
       "       [685.],\n",
       "       [686.],\n",
       "       [687.],\n",
       "       [688.],\n",
       "       [689.],\n",
       "       [690.],\n",
       "       [691.],\n",
       "       [692.],\n",
       "       [693.],\n",
       "       [694.],\n",
       "       [695.],\n",
       "       [696.],\n",
       "       [697.],\n",
       "       [698.],\n",
       "       [699.],\n",
       "       [700.],\n",
       "       [701.],\n",
       "       [702.],\n",
       "       [703.],\n",
       "       [704.],\n",
       "       [705.],\n",
       "       [706.]])"
      ]
     },
     "execution_count": 81,
     "metadata": {},
     "output_type": "execute_result"
    }
   ],
   "source": [
    "xaxis_"
   ]
  },
  {
   "cell_type": "code",
   "execution_count": 82,
   "id": "d264bbf7",
   "metadata": {},
   "outputs": [],
   "source": [
    "g = np.reshape(delta.index, (-1, 1))"
   ]
  },
  {
   "cell_type": "code",
   "execution_count": 120,
   "id": "cca90620",
   "metadata": {},
   "outputs": [
    {
     "data": {
      "text/plain": [
       "Index(['United Kingdom', 'Belarus', 'Georgia', 'Europe', 'nu'], dtype='object')"
      ]
     },
     "execution_count": 120,
     "metadata": {},
     "output_type": "execute_result"
    }
   ],
   "source": [
    "cd.index"
   ]
  },
  {
   "cell_type": "code",
   "execution_count": 125,
   "id": "015d6f1c",
   "metadata": {},
   "outputs": [
    {
     "data": {
      "text/html": [
       "<div>\n",
       "<style scoped>\n",
       "    .dataframe tbody tr th:only-of-type {\n",
       "        vertical-align: middle;\n",
       "    }\n",
       "\n",
       "    .dataframe tbody tr th {\n",
       "        vertical-align: top;\n",
       "    }\n",
       "\n",
       "    .dataframe thead th {\n",
       "        text-align: right;\n",
       "    }\n",
       "</style>\n",
       "<table border=\"1\" class=\"dataframe\">\n",
       "  <thead>\n",
       "    <tr style=\"text-align: right;\">\n",
       "      <th></th>\n",
       "      <th>Russia</th>\n",
       "      <th>United Kingdom</th>\n",
       "      <th>Belarus</th>\n",
       "      <th>Georgia</th>\n",
       "      <th>Europe</th>\n",
       "    </tr>\n",
       "  </thead>\n",
       "  <tbody>\n",
       "    <tr>\n",
       "      <th>1</th>\n",
       "      <td>0.000000</td>\n",
       "      <td>0.000000</td>\n",
       "      <td>0.000000</td>\n",
       "      <td>0.000000</td>\n",
       "      <td>0.000000</td>\n",
       "    </tr>\n",
       "    <tr>\n",
       "      <th>2</th>\n",
       "      <td>0.000000</td>\n",
       "      <td>0.000000</td>\n",
       "      <td>0.000000</td>\n",
       "      <td>0.000000</td>\n",
       "      <td>0.000000</td>\n",
       "    </tr>\n",
       "    <tr>\n",
       "      <th>3</th>\n",
       "      <td>0.000000</td>\n",
       "      <td>0.000000</td>\n",
       "      <td>0.000000</td>\n",
       "      <td>0.000000</td>\n",
       "      <td>0.000000</td>\n",
       "    </tr>\n",
       "    <tr>\n",
       "      <th>4</th>\n",
       "      <td>0.000000</td>\n",
       "      <td>0.000000</td>\n",
       "      <td>0.000000</td>\n",
       "      <td>0.000000</td>\n",
       "      <td>0.000000</td>\n",
       "    </tr>\n",
       "    <tr>\n",
       "      <th>5</th>\n",
       "      <td>0.000000</td>\n",
       "      <td>0.000000</td>\n",
       "      <td>0.000000</td>\n",
       "      <td>0.000000</td>\n",
       "      <td>0.000000</td>\n",
       "    </tr>\n",
       "    <tr>\n",
       "      <th>...</th>\n",
       "      <td>...</td>\n",
       "      <td>...</td>\n",
       "      <td>...</td>\n",
       "      <td>...</td>\n",
       "      <td>...</td>\n",
       "    </tr>\n",
       "    <tr>\n",
       "      <th>703</th>\n",
       "      <td>0.805123</td>\n",
       "      <td>0.609661</td>\n",
       "      <td>0.883166</td>\n",
       "      <td>0.636276</td>\n",
       "      <td>0.728092</td>\n",
       "    </tr>\n",
       "    <tr>\n",
       "      <th>704</th>\n",
       "      <td>0.796145</td>\n",
       "      <td>0.635866</td>\n",
       "      <td>0.837864</td>\n",
       "      <td>0.549291</td>\n",
       "      <td>0.586795</td>\n",
       "    </tr>\n",
       "    <tr>\n",
       "      <th>705</th>\n",
       "      <td>0.785103</td>\n",
       "      <td>0.758828</td>\n",
       "      <td>0.625656</td>\n",
       "      <td>0.286405</td>\n",
       "      <td>0.677106</td>\n",
       "    </tr>\n",
       "    <tr>\n",
       "      <th>706</th>\n",
       "      <td>0.759662</td>\n",
       "      <td>0.666838</td>\n",
       "      <td>0.482594</td>\n",
       "      <td>0.726321</td>\n",
       "      <td>1.000000</td>\n",
       "    </tr>\n",
       "    <tr>\n",
       "      <th>707</th>\n",
       "      <td>0.751753</td>\n",
       "      <td>0.747932</td>\n",
       "      <td>0.837387</td>\n",
       "      <td>0.680735</td>\n",
       "      <td>0.829088</td>\n",
       "    </tr>\n",
       "  </tbody>\n",
       "</table>\n",
       "<p>706 rows × 5 columns</p>\n",
       "</div>"
      ],
      "text/plain": [
       "       Russia  United Kingdom   Belarus   Georgia    Europe\n",
       "1    0.000000        0.000000  0.000000  0.000000  0.000000\n",
       "2    0.000000        0.000000  0.000000  0.000000  0.000000\n",
       "3    0.000000        0.000000  0.000000  0.000000  0.000000\n",
       "4    0.000000        0.000000  0.000000  0.000000  0.000000\n",
       "5    0.000000        0.000000  0.000000  0.000000  0.000000\n",
       "..        ...             ...       ...       ...       ...\n",
       "703  0.805123        0.609661  0.883166  0.636276  0.728092\n",
       "704  0.796145        0.635866  0.837864  0.549291  0.586795\n",
       "705  0.785103        0.758828  0.625656  0.286405  0.677106\n",
       "706  0.759662        0.666838  0.482594  0.726321  1.000000\n",
       "707  0.751753        0.747932  0.837387  0.680735  0.829088\n",
       "\n",
       "[706 rows x 5 columns]"
      ]
     },
     "execution_count": 125,
     "metadata": {},
     "output_type": "execute_result"
    }
   ],
   "source": [
    "dfcsr[['Russia', 'United Kingdom', 'Belarus', 'Georgia', 'Europe']]"
   ]
  },
  {
   "cell_type": "code",
   "execution_count": null,
   "id": "3975d5d3",
   "metadata": {},
   "outputs": [],
   "source": []
  },
  {
   "cell_type": "code",
   "execution_count": 83,
   "id": "f541c4fc",
   "metadata": {},
   "outputs": [
    {
     "data": {
      "image/png": "[encoded data removed]",
      "text/plain": [
       "<Figure size 720x360 with 1 Axes>"
      ]
     },
     "metadata": {
      "needs_background": "light"
     },
     "output_type": "display_data"
    },
    {
     "name": "stdout",
     "output_type": "stream",
     "text": [
      "[[ 0.00000000e+00  1.39389809e-26  6.61438528e-32  6.02021042e-37\n",
      "  -4.06057969e-37 -1.58127068e-34 -4.89399440e-32 -1.30905298e-29\n",
      "  -2.74871823e-27 -3.49568073e-25  2.24438189e-27 -5.34983052e-30\n",
      "   5.61380330e-33 -2.18901206e-36]]\n",
      "[0.00045685]\n"
     ]
    },
    {
     "data": {
      "text/plain": [
       "[0.010824440909448155]"
      ]
     },
     "execution_count": 83,
     "metadata": {},
     "output_type": "execute_result"
    }
   ],
   "source": [
    "rmses = []\n",
    "#enumerate = [i for i in range(10)]\n",
    "enumerate = [13]\n",
    "\n",
    "for i in enumerate:\n",
    "    p = PolynomialFeatures(i, include_bias=True)\n",
    "    \n",
    "    xaxis_poly = p.fit_transform(g)\n",
    "\n",
    "    lr.fit(xaxis_poly, delta[['Russia']])\n",
    "\n",
    "    xaxis_ = np.linspace(g.min(0), g.max(0), len(delta)).reshape(len(delta),1)\n",
    "    y_pred_lr = lr.predict(p.transform(xaxis_))\n",
    "    poly_mse = mean_squared_error(delta[['Russia']], y_pred_lr)\n",
    "    poly_rmse = np.sqrt(poly_mse)\n",
    "    rmses.append(poly_rmse)\n",
    "    plt.figure(figsize=(10,5))\n",
    "#    plt.scatter(xaxis, yaxis, label='Данные для тренировки') #не вижу смысла проставлять точки, ибо они просто будут накладываться на кривую\n",
    "    plt.plot(xaxis, yaxis, label='Россия', c='orange')\n",
    "    plt.plot(xaxis, y_pred_lr, label='Предсказание', c='green')\n",
    "#    plt.plot(xaxis, dfcsr['United Kingdom'].values, label='Англия', c='red')\n",
    "#    plt.plot\n",
    "#    plt.plot\n",
    "#    plt.plot\n",
    "#    plt.plot\n",
    "    plt.legend()\n",
    "    plt.show()\n",
    "    #print(p.fit_transform(xaxis_))\n",
    "    modelo = make_pipeline(p, lr)\n",
    "    print(modelo.steps[1][1].coef_)\n",
    "    print(modelo.steps[1][1].intercept_)\n",
    "rmses"
   ]
  },
  {
   "cell_type": "code",
   "execution_count": 35,
   "id": "350e53ad",
   "metadata": {},
   "outputs": [
    {
     "name": "stdout",
     "output_type": "stream",
     "text": [
      "Pipeline(steps=[('polynomialfeatures', PolynomialFeatures(degree=10)),\n",
      "                ('linearregression', LinearRegression())])\n"
     ]
    }
   ],
   "source": [
    "print(modelo)"
   ]
  },
  {
   "cell_type": "code",
   "execution_count": 17,
   "id": "f5012628",
   "metadata": {},
   "outputs": [
    {
     "data": {
      "text/plain": [
       "6706.12"
      ]
     },
     "execution_count": 17,
     "metadata": {},
     "output_type": "execute_result"
    }
   ],
   "source": [
    "167653 * 0.04"
   ]
  },
  {
   "cell_type": "code",
   "execution_count": 89,
   "id": "3b8348f7",
   "metadata": {},
   "outputs": [
    {
     "name": "stdout",
     "output_type": "stream",
     "text": [
      "[-0.03802051]\n"
     ]
    }
   ],
   "source": [
    "x = 799\n",
    "a = 0\n",
    "for i in range (1,14):\n",
    "    a = ((x ** (i)) * modelo.steps[1][1].coef_[0, i]) + a \n",
    "a = a + modelo.steps[1][1].intercept_\n",
    "print(a)"
   ]
  },
  {
   "cell_type": "code",
   "execution_count": 90,
   "id": "d39cb682",
   "metadata": {},
   "outputs": [
    {
     "name": "stdout",
     "output_type": "stream",
     "text": [
      "[-7688.16540763]\n"
     ]
    }
   ],
   "source": [
    "a = a * (max(dfc['Russia']) - min(dfc['Russia'])) + min(dfc['Russia'])\n",
    "print(a)"
   ]
  },
  {
   "cell_type": "code",
   "execution_count": 91,
   "id": "5e03d7a6",
   "metadata": {},
   "outputs": [
    {
     "data": {
      "text/plain": [
       "36263.0"
      ]
     },
     "execution_count": 91,
     "metadata": {},
     "output_type": "execute_result"
    }
   ],
   "source": [
    "dfc['Russia'].iloc[799] -7688"
   ]
  },
  {
   "cell_type": "code",
   "execution_count": 66,
   "id": "00d0f4c6",
   "metadata": {},
   "outputs": [
    {
     "data": {
      "text/plain": [
       "43951.0"
      ]
     },
     "execution_count": 66,
     "metadata": {},
     "output_type": "execute_result"
    }
   ],
   "source": [
    "dfc['Russia'].iloc[799]"
   ]
  },
  {
   "cell_type": "code",
   "execution_count": 118,
   "id": "7992822d",
   "metadata": {},
   "outputs": [
    {
     "data": {
      "image/png": "[encoded data removed]",
      "text/plain": [
       "<Figure size 432x288 with 2 Axes>"
      ]
     },
     "metadata": {
      "needs_background": "light"
     },
     "output_type": "display_data"
    }
   ],
   "source": [
    "lisc = list(dfcsr.columns)\n",
    "inp='Russia' #Afghanistan\n",
    "inpcol=lisc.index(inp)\n",
    "c = dfcsr.corr()\n",
    "cd=c.iloc[:,[inpcol]]\n",
    "cd=cd.sort_values(by=inp,ascending=False)\n",
    "cd=cd[1:6]\n",
    "sns.heatmap(cd,annot=True) # vmin=0,vmax=1\n",
    "plt.show()"
   ]
  },
  {
   "cell_type": "code",
   "execution_count": 95,
   "id": "a33f878b",
   "metadata": {},
   "outputs": [
    {
     "data": {
      "text/html": [
       "<div>\n",
       "<style scoped>\n",
       "    .dataframe tbody tr th:only-of-type {\n",
       "        vertical-align: middle;\n",
       "    }\n",
       "\n",
       "    .dataframe tbody tr th {\n",
       "        vertical-align: top;\n",
       "    }\n",
       "\n",
       "    .dataframe thead th {\n",
       "        text-align: right;\n",
       "    }\n",
       "</style>\n",
       "<table border=\"1\" class=\"dataframe\">\n",
       "  <thead>\n",
       "    <tr style=\"text-align: right;\">\n",
       "      <th></th>\n",
       "      <th>Russia</th>\n",
       "    </tr>\n",
       "  </thead>\n",
       "  <tbody>\n",
       "    <tr>\n",
       "      <th>United Kingdom</th>\n",
       "      <td>0.867595</td>\n",
       "    </tr>\n",
       "    <tr>\n",
       "      <th>Belarus</th>\n",
       "      <td>0.824757</td>\n",
       "    </tr>\n",
       "    <tr>\n",
       "      <th>Georgia</th>\n",
       "      <td>0.817048</td>\n",
       "    </tr>\n",
       "    <tr>\n",
       "      <th>Europe</th>\n",
       "      <td>0.796663</td>\n",
       "    </tr>\n",
       "    <tr>\n",
       "      <th>Lithuania</th>\n",
       "      <td>0.795159</td>\n",
       "    </tr>\n",
       "  </tbody>\n",
       "</table>\n",
       "</div>"
      ],
      "text/plain": [
       "                  Russia\n",
       "United Kingdom  0.867595\n",
       "Belarus         0.824757\n",
       "Georgia         0.817048\n",
       "Europe          0.796663\n",
       "Lithuania       0.795159"
      ]
     },
     "execution_count": 95,
     "metadata": {},
     "output_type": "execute_result"
    }
   ],
   "source": [
    "cd"
   ]
  },
  {
   "cell_type": "code",
   "execution_count": 22,
   "id": "0be0874a",
   "metadata": {},
   "outputs": [],
   "source": [
    "y = dfcsr['Russia'].values\n",
    "Val = [dfcsr['United Kingdom'].values, dfcsr['Georgia'].values, dfcsr['Belarus'].values, dfcsr['Lithuania'].values, dfcsr['Europe'].values]"
   ]
  },
  {
   "cell_type": "code",
   "execution_count": 23,
   "id": "2f94162e",
   "metadata": {
    "scrolled": true
   },
   "outputs": [
    {
     "data": {
      "image/png": "[encoded data removed]",
      "text/plain": [
       "<Figure size 432x288 with 1 Axes>"
      ]
     },
     "metadata": {
      "needs_background": "light"
     },
     "output_type": "display_data"
    }
   ],
   "source": [
    "for i in range(1):\n",
    "    x1p = np.reshape(Val[i], (-1, 1))\n",
    "    lr.fit(x1p, y)\n",
    "    plt.scatter(Val[i], y)\n",
    "    plt.plot(x1p,lr.predict(x1p), label='Предсказание', c='red')\n",
    "    plt.xlabel(cd.index[i])\n",
    "    plt.ylabel('Russia')\n",
    "    plt.legend()\n",
    "    plt.show()"
   ]
  },
  {
   "cell_type": "code",
   "execution_count": 121,
   "id": "fcde422c",
   "metadata": {},
   "outputs": [
    {
     "data": {
      "image/png": "[encoded data removed]",
      "text/plain": [
       "<Figure size 1080x360 with 1 Axes>"
      ]
     },
     "metadata": {
      "needs_background": "light"
     },
     "output_type": "display_data"
    },
    {
     "name": "stdout",
     "output_type": "stream",
     "text": [
      "[0.65438083]\n",
      "0.04484303154646535\n"
     ]
    }
   ],
   "source": [
    "x1p = np.reshape(Val[2], (-1, 1))\n",
    "lr.fit(x1p, y)\n",
    "plt.figure(figsize=(15,5))\n",
    "plt.scatter(Val[0], y, label=cd.index[0])\n",
    "plt.scatter(Val[1], y, label=cd.index[1])\n",
    "plt.scatter(Val[2], y, label=cd.index[2])\n",
    "plt.scatter(Val[3], y, label=cd.index[3])\n",
    "plt.scatter(Val[4], y, label=cd.index[4])\n",
    "plt.plot(x1p,lr.predict(x1p), label='Предсказание', c='red')\n",
    "plt.xlabel('Страны, коррелирующие с Россией')\n",
    "plt.ylabel('Россия')\n",
    "plt.legend()\n",
    "plt.show()\n",
    "print(modelo.steps[1][1].coef_)\n",
    "print(modelo.steps[1][1].intercept_)"
   ]
  },
  {
   "cell_type": "code",
   "execution_count": 119,
   "id": "b4f3787d",
   "metadata": {},
   "outputs": [
    {
     "name": "stdout",
     "output_type": "stream",
     "text": [
      "[0.69922386]\n"
     ]
    }
   ],
   "source": [
    "x = 1\n",
    "a = modelo.steps[1][1].intercept_ + modelo.steps[1][1].coef_ * x\n",
    "print(a)"
   ]
  },
  {
   "cell_type": "code",
   "execution_count": 118,
   "id": "9ca98904",
   "metadata": {},
   "outputs": [
    {
     "name": "stdout",
     "output_type": "stream",
     "text": [
      "[18604848.87304747]\n"
     ]
    }
   ],
   "source": [
    "a = a * (max(dfc['Russia']) - min(dfc['Russia'])) + min(dfc['Russia'])\n",
    "print(a)"
   ]
  },
  {
   "cell_type": "code",
   "execution_count": 25,
   "id": "2fad1cc4",
   "metadata": {},
   "outputs": [
    {
     "data": {
      "image/png": "[encoded data removed]",
      "text/plain": [
       "<Figure size 432x288 with 1 Axes>"
      ]
     },
     "metadata": {
      "needs_background": "light"
     },
     "output_type": "display_data"
    }
   ],
   "source": [
    "plt.plot(dfcsr['Russia'])\n",
    "plt.plot(dfcsr['Europe'])\n",
    "plt.show()"
   ]
  },
  {
   "cell_type": "code",
   "execution_count": 97,
   "id": "f619c7e8",
   "metadata": {},
   "outputs": [],
   "source": [
    "#xaxiss = np.reshape(xaxis, (-1, 1))\n",
    "model = lr.fit(np.reshape(dfcsr.index, (-1, 1)), dfcsr[['Russia', 'United Kingdom']])"
   ]
  },
  {
   "cell_type": "code",
   "execution_count": null,
   "id": "2465d3b0",
   "metadata": {},
   "outputs": [],
   "source": []
  },
  {
   "cell_type": "code",
   "execution_count": null,
   "id": "22b95394",
   "metadata": {},
   "outputs": [],
   "source": []
  },
  {
   "cell_type": "code",
   "execution_count": null,
   "id": "4a35a526",
   "metadata": {},
   "outputs": [],
   "source": []
  },
  {
   "cell_type": "code",
   "execution_count": null,
   "id": "2a4040f5",
   "metadata": {},
   "outputs": [],
   "source": []
  },
  {
   "cell_type": "code",
   "execution_count": null,
   "id": "e04bee5d",
   "metadata": {},
   "outputs": [],
   "source": []
  },
  {
   "cell_type": "code",
   "execution_count": null,
   "id": "fd258a80",
   "metadata": {},
   "outputs": [],
   "source": []
  },
  {
   "cell_type": "code",
   "execution_count": null,
   "id": "67ee18b2",
   "metadata": {},
   "outputs": [],
   "source": []
  },
  {
   "cell_type": "code",
   "execution_count": 88,
   "id": "3d1fe04d",
   "metadata": {},
   "outputs": [
    {
     "name": "stdout",
     "output_type": "stream",
     "text": [
      "coefficient of determination: 0.018417095498703007\n",
      "intercept: [0.19477753 0.19374956 0.19098423 0.1950648  0.19272552]\n",
      "slope: [[0.00017815]\n",
      " [0.00017999]\n",
      " [0.00018726]\n",
      " [0.00017863]\n",
      " [0.00018255]]\n"
     ]
    }
   ],
   "source": [
    "r_sq = model.score(xaxiss, a.reshape(706,5))\n",
    "print('coefficient of determination:', r_sq)\n",
    "print('intercept:', model.intercept_)\n",
    "print('slope:', model.coef_)"
   ]
  },
  {
   "cell_type": "code",
   "execution_count": 90,
   "id": "1685d596",
   "metadata": {},
   "outputs": [
    {
     "name": "stdout",
     "output_type": "stream",
     "text": [
      "predicted response:\n",
      "[[0.19495567 0.19392955 0.19117148 0.19524344 0.19290807]\n",
      " [0.19513382 0.19410955 0.19135874 0.19542207 0.19309063]\n",
      " [0.19531197 0.19428954 0.191546   0.1956007  0.19327318]\n",
      " ...\n",
      " [0.32019391 0.32046602 0.32281395 0.32082187 0.32124248]\n",
      " [0.32037206 0.32064601 0.32300121 0.3210005  0.32142504]\n",
      " [0.32055021 0.32082601 0.32318847 0.32117913 0.32160759]]\n"
     ]
    }
   ],
   "source": [
    "y_pred = model.predict(xaxiss)\n",
    "print('predicted response:', y_pred, sep='\\n')"
   ]
  },
  {
   "cell_type": "code",
   "execution_count": 92,
   "id": "c28b2b4e",
   "metadata": {},
   "outputs": [
    {
     "ename": "ValueError",
     "evalue": "operands could not be broadcast together with shapes (5,1) (706,1) ",
     "output_type": "error",
     "traceback": [
      "\u001b[1;31m---------------------------------------------------------------------------\u001b[0m",
      "\u001b[1;31mValueError\u001b[0m                                Traceback (most recent call last)",
      "\u001b[1;32m<ipython-input-92-2158694a2601>\u001b[0m in \u001b[0;36m<module>\u001b[1;34m\u001b[0m\n\u001b[1;32m----> 1\u001b[1;33m \u001b[0my_pred\u001b[0m \u001b[1;33m=\u001b[0m \u001b[0mmodel\u001b[0m\u001b[1;33m.\u001b[0m\u001b[0mintercept_\u001b[0m \u001b[1;33m+\u001b[0m \u001b[0mnp\u001b[0m\u001b[1;33m.\u001b[0m\u001b[0msum\u001b[0m\u001b[1;33m(\u001b[0m\u001b[0mmodel\u001b[0m\u001b[1;33m.\u001b[0m\u001b[0mcoef_\u001b[0m \u001b[1;33m*\u001b[0m \u001b[0mxaxiss\u001b[0m\u001b[1;33m,\u001b[0m \u001b[0maxis\u001b[0m\u001b[1;33m=\u001b[0m\u001b[1;36m1\u001b[0m\u001b[1;33m)\u001b[0m\u001b[1;33m\u001b[0m\u001b[1;33m\u001b[0m\u001b[0m\n\u001b[0m",
      "\u001b[1;31mValueError\u001b[0m: operands could not be broadcast together with shapes (5,1) (706,1) "
     ]
    }
   ],
   "source": [
    "y_pred = model.intercept_ + np.sum(model.coef_ * xaxiss, axis=1)"
   ]
  },
  {
   "cell_type": "code",
   "execution_count": null,
   "id": "48ed5b8e",
   "metadata": {},
   "outputs": [],
   "source": []
  }
 ],
 "metadata": {
  "kernelspec": {
   "display_name": "Python 3 (ipykernel)",
   "language": "python",
   "name": "python3"
  },
  "language_info": {
   "codemirror_mode": {
    "name": "ipython",
    "version": 3
   },
   "file_extension": ".py",
   "mimetype": "text/x-python",
   "name": "python",
   "nbconvert_exporter": "python",
   "pygments_lexer": "ipython3",
   "version": "3.9.7"
  }
 },
 "nbformat": 4,
 "nbformat_minor": 5
}
